{
 "cells": [
  {
   "cell_type": "code",
   "execution_count": 1,
   "id": "f81429bc",
   "metadata": {},
   "outputs": [
    {
     "name": "stdout",
     "output_type": "stream",
     "text": [
      "Hello Sharma Ji\n"
     ]
    }
   ],
   "source": [
    "print(\"Hello Sharma Ji\")"
   ]
  },
  {
   "cell_type": "code",
   "execution_count": 15,
   "id": "bb087114",
   "metadata": {},
   "outputs": [
    {
     "name": "stdout",
     "output_type": "stream",
     "text": [
      "29\n",
      "vishal\n",
      "vishal sharma\n"
     ]
    }
   ],
   "source": [
    "#if i wrote int x then it give a error\n",
    "x =29\n",
    "print(x)\n",
    "x='vishal'\n",
    "print(x)\n",
    "y='sharma'\n",
    "print(x,y)"
   ]
  },
  {
   "cell_type": "code",
   "execution_count": 2,
   "id": "d9e55e1b",
   "metadata": {},
   "outputs": [
    {
     "name": "stdout",
     "output_type": "stream",
     "text": [
      "Give a veriable=7\n",
      "Give second variable=7\n",
      "\n",
      "1 \n",
      "2 2 \n",
      "3 3 3 \n",
      "4 4 4 4 \n",
      "5 5 5 5 5 \n",
      "6 6 6 6 6 6 \n",
      "7 7 7 7 7 7 7 \n",
      "8 8 8 8 8 8 8 8 \n",
      "9 9 9 9 9 9 9 9 9 \n",
      "10 10 10 10 10 10 10 10 10 10 \n",
      "11 11 11 11 11 11 11 11 11 11 11 \n",
      "12 12 12 12 12 12 12 12 12 12 12 12 \n",
      "13 13 13 13 13 13 13 13 13 13 13 13 13 \n",
      "14 14 14 14 14 14 14 14 14 14 14 14 14 14 \n"
     ]
    }
   ],
   "source": [
    "x=eval(input(\"Give a veriable=\"))\n",
    "y=eval(input(\"Give second variable=\"))\n",
    "if((x+y)%2==0):\n",
    "    for i in range (x+y+1):\n",
    "        for j in range (i):\n",
    "            print(i,end=\" \")\n",
    "        print(\"\\r\")\n",
    "            \n",
    "            "
   ]
  },
  {
   "cell_type": "code",
   "execution_count": 2,
   "id": "308d3036",
   "metadata": {},
   "outputs": [
    {
     "name": "stdout",
     "output_type": "stream",
     "text": [
      "hello\n"
     ]
    }
   ],
   "source": [
    "print(\"hello\")"
   ]
  },
  {
   "cell_type": "code",
   "execution_count": 3,
   "id": "4be1d1db",
   "metadata": {},
   "outputs": [
    {
     "name": "stdout",
     "output_type": "stream",
     "text": [
      "3 89.09 Pandit\n"
     ]
    }
   ],
   "source": [
    "x=3\n",
    "y=89.09\n",
    "z=\"Pandit\"\n",
    "print( x, y, z)"
   ]
  },
  {
   "cell_type": "code",
   "execution_count": 5,
   "id": "3775f625",
   "metadata": {},
   "outputs": [
    {
     "name": "stdout",
     "output_type": "stream",
     "text": [
      "<class 'int'>\n"
     ]
    }
   ],
   "source": [
    "print(type(x))"
   ]
  },
  {
   "cell_type": "code",
   "execution_count": 8,
   "id": "fd2421af",
   "metadata": {},
   "outputs": [
    {
     "name": "stdout",
     "output_type": "stream",
     "text": [
      "Give the principle value=67465\n",
      "Give a rate=3.9\n",
      "What is the time=5\n",
      "Simple interst is= 13155.675\n"
     ]
    }
   ],
   "source": [
    "#Simple interst\n",
    "principle_value=eval(input(\"Give the principle value=\"))\n",
    "rate=eval(input(\"Give a rate=\"))\n",
    "time=eval(input(\"What is the time=\"))\n",
    "si=(principle_value*rate*time)/100\n",
    "print(\"Simple interst is=\",si)\n"
   ]
  },
  {
   "cell_type": "code",
   "execution_count": 9,
   "id": "863c1b81",
   "metadata": {},
   "outputs": [
    {
     "name": "stdout",
     "output_type": "stream",
     "text": [
      "7\n",
      "78.9 Sharma\n"
     ]
    }
   ],
   "source": [
    "x,y,z=7,78.9,\"Sharma\"\n",
    "print(x)\n",
    "print(y,z)"
   ]
  },
  {
   "cell_type": "code",
   "execution_count": 10,
   "id": "04a71c4c",
   "metadata": {},
   "outputs": [
    {
     "name": "stdout",
     "output_type": "stream",
     "text": [
      "7\n"
     ]
    }
   ],
   "source": [
    "x=y=z=7\n",
    "print(x)"
   ]
  },
  {
   "cell_type": "code",
   "execution_count": 11,
   "id": "390ee781",
   "metadata": {},
   "outputs": [
    {
     "name": "stdout",
     "output_type": "stream",
     "text": [
      "7\n"
     ]
    }
   ],
   "source": [
    "print(y)"
   ]
  },
  {
   "cell_type": "code",
   "execution_count": 12,
   "id": "c727f918",
   "metadata": {},
   "outputs": [
    {
     "name": "stdout",
     "output_type": "stream",
     "text": [
      "7\n"
     ]
    }
   ],
   "source": [
    "print(y)"
   ]
  },
  {
   "cell_type": "code",
   "execution_count": null,
   "id": "f847be3f",
   "metadata": {},
   "outputs": [],
   "source": []
  }
 ],
 "metadata": {
  "kernelspec": {
   "display_name": "Python 3 (ipykernel)",
   "language": "python",
   "name": "python3"
  },
  "language_info": {
   "codemirror_mode": {
    "name": "ipython",
    "version": 3
   },
   "file_extension": ".py",
   "mimetype": "text/x-python",
   "name": "python",
   "nbconvert_exporter": "python",
   "pygments_lexer": "ipython3",
   "version": "3.9.7"
  }
 },
 "nbformat": 4,
 "nbformat_minor": 5
}
