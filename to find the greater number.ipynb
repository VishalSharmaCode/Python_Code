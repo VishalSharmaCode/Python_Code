{
 "cells": [
  {
   "cell_type": "code",
   "execution_count": 6,
   "id": "5d2c64e2",
   "metadata": {},
   "outputs": [
    {
     "ename": "SyntaxError",
     "evalue": "invalid syntax (Temp/ipykernel_16172/892040405.py, line 16)",
     "output_type": "error",
     "traceback": [
      "\u001b[1;36m  File \u001b[1;32m\"C:\\Users\\HP\\AppData\\Local\\Temp/ipykernel_16172/892040405.py\"\u001b[1;36m, line \u001b[1;32m16\u001b[0m\n\u001b[1;33m    else num3>num4:\u001b[0m\n\u001b[1;37m         ^\u001b[0m\n\u001b[1;31mSyntaxError\u001b[0m\u001b[1;31m:\u001b[0m invalid syntax\n"
     ]
    }
   ],
   "source": [
    "num1=int(input(\"first number\"))\n",
    "num2=int(input(\"second number\"))\n",
    "num3=int(input(\"third number\"))\n",
    "num4=int(input(\"fourth number\"))\n",
    "num5=int(input(\"fifth number\"))\n",
    "if num1>num2:\n",
    "    print(\"num1 is greater than num2\")\n",
    "elif num2>num3:\n",
    "    print(\"num2 is greater than num3\")\n",
    "elif num3>num4:\n",
    "    print(\"num3 is greater than num4\")\n",
    "elif num4>num5:\n",
    "    print(\"num3 is greater than num4\")\n",
    "elif num3>num4:\n",
    "    print(\"num3 is greater than num4\")\n",
    "else num3>num4:\n",
    "    print(\"num3 is greater than num4\")\n",
    "    "
   ]
  }
 ],
 "metadata": {
  "kernelspec": {
   "display_name": "Python 3 (ipykernel)",
   "language": "python",
   "name": "python3"
  },
  "language_info": {
   "codemirror_mode": {
    "name": "ipython",
    "version": 3
   },
   "file_extension": ".py",
   "mimetype": "text/x-python",
   "name": "python",
   "nbconvert_exporter": "python",
   "pygments_lexer": "ipython3",
   "version": "3.9.7"
  }
 },
 "nbformat": 4,
 "nbformat_minor": 5
}
