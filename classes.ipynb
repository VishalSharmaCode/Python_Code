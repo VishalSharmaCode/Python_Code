{
 "cells": [
  {
   "cell_type": "code",
   "execution_count": 4,
   "id": "7610e954",
   "metadata": {},
   "outputs": [
    {
     "name": "stdout",
     "output_type": "stream",
     "text": [
      "<__main__.Demo object at 0x00000263B8D00F10>\n"
     ]
    }
   ],
   "source": [
    "class Demo:\n",
    "    pass\n",
    "D1=Demo()\n",
    "print(D1)"
   ]
  },
  {
   "cell_type": "code",
   "execution_count": 6,
   "id": "a01ffd1b",
   "metadata": {},
   "outputs": [
    {
     "name": "stdout",
     "output_type": "stream",
     "text": [
      "sharma\n"
     ]
    }
   ],
   "source": [
    "class Demo:\n",
    "    print(\"sharma\")\n",
    "D1=Demo()\n",
    "#print(D1)"
   ]
  },
  {
   "cell_type": "code",
   "execution_count": 7,
   "id": "ce5bc243",
   "metadata": {},
   "outputs": [
    {
     "name": "stdout",
     "output_type": "stream",
     "text": [
      "Give the radius:=8\n",
      "radius:= 8\n",
      "Area of circle:= 201.06192982974676\n"
     ]
    }
   ],
   "source": [
    "import math\n",
    "class circle:\n",
    "    def calculate(self, radius):\n",
    "        print(\"radius:=\", radius)\n",
    "        area=math.pi*radius**2\n",
    "        return area\n",
    "ob1=circle()\n",
    "print(\"Area of circle:=\", ob1.calculate(int(input(\"Give the radius:=\"))))"
   ]
  },
  {
   "cell_type": "code",
   "execution_count": 13,
   "id": "b743092f",
   "metadata": {},
   "outputs": [
    {
     "name": "stdout",
     "output_type": "stream",
     "text": [
      "length= 4\n",
      "width= 6\n",
      "area of rectangle= 24\n"
     ]
    }
   ],
   "source": [
    "import math \n",
    "class ractangle:\n",
    "    def calculate(self, l, b):\n",
    "        print(\"length=\",l)\n",
    "        print(\"width=\",b)\n",
    "        area=l*b\n",
    "        return area\n",
    "ob1=ractangle()\n",
    "print(\"area of rectangle:=\",ob1.calculate(4,6))"
   ]
  },
  {
   "cell_type": "code",
   "execution_count": 15,
   "id": "2f8e11f7",
   "metadata": {},
   "outputs": [
    {
     "name": "stdout",
     "output_type": "stream",
     "text": [
      "local variable x is= 30\n",
      "instance variable x is= 5\n"
     ]
    }
   ],
   "source": [
    "class prac:\n",
    "    x=5\n",
    "    def disp(self, x):\n",
    "        x=30\n",
    "        print(\"local variable x is:=\",x)\n",
    "        print(\"instance variable x is:=\",self.x)\n",
    "ob=prac()\n",
    "ob.disp(50)"
   ]
  },
  {
   "cell_type": "code",
   "execution_count": 3,
   "id": "d88ced1b",
   "metadata": {},
   "outputs": [
    {
     "name": "stdout",
     "output_type": "stream",
     "text": [
      "in mathod A\n",
      "in matho B\n"
     ]
    }
   ],
   "source": [
    "class self_demo:\n",
    "    def method_A(self):\n",
    "        print('in mathod A')\n",
    "    def method_b(self):\n",
    "        print(\"in matho B\")\n",
    "q=self_demo()\n",
    "q.method_A()\n",
    "q.method_b()"
   ]
  },
  {
   "cell_type": "code",
   "execution_count": 19,
   "id": "97b580ac",
   "metadata": {},
   "outputs": [
    {
     "name": "stdout",
     "output_type": "stream",
     "text": [
      "in mathod A\n",
      "in matho B\n",
      "in mathod A\n"
     ]
    }
   ],
   "source": [
    "class self_demo:\n",
    "    def method_A(self):\n",
    "        print('in mathod A')\n",
    "    def method_b(self):\n",
    "        print(\"in mathod B\")\n",
    "        self.method_A()\n",
    "q=self_demo()\n",
    "q.method_A()\n",
    "q.method_b()"
   ]
  },
  {
   "cell_type": "code",
   "execution_count": 21,
   "id": "60993f72",
   "metadata": {},
   "outputs": [
    {
     "name": "stdout",
     "output_type": "stream",
     "text": [
      "give a namevishal\n",
      "Name= vishal\n",
      "enter age20\n",
      "Age= 20\n"
     ]
    }
   ],
   "source": [
    "class displayDemo:\n",
    "    name=''\n",
    "    age=''\n",
    "    def read(self):\n",
    "        name=input(\"give a name\")\n",
    "        print(\"Name=\",name)\n",
    "        age=eval(input(\"enter age\"))\n",
    "        print('Age=',age)\n",
    "d1=displayDemo()\n",
    "d1.read()"
   ]
  },
  {
   "cell_type": "code",
   "execution_count": 22,
   "id": "150c5f0a",
   "metadata": {},
   "outputs": [
    {
     "data": {
      "text/plain": [
       "['__class__',\n",
       " '__delattr__',\n",
       " '__dict__',\n",
       " '__dir__',\n",
       " '__doc__',\n",
       " '__eq__',\n",
       " '__format__',\n",
       " '__ge__',\n",
       " '__getattribute__',\n",
       " '__gt__',\n",
       " '__hash__',\n",
       " '__init__',\n",
       " '__init_subclass__',\n",
       " '__le__',\n",
       " '__lt__',\n",
       " '__module__',\n",
       " '__ne__',\n",
       " '__new__',\n",
       " '__reduce__',\n",
       " '__reduce_ex__',\n",
       " '__repr__',\n",
       " '__setattr__',\n",
       " '__sizeof__',\n",
       " '__str__',\n",
       " '__subclasshook__',\n",
       " '__weakref__',\n",
       " 'age',\n",
       " 'name',\n",
       " 'read']"
      ]
     },
     "execution_count": 22,
     "metadata": {},
     "output_type": "execute_result"
    }
   ],
   "source": [
    "dir(displayDemo)"
   ]
  },
  {
   "cell_type": "code",
   "execution_count": 23,
   "id": "3c12e56d",
   "metadata": {},
   "outputs": [
    {
     "data": {
      "text/plain": [
       "mappingproxy({'__module__': '__main__',\n",
       "              'name': '',\n",
       "              'age': '',\n",
       "              'read': <function __main__.displayDemo.read(self)>,\n",
       "              '__dict__': <attribute '__dict__' of 'displayDemo' objects>,\n",
       "              '__weakref__': <attribute '__weakref__' of 'displayDemo' objects>,\n",
       "              '__doc__': None})"
      ]
     },
     "execution_count": 23,
     "metadata": {},
     "output_type": "execute_result"
    }
   ],
   "source": [
    "displayDemo.__dict__"
   ]
  },
  {
   "cell_type": "code",
   "execution_count": 14,
   "id": "9a0a0c7c",
   "metadata": {},
   "outputs": [
    {
     "name": "stdout",
     "output_type": "stream",
     "text": [
      "Name= Vishal\n",
      "Name= Vishal\n",
      "bank account= 11212512\n"
     ]
    }
   ],
   "source": [
    "class person:\n",
    "    def __init__(self):\n",
    "        self.Name='Vishal'\n",
    "        self.__BankAccNo=11212512\n",
    "    def display(self):\n",
    "        print('Name=',self.Name)\n",
    "        print('bank account=', self.__BankAccNo)\n",
    "P=person()\n",
    "print('Name=',P.Name)\n",
    "P.display()\n"
   ]
  },
  {
   "cell_type": "code",
   "execution_count": 11,
   "id": "5a4811a9",
   "metadata": {},
   "outputs": [
    {
     "name": "stdout",
     "output_type": "stream",
     "text": [
      "Give the value of length=8\n",
      "Give the value of width=9\n",
      "Give the value of hight=6\n",
      "volume= 432\n"
     ]
    }
   ],
   "source": [
    "class volume:\n",
    "    length=0\n",
    "    width=0\n",
    "    hight=0\n",
    "    def __init__(self):\n",
    "        self.length=int(input(\"Give the value of length=\"))\n",
    "        self.width=int(input(\"Give the value of width=\"))\n",
    "        self.hight=int(input(\"Give the value of hight=\"))\n",
    "    def box(self):\n",
    "        self.volume1=self.length*self.width*self.hight\n",
    "        print(\"volume=\",self.volume1)\n",
    "p=volume()\n",
    "p.box()"
   ]
  },
  {
   "cell_type": "code",
   "execution_count": 3,
   "id": "e3314652",
   "metadata": {},
   "outputs": [
    {
     "name": "stdout",
     "output_type": "stream",
     "text": [
      "5\n",
      "3\n",
      "4\n",
      "9\n"
     ]
    }
   ],
   "source": [
    "class demo:\n",
    "    a=5\n",
    "    b=3\n",
    "c=demo()\n",
    "print(c.a)\n",
    "print(c.b)\n",
    "a=4\n",
    "b=9\n",
    "print(a)\n",
    "print(b)"
   ]
  },
  {
   "cell_type": "code",
   "execution_count": 7,
   "id": "8037abc4",
   "metadata": {},
   "outputs": [
    {
     "name": "stdout",
     "output_type": "stream",
     "text": [
      "sum= 8\n"
     ]
    }
   ],
   "source": [
    "class demo:\n",
    "    def calculate(self):\n",
    "        a=3\n",
    "        b=5\n",
    "        sum1=a+b\n",
    "        print(\"sum=\",sum1)\n",
    "ob1=demo()\n",
    "ob1.calculate()\n",
    "\n"
   ]
  },
  {
   "cell_type": "code",
   "execution_count": 8,
   "id": "315caeb8",
   "metadata": {},
   "outputs": [
    {
     "name": "stdout",
     "output_type": "stream",
     "text": [
      "John\n",
      "36\n"
     ]
    }
   ],
   "source": [
    "class Person:\n",
    "    def __init__(self, name, age):\n",
    "        self.name = name\n",
    "        self.age = age\n",
    "\n",
    "p1 = Person(\"John\", 36)\n",
    "\n",
    "print(p1.name)\n",
    "print(p1.age)"
   ]
  },
  {
   "cell_type": "code",
   "execution_count": 1,
   "id": "5be65393",
   "metadata": {},
   "outputs": [
    {
     "name": "stdout",
     "output_type": "stream",
     "text": [
      "0\n",
      "0\n",
      "10\n",
      "10\n"
     ]
    }
   ],
   "source": [
    "class Rectangle():\n",
    "    len1=0\n",
    "    bre=0\n",
    "r1=Rectangle()\n",
    "r2=Rectangle()\n",
    "print(r1.len1)\n",
    "print(r2.bre)\n",
    "r1.len1=10\n",
    "r2.bre=10\n",
    "print(r1.len1)\n",
    "print(r2.bre)"
   ]
  },
  {
   "cell_type": "code",
   "execution_count": 1,
   "id": "003feeda",
   "metadata": {},
   "outputs": [
    {
     "ename": "ModuleNotFoundError",
     "evalue": "No module named 'mediapipe'",
     "output_type": "error",
     "traceback": [
      "\u001b[1;31m---------------------------------------------------------------------------\u001b[0m",
      "\u001b[1;31mModuleNotFoundError\u001b[0m                       Traceback (most recent call last)",
      "\u001b[1;32m~\\AppData\\Local\\Temp/ipykernel_15236/3929729063.py\u001b[0m in \u001b[0;36m<module>\u001b[1;34m\u001b[0m\n\u001b[0;32m      1\u001b[0m \u001b[1;32mimport\u001b[0m \u001b[0mcv2\u001b[0m\u001b[1;33m\u001b[0m\u001b[1;33m\u001b[0m\u001b[0m\n\u001b[1;32m----> 2\u001b[1;33m \u001b[1;32mimport\u001b[0m \u001b[0mmediapipe\u001b[0m \u001b[1;32mas\u001b[0m \u001b[0mmp\u001b[0m\u001b[1;33m\u001b[0m\u001b[1;33m\u001b[0m\u001b[0m\n\u001b[0m\u001b[0;32m      3\u001b[0m \u001b[1;32mclass\u001b[0m \u001b[0mhandTracker\u001b[0m\u001b[1;33m(\u001b[0m\u001b[1;33m)\u001b[0m\u001b[1;33m:\u001b[0m\u001b[1;33m\u001b[0m\u001b[1;33m\u001b[0m\u001b[0m\n\u001b[0;32m      4\u001b[0m     \u001b[1;32mdef\u001b[0m \u001b[0m__init__\u001b[0m\u001b[1;33m(\u001b[0m\u001b[0mself\u001b[0m\u001b[1;33m,\u001b[0m \u001b[0mmode\u001b[0m\u001b[1;33m=\u001b[0m\u001b[1;32mFalse\u001b[0m\u001b[1;33m,\u001b[0m \u001b[0mmaxHands\u001b[0m\u001b[1;33m=\u001b[0m\u001b[1;36m2\u001b[0m\u001b[1;33m,\u001b[0m \u001b[0mdetectionCon\u001b[0m\u001b[1;33m=\u001b[0m\u001b[1;36m0.5\u001b[0m\u001b[1;33m,\u001b[0m\u001b[0mmodelComplexity\u001b[0m\u001b[1;33m=\u001b[0m\u001b[1;36m1\u001b[0m\u001b[1;33m,\u001b[0m\u001b[0mtrackCon\u001b[0m\u001b[1;33m=\u001b[0m\u001b[1;36m0.5\u001b[0m\u001b[1;33m)\u001b[0m\u001b[1;33m:\u001b[0m\u001b[1;33m\u001b[0m\u001b[1;33m\u001b[0m\u001b[0m\n\u001b[0;32m      5\u001b[0m         \u001b[0mself\u001b[0m\u001b[1;33m.\u001b[0m\u001b[0mmode\u001b[0m \u001b[1;33m=\u001b[0m \u001b[0mmode\u001b[0m\u001b[1;33m\u001b[0m\u001b[1;33m\u001b[0m\u001b[0m\n",
      "\u001b[1;31mModuleNotFoundError\u001b[0m: No module named 'mediapipe'"
     ]
    }
   ],
   "source": [
    "import cv2\n",
    "import mediapipe as mp\n",
    "class handTracker():\n",
    "    def __init__(self, mode=False, maxHands=2, detectionCon=0.5,modelComplexity=1,trackCon=0.5):\n",
    "        self.mode = mode\n",
    "        self.maxHands = maxHands\n",
    "        self.detectionCon = detectionCon\n",
    "        self.modelComplex = modelComplexity\n",
    "        self.trackCon = trackCon\n",
    "        self.mpHands = mp.solutions.hands\n",
    "        self.hands = self.mpHands.Hands(self.mode, self.maxHands,self.modelComplex,\n",
    "                                        self.detectionCon, self.trackCon)\n",
    "        self.mpDraw = mp.solutions.drawing_utils\n",
    "def handsFinder(self,image,draw=True):\n",
    "        imageRGB = cv2.cvtColor(image,cv2.COLOR_BGR2RGB)\n",
    "        self.results = self.hands.process(imageRGB)\n",
    "\n",
    "        if self.results.multi_hand_landmarks:\n",
    "            for handLms in self.results.multi_hand_landmarks:\n",
    "\n",
    "                if draw:\n",
    "                    self.mpDraw.draw_landmarks(image, handLms, self.mpHands.HAND_CONNECTIONS)\n",
    "        return image\n",
    "def positionFinder(self,image, handNo=0, draw=True):\n",
    "        lmlist = []\n",
    "        if self.results.multi_hand_landmarks:\n",
    "            Hand = self.results.multi_hand_landmarks[handNo]\n",
    "            for id, lm in enumerate(Hand.landmark):\n",
    "                h,w,c = image.shape\n",
    "                cx,cy = int(lm.x*w), int(lm.y*h)\n",
    "                lmlist.append([id,cx,cy])\n",
    "            if draw:\n",
    "                cv2.circle(image,(cx,cy), 15 , (255,0,255), cv2.FILLED)\n",
    "\n",
    "        return lmlist\n",
    "def main():\n",
    "    cap = cv2.VideoCapture(0)\n",
    "    tracker = handTracker()\n",
    "\n",
    "    while True:\n",
    "        success,image = cap.read()\n",
    "        image = tracker.handsFinder(image)\n",
    "        lmList = tracker.positionFinder(image)\n",
    "        if len(lmList) != 0:\n",
    "            print(lmList[4])\n",
    "\n",
    "        cv2.imshow(\"Video\",image)\n",
    "        cv2.waitKey(1)\n",
    "if __name__ == \"__main__\":\n",
    "    main()"
   ]
  },
  {
   "cell_type": "code",
   "execution_count": null,
   "id": "7718532b",
   "metadata": {},
   "outputs": [],
   "source": []
  }
 ],
 "metadata": {
  "kernelspec": {
   "display_name": "Python 3 (ipykernel)",
   "language": "python",
   "name": "python3"
  },
  "language_info": {
   "codemirror_mode": {
    "name": "ipython",
    "version": 3
   },
   "file_extension": ".py",
   "mimetype": "text/x-python",
   "name": "python",
   "nbconvert_exporter": "python",
   "pygments_lexer": "ipython3",
   "version": "3.9.7"
  }
 },
 "nbformat": 4,
 "nbformat_minor": 5
}
