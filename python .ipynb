{
 "cells": [
  {
   "cell_type": "code",
   "execution_count": 3,
   "id": "56fa6180",
   "metadata": {},
   "outputs": [
    {
     "name": "stdout",
     "output_type": "stream",
     "text": [
      "The value of any value\n",
      "4\n",
      "the ASCII value of'4'is 52\n"
     ]
    }
   ],
   "source": [
    "print(\"The value of any value\")\n",
    "c=input()\n",
    "print(\"the ASCII value of'\"+c+\"'is\", ord(c))"
   ]
  },
  {
   "cell_type": "code",
   "execution_count": 4,
   "id": "0df5730d",
   "metadata": {},
   "outputs": [
    {
     "name": "stdout",
     "output_type": "stream",
     "text": [
      "The value of any value\n",
      "f\n",
      "the ASCII value of'f'is 102\n",
      "give another variable\n",
      "S\n",
      "the ASCII value of'S'is 83\n",
      "diffrence bvetween these value\n",
      "diffrence of the value 19\n"
     ]
    }
   ],
   "source": [
    "print(\"The value of any value\")\n",
    "c=input()\n",
    "print(\"the ASCII value of'\"+c+\"'is\", ord(c))\n",
    "print(\"give another variable\")\n",
    "b=input()\n",
    "print(\"the ASCII value of'\"+b+\"'is\", ord(b))\n",
    "print(\"diffrence between these value\")\n",
    "z=(ord(c)-ord(b))\n",
    "print(\"diffrence of the value\",z)"
   ]
  },
  {
   "cell_type": "code",
   "execution_count": 6,
   "id": "5ab68a9d",
   "metadata": {},
   "outputs": [
    {
     "data": {
      "text/plain": [
       "12"
      ]
     },
     "execution_count": 6,
     "metadata": {},
     "output_type": "execute_result"
    }
   ],
   "source": [
    "7+5\n"
   ]
  },
  {
   "cell_type": "code",
   "execution_count": 8,
   "id": "a7df8d8b",
   "metadata": {},
   "outputs": [
    {
     "data": {
      "text/plain": [
       "32239467607127560459801123022537853733387128786128121429411493357969924496435885172957706132331146217900653817102056284520489"
      ]
     },
     "execution_count": 8,
     "metadata": {},
     "output_type": "execute_result"
    }
   ],
   "source": [
    "77**66"
   ]
  },
  {
   "cell_type": "code",
   "execution_count": null,
   "id": "6be27fd3",
   "metadata": {},
   "outputs": [
    {
     "name": "stdout",
     "output_type": "stream",
     "text": [
      "give first value a=\n"
     ]
    }
   ],
   "source": [
    "#decision making\n",
    "print(\"give first value a=\")\n",
    "a=eval(input())\n",
    "print(\"give second value b=\")\n",
    "b=eval(input())\n",
    "if a>b:\n",
    "    print(\"a is greater than b\")\n",
    "else:\n",
    "    print(\"b is greater than a\")\n",
    "    "
   ]
  },
  {
   "cell_type": "code",
   "execution_count": null,
   "id": "467e3775",
   "metadata": {},
   "outputs": [],
   "source": [
    "'''wrte a pro a day of the week in entered day of the week is bw 1 ann 7\n",
    "display the day'''\n",
    "day=int(input(\"enter the numberc of day\"))\n",
    "if day==1:\n",
    "    print(\"monday\")\n",
    "elif day==2:\n",
    "    print(\"tuesday\")\n",
    "elif day==2:\n",
    "    print(\"wednesday\")\n",
    "elif day==:\n",
    "    print(\"thursday\")\n",
    "elif day==5:\n",
    "    print(\"friday\")\n",
    "elif day==6:\n",
    "    print(\"satruday\")\n",
    "elif day==7:\n",
    "    print(\"sunday\")\n",
    "else:\n",
    "    print(\"given the wrong day\")\n",
    "    \n",
    "    \n"
   ]
  }
 ],
 "metadata": {
  "kernelspec": {
   "display_name": "Python 3 (ipykernel)",
   "language": "python",
   "name": "python3"
  },
  "language_info": {
   "codemirror_mode": {
    "name": "ipython",
    "version": 3
   },
   "file_extension": ".py",
   "mimetype": "text/x-python",
   "name": "python",
   "nbconvert_exporter": "python",
   "pygments_lexer": "ipython3",
   "version": "3.9.7"
  }
 },
 "nbformat": 4,
 "nbformat_minor": 5
}
