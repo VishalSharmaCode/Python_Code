{
 "cells": [
  {
   "cell_type": "code",
   "execution_count": 3,
   "id": "4e2bd362",
   "metadata": {},
   "outputs": [
    {
     "name": "stdout",
     "output_type": "stream",
     "text": [
      "give the number8\n",
      "count= 1\n",
      "count= 2\n",
      "count= 3\n",
      "count= 4\n",
      "count= 5\n",
      "count= 6\n",
      "count= 7\n",
      "count= 8\n",
      "sum= 36\n"
     ]
    }
   ],
   "source": [
    "sum=0\n",
    "n=int(input(\"give the number\"))\n",
    "count=1\n",
    "while count<=n:\n",
    "    print(\"count=\",count)\n",
    "    sum=sum+count\n",
    "    count+=1\n",
    "print(\"sum=\",sum)"
   ]
  },
  {
   "cell_type": "code",
   "execution_count": null,
   "id": "350b363f",
   "metadata": {},
   "outputs": [],
   "source": [
    "sum = 0\n",
    "n=int(input(\"give any number\\\"))\n",
    "while (n != 0):\n",
    "    sum = sum + (n % 10)\n",
    "    n = n//10\n",
    "print(\"sum=\",sum)"
   ]
  }
 ],
 "metadata": {
  "kernelspec": {
   "display_name": "Python 3 (ipykernel)",
   "language": "python",
   "name": "python3"
  },
  "language_info": {
   "codemirror_mode": {
    "name": "ipython",
    "version": 3
   },
   "file_extension": ".py",
   "mimetype": "text/x-python",
   "name": "python",
   "nbconvert_exporter": "python",
   "pygments_lexer": "ipython3",
   "version": "3.9.7"
  }
 },
 "nbformat": 4,
 "nbformat_minor": 5
}
