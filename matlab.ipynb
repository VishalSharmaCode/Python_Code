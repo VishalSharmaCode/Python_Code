{
 "cells": [
  {
   "cell_type": "code",
   "execution_count": null,
   "id": "847a0429",
   "metadata": {},
   "outputs": [],
   "source": [
    "a=int(input(\"give a number=\"))\n",
    "b=eval(input(\"give second number=\"))\n",
    "c=a+b\n",
    "print(\"sum of two num\",c)"
   ]
  },
  {
   "cell_type": "code",
   "execution_count": 2,
   "id": "5d7a3e38",
   "metadata": {},
   "outputs": [
    {
     "data": {
      "image/png": "[encoded data removed]",
      "text/plain": [
       "<Figure size 432x288 with 1 Axes>"
      ]
     },
     "metadata": {
      "needs_background": "light"
     },
     "output_type": "display_data"
    }
   ],
   "source": [
    "import matplotlib.pyplot as plt\n",
    "x=[\"math\", \"hindi\", \"english\"]\n",
    "y=[90,30,20]\n",
    "plt.plot(x,y)\n",
    "plt.xlabel(\"subject\")\n",
    "plt.ylabel(\"marks\")\n",
    "plt.title(\"student marks\")\n",
    "plt.show()"
   ]
  },
  {
   "cell_type": "code",
   "execution_count": 5,
   "id": "4485bd17",
   "metadata": {},
   "outputs": [
    {
     "data": {
      "image/png": "[encoded data removed]",
      "text/plain": [
       "<Figure size 432x288 with 1 Axes>"
      ]
     },
     "metadata": {
      "needs_background": "light"
     },
     "output_type": "display_data"
    }
   ],
   "source": [
    "import matplotlib.pyplot as plt\n",
    "import numpy as np\n",
    "x=np.linspace(-10, 10, 30)\n",
    "y=x**2\n",
    "z=x**3\n",
    "plt.plot(x,z,color='red')\n",
    "plt.plot(x,y,'*')\n",
    "plt.xlabel(\"x-value\")\n",
    "plt.ylabel(\"y-value\")\n",
    "plt.title(\"second exp\")\n",
    "plt.grid(True)\n",
    "plt.show()"
   ]
  },
  {
   "cell_type": "code",
   "execution_count": 12,
   "id": "ab320ae0",
   "metadata": {},
   "outputs": [
    {
     "name": "stdout",
     "output_type": "stream",
     "text": [
      "mean= 0.425\n",
      "median is= 0.4\n",
      "Standered derivation= 0.19202864369671518\n"
     ]
    }
   ],
   "source": [
    "import numpy as np\n",
    "from collections import Counter\n",
    "sum1=0\n",
    "l1=[0.5,0.7,0.3,0.2] \n",
    "for i in l1:\n",
    "    sum1=sum1+i\n",
    "n=len(l1)\n",
    "mean=sum1/n\n",
    "print(\"mean=\",mean)\n",
    "l1.sort()\n",
    "if n%2==0:\n",
    "    median1=l1[n//2]\n",
    "    median2=l1[n//2-1]\n",
    "    median=(median1+median2)/2\n",
    "else:\n",
    "    median=l1[n//2]\n",
    "print(\"median is=\",median)\n",
    "standared_derivation=np.std(l1)\n",
    "print(\"Standered derivation=\",standared_derivation)\n",
    "\n",
    "data=Counter(l1)\n",
    "getmode=dict(data)\n",
    "mode=[k for k, v in getmode.items() if v==max(list(data.values()))]\n",
    "if len(mode)==n:\n",
    "    getmode=\"no mode found\"\n",
    "else:\n",
    "    getmode=\"mode=\"+','.join(map(str,mode))\n",
    "    print(getmode)\n",
    "\n",
    "\n",
    "\n",
    "\n",
    "\n",
    "    "
   ]
  },
  {
   "cell_type": "code",
   "execution_count": 11,
   "id": "3b79b02d",
   "metadata": {},
   "outputs": [
    {
     "name": "stdout",
     "output_type": "stream",
     "text": [
      "arr :  [0.5, 0.7, 0.3, 0.2]\n",
      "std of arr :  0.19202864369671518\n",
      "\n",
      "More precision with float32\n",
      "std of arr :  0.19202864\n",
      "\n",
      "More accuracy with float64\n",
      "std of arr :  0.19202864369671518\n"
     ]
    }
   ],
   "source": [
    "#Standerad derivaation\n",
    "\n",
    "import numpy as np\n",
    "arr = [0.5,0.7,0.3,0.2] \n",
    "  \n",
    "print(\"arr : \", arr) \n",
    "print(\"std of arr : \", np.std(arr))\n",
    "  \n",
    "print (\"\\nMore precision with float32\")\n",
    "print(\"std of arr : \", np.std(arr, dtype = np.float32))\n",
    "  \n",
    "print (\"\\nMore accuracy with float64\")\n",
    "print(\"std of arr : \", np.std(arr, dtype = np.float64))"
   ]
  },
  {
   "cell_type": "code",
   "execution_count": 10,
   "id": "8685cdab",
   "metadata": {},
   "outputs": [
    {
     "name": "stdout",
     "output_type": "stream",
     "text": [
      "0.19202864369671518\n"
     ]
    }
   ],
   "source": [
    "import math\n",
    "\n",
    "xs = [0.5,0.7,0.3,0.2]     # values (must be floats!)\n",
    "mean = sum(xs) / len(xs)   # mean\n",
    "var  = sum(pow(x-mean,2) for x in xs) / len(xs)  # variance\n",
    "std  = math.sqrt(var)  # \n",
    "print(std)"
   ]
  },
  {
   "cell_type": "code",
   "execution_count": 13,
   "id": "721c5832",
   "metadata": {},
   "outputs": [
    {
     "name": "stdout",
     "output_type": "stream",
     "text": [
      "Standard Deviation of the sample is 14.2556031868954 \n",
      "Mean of the sample is 13.666666666666666 \n"
     ]
    }
   ],
   "source": [
    "import numpy as np #for declaring an array or simply use list\n",
    "\n",
    "def mean(data):\n",
    "    n = len(data)\n",
    "    mean = sum(data) / n\n",
    "    return mean\n",
    "\n",
    "def variance(data):\n",
    "    n = len(data)\n",
    "    mean = sum(data) / n\n",
    "    deviations = [(x - mean) ** 2 for x in data]\n",
    "    variance = sum(deviations) / n\n",
    "    return variance\n",
    "\n",
    "def stdev(data):\n",
    "    import math\n",
    "    var = variance(data)\n",
    "    std_dev = math.sqrt(var)\n",
    "    return std_dev\n",
    "\n",
    "data = np.array([7,5,4,9,12,45])\n",
    "\n",
    "print(\"Standard Deviation of the sample is % s \"% (stdev(data)))\n",
    "print(\"Mean of the sample is % s \" % (mean(data))) "
   ]
  },
  {
   "cell_type": "code",
   "execution_count": 15,
   "id": "a007cfdb",
   "metadata": {},
   "outputs": [
    {
     "name": "stdout",
     "output_type": "stream",
     "text": [
      "mean1= 44.14 mean2= 47.8\n",
      "Sd1= 548.69 sd2= 294.56\n",
      "combined mean= 45.67\n",
      "sd1= 2.32 sd2= 4.55\n",
      "combined variance= 446.06\n",
      "cofficient of variance 0.08\n"
     ]
    }
   ],
   "source": [
    "def mean(arr):\n",
    "    res=sum(arr)/len(arr)\n",
    "    return res\n",
    "def sd(arr,n):\n",
    "    sum=0;\n",
    "    for i in range(n):\n",
    "        sum=sum+((arr[i]-mean(arr))*(arr[i]-mean(arr)))\n",
    "    sdd=sum/n\n",
    "    return sdd\n",
    "def combinedVariance(A1,A2):\n",
    "    n=len(A1)\n",
    "    m=len(A2)\n",
    "    mean1=mean(A1)\n",
    "    mean2=mean(A2)\n",
    "    print(\"mean1=\",round(mean1,2),\"mean2=\",round(mean2,2))\n",
    "    sd1=sd(A1,n)\n",
    "    sd2=sd(A2,m)\n",
    "    print(\"Sd1=\",round(sd1,2),\"sd2=\",round(sd2,2))\n",
    "    combinedMean=(n*mean1+m*mean2)/(n+m)\n",
    "    print(\"combined mean=\",round(combinedMean,2))\n",
    "    d1_squre=((mean1-combinedMean)**2)\n",
    "    d2_squre=((mean2-combinedMean)**2)\n",
    "    print(\"sd1=\",round(d1_squre,2),\"sd2=\",round(d2_squre,2))\n",
    "    comb_var=(n*(sd1+d1_squre)+m*(sd2+d2_squre))/(n+m)\n",
    "    print(\"combined variance=\",round(comb_var,2))\n",
    "def coffOfVariance(A1):\n",
    "    n=len(A1)\n",
    "    mean1=mean(A1)\n",
    "    sd1=sd(A1,n)\n",
    "    cov=mean1/sd1\n",
    "    print(\"cofficient of variance\",round(cov,2))\n",
    "A1=[24,46,35,79,13,77,35]\n",
    "A2=[66,68,35,24,46]\n",
    "n=len(A1)\n",
    "m=len(A2)\n",
    "combinedVariance(A1,A2)\n",
    "coffOfVariance(A1)\n",
    "    \n",
    "    \n",
    "    \n",
    "    "
   ]
  },
  {
   "cell_type": "code",
   "execution_count": 1,
   "id": "b25cb3bf",
   "metadata": {},
   "outputs": [
    {
     "name": "stdout",
     "output_type": "stream",
     "text": [
      "Opened database successfully\n",
      "Table created successfully\n"
     ]
    }
   ],
   "source": [
    "import sqlite3\n",
    "conn = sqlite3.connect('test.db')\n",
    "print(\"Opened database successfully\")\n",
    "query = \"\"\"CREATE TABLE COMPANY_5 (ID INT PRIMARY KEY NOT NULL, NAME TEXT NOT NULL,\n",
    "AGE INT NOT NULL, ADDRESS CHAR(50), SALARY REAL)\"\"\"\n",
    "conn.execute(query)\n",
    "print(\"Table created successfully\")"
   ]
  },
  {
   "cell_type": "code",
   "execution_count": 3,
   "id": "1c908e85",
   "metadata": {},
   "outputs": [
    {
     "name": "stdout",
     "output_type": "stream",
     "text": [
      "Opened database successfully\n"
     ]
    },
    {
     "ename": "OperationalError",
     "evalue": "near \"Student_Data\": syntax error",
     "output_type": "error",
     "traceback": [
      "\u001b[1;31m---------------------------------------------------------------------------\u001b[0m",
      "\u001b[1;31mOperationalError\u001b[0m                          Traceback (most recent call last)",
      "\u001b[1;32m~\\AppData\\Local\\Temp/ipykernel_24768/550884808.py\u001b[0m in \u001b[0;36m<module>\u001b[1;34m\u001b[0m\n\u001b[0;32m      4\u001b[0m query = \"\"\"Student_Data(ID INT PRIMARY KEY NOT NULL, NAME TEXT NOT NULL,\n\u001b[0;32m      5\u001b[0m AGE INT NOT NULL, ADDRESS CHAR(50), ROLL_NO)\"\"\"\n\u001b[1;32m----> 6\u001b[1;33m \u001b[0mconn\u001b[0m\u001b[1;33m.\u001b[0m\u001b[0mexecute\u001b[0m\u001b[1;33m(\u001b[0m\u001b[0mquery\u001b[0m\u001b[1;33m)\u001b[0m\u001b[1;33m\u001b[0m\u001b[1;33m\u001b[0m\u001b[0m\n\u001b[0m\u001b[0;32m      7\u001b[0m \u001b[0mprint\u001b[0m\u001b[1;33m(\u001b[0m\u001b[1;34m\"Table created successfully\"\u001b[0m\u001b[1;33m)\u001b[0m\u001b[1;33m\u001b[0m\u001b[1;33m\u001b[0m\u001b[0m\n\u001b[0;32m      8\u001b[0m \u001b[1;31m# Step-2: Inserting into a Table\u001b[0m\u001b[1;33m\u001b[0m\u001b[1;33m\u001b[0m\u001b[0m\n",
      "\u001b[1;31mOperationalError\u001b[0m: near \"Student_Data\": syntax error"
     ]
    }
   ],
   "source": [
    "import sqlite3\n",
    "conn = sqlite3.connect('test.db')\n",
    "print(\"Opened database successfully\")\n",
    "query = \"\"\"CREATE TABLE COMPANY_5 (ID INT PRIMARY KEY NOT NULL, NAME TEXT NOT NULL,\n",
    "AGE INT NOT NULL, ADDRESS CHAR(50), SALARY REAL)\"\"\"\n",
    "conn.execute(query)\n",
    "print(\"Table created successfully\")\n",
    "# Step-2: Inserting into a Table\n",
    "query = \"\"\" INSERT INTO COMPANY_5(ID,NAME,AGE,ADDRESS,Roll_No) VALUES (5, '', 17,\n",
    " 'California', 21040.00 ) \"\"\"\n",
    "conn.execute(query)\n",
    "conn.commit()\n",
    "print(\"Records created successfully\")\n",
    "# Step-3: Selection/Retrieve data from a Database\n",
    "cursor = conn.execute(\"SELECT id, name, address, salary from COMPANY_5\")\n",
    "for row in cursor:\n",
    " print(\"ID = 1 \", row[0])\n",
    "print(\"NAME = Paul \", row[1])\n",
    "print(\"ADDRESS = 32,'California' \", row[2])\n",
    "print(\"SALARY = 21040.00 \", row[3])\n",
    "print(\"Operation done successfully\")\n",
    "conn.close()\n",
    "# Step-4: Deletion from Table:\n",
    "cursor = conn.execute(\"DELETE FROM COMPANY_5 WHERE ID = 1\")\n",
    "print(\"Record delete successfully\")\n",
    "conn.close()"
   ]
  },
  {
   "cell_type": "code",
   "execution_count": null,
   "id": "43af90f2",
   "metadata": {},
   "outputs": [],
   "source": []
  }
 ],
 "metadata": {
  "kernelspec": {
   "display_name": "Python 3 (ipykernel)",
   "language": "python",
   "name": "python3"
  },
  "language_info": {
   "codemirror_mode": {
    "name": "ipython",
    "version": 3
   },
   "file_extension": ".py",
   "mimetype": "text/x-python",
   "name": "python",
   "nbconvert_exporter": "python",
   "pygments_lexer": "ipython3",
   "version": "3.9.7"
  }
 },
 "nbformat": 4,
 "nbformat_minor": 5
}
