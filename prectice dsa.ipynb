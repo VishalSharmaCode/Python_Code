{
 "cells": [
  {
   "cell_type": "code",
   "execution_count": 1,
   "id": "bd75c5d1",
   "metadata": {},
   "outputs": [
    {
     "data": {
      "text/plain": [
       "34"
      ]
     },
     "execution_count": 1,
     "metadata": {},
     "output_type": "execute_result"
    }
   ],
   "source": [
    "a=34\n",
    "a"
   ]
  },
  {
   "cell_type": "code",
   "execution_count": 2,
   "id": "5b56c595",
   "metadata": {},
   "outputs": [
    {
     "data": {
      "text/plain": [
       "int"
      ]
     },
     "execution_count": 2,
     "metadata": {},
     "output_type": "execute_result"
    }
   ],
   "source": [
    "type(a)"
   ]
  },
  {
   "cell_type": "code",
   "execution_count": 3,
   "id": "8dd8f903",
   "metadata": {},
   "outputs": [
    {
     "name": "stdout",
     "output_type": "stream",
     "text": [
      "6\n"
     ]
    }
   ],
   "source": [
    "a=input()"
   ]
  },
  {
   "cell_type": "code",
   "execution_count": 4,
   "id": "ef09649b",
   "metadata": {},
   "outputs": [
    {
     "data": {
      "text/plain": [
       "str"
      ]
     },
     "execution_count": 4,
     "metadata": {},
     "output_type": "execute_result"
    }
   ],
   "source": [
    "type(a)"
   ]
  },
  {
   "cell_type": "code",
   "execution_count": 5,
   "id": "969f0648",
   "metadata": {},
   "outputs": [
    {
     "name": "stdout",
     "output_type": "stream",
     "text": [
      "pls enter a number\n",
      "6\n",
      "Num= 6\n"
     ]
    },
    {
     "data": {
      "text/plain": [
       "int"
      ]
     },
     "execution_count": 5,
     "metadata": {},
     "output_type": "execute_result"
    }
   ],
   "source": [
    "print('pls enter a number')\n",
    "num= int (input())\n",
    "print('Num=',num)\n",
    "type(num)"
   ]
  },
  {
   "cell_type": "code",
   "execution_count": 6,
   "id": "a96b94b3",
   "metadata": {},
   "outputs": [
    {
     "name": "stdout",
     "output_type": "stream",
     "text": [
      "b is greater than a\n"
     ]
    }
   ],
   "source": [
    "a=4\n",
    "b=6\n",
    "if b>a:\n",
    "    print(\"b is greater than a\")\n",
    "elif a==b:\n",
    "    print(\"a and b is equal\")\n",
    "else:\n",
    "    print(\"a is greater than b\")\n"
   ]
  },
  {
   "cell_type": "code",
   "execution_count": 7,
   "id": "7dcb4c45",
   "metadata": {},
   "outputs": [
    {
     "name": "stdout",
     "output_type": "stream",
     "text": [
      "1\n",
      "2\n",
      "3\n",
      "4\n",
      "5\n"
     ]
    }
   ],
   "source": [
    "for i in range(1,6):\n",
    "    print(i)"
   ]
  },
  {
   "cell_type": "code",
   "execution_count": 8,
   "id": "3f13887e",
   "metadata": {},
   "outputs": [
    {
     "name": "stdout",
     "output_type": "stream",
     "text": [
      "10\n",
      "11\n",
      "12\n",
      "13\n",
      "14\n",
      "15\n",
      "16\n",
      "17\n",
      "18\n",
      "19\n"
     ]
    }
   ],
   "source": [
    "i=10\n",
    "j=20\n",
    "\n",
    "while(i!=j):\n",
    "    print(i)\n",
    "    i+=1"
   ]
  },
  {
   "cell_type": "code",
   "execution_count": 9,
   "id": "03c40494",
   "metadata": {},
   "outputs": [
    {
     "name": "stdout",
     "output_type": "stream",
     "text": [
      "Enter no. of elements\n",
      "4\n",
      "Enter 4 integer elements\n",
      "4\n",
      "3\n",
      "2\n",
      "2\n",
      "Array entered by user is [4, 3, 2, 2]\n",
      "give the element:=2\n",
      "Element is not present in array\n"
     ]
    }
   ],
   "source": [
    "#Binary Search from an array\n",
    "def binarySearch(arr, l, r, x):\n",
    "    if r >= l:\n",
    "        mid = l + (r - l) // 2\n",
    "        if arr[mid] == x:\n",
    "            return mid\n",
    "        elif arr[mid] > x:\n",
    "            return binarySearch(arr, l, mid-1, x)\n",
    "        else:\n",
    "            return binarySearch(arr, mid + 1, r, x)\n",
    "    else:\n",
    "        return -1\n",
    "print(\"Enter no. of elements\")\n",
    "a=int(input())\n",
    "print(\"Enter\",a,\"integer elements\")\n",
    "arr=[]\n",
    "for i in range(a):\n",
    "    arr.append(int(input()))\n",
    "print(\"Array entered by user is\",arr)\n",
    "x = int(input(\"give the element:=\"))\n",
    "result = binarySearch(arr, 0, len(arr)-1, x)\n",
    "if result != -1:\n",
    "    print(\"Element is present at index % d\" % result)\n",
    "else:\n",
    "    print(\"Element is not present in array\")\n"
   ]
  },
  {
   "cell_type": "code",
   "execution_count": 10,
   "id": "00865000",
   "metadata": {},
   "outputs": [
    {
     "name": "stdout",
     "output_type": "stream",
     "text": [
      "Created linked list is: \n",
      "1 7 8 6 4 "
     ]
    }
   ],
   "source": [
    "#to insert an element\n",
    "class Node:\n",
    "\n",
    "    def __init__(self, data):\n",
    "        self.data = data # Assign data\n",
    "        self.next = None # Initialize next as null\n",
    "class LinkedList:\n",
    "    def __init__(self):\n",
    "        self.head = None\n",
    "    def push(self, new_data):\n",
    "        new_node = Node(new_data)\n",
    "        new_node.next = self.head\n",
    "        self.head = new_node\n",
    "    def insertAfter(self, prev_node, new_data):\n",
    "        if prev_node is None:\n",
    "            print(\"The given previous node must inLinkedList.\")\n",
    "            return\n",
    "        new_node = Node(new_data)\n",
    "        new_node.next = prev_node.next\n",
    "        prev_node.next = new_node\n",
    "    def append(self, new_data):\n",
    "        new_node = Node(new_data)\n",
    "        if self.head is None:\n",
    "            self.head = new_node\n",
    "            return\n",
    "        last = self.head\n",
    "        while (last.next):\n",
    "            last = last.next\n",
    "        last.next = new_node\n",
    "    def printList(self):\n",
    "        temp = self.head\n",
    "        while (temp):\n",
    "            print(temp.data,end=\" \")\n",
    "            temp = temp.next\n",
    "if __name__=='__main__':\n",
    "    llist = LinkedList()\n",
    "    llist.append(6)\n",
    "    llist.push(7);\n",
    "    llist.push(1);\n",
    "    llist.append(4)\n",
    "    llist.insertAfter(llist.head.next, 8)\n",
    "    print('Created linked list is: ')\n",
    "    llist.printList()\n",
    "\n",
    "\n"
   ]
  },
  {
   "cell_type": "code",
   "execution_count": 11,
   "id": "90a3bd12",
   "metadata": {},
   "outputs": [
    {
     "name": "stdout",
     "output_type": "stream",
     "text": [
      "Created Linked List: \n",
      " 2\n",
      " 3\n",
      " 1\n",
      " 7\n",
      "Linked List after Deletion of 1:\n",
      " 2\n",
      " 3\n",
      " 7\n"
     ]
    }
   ],
   "source": [
    "# A complete working Python3 program to\n",
    "# demonstrate deletion in singly\n",
    "# linked list with class\n",
    "\n",
    "# Node class\n",
    "class Node:\n",
    "\n",
    "\t# Constructor to initialize the node object\n",
    "\tdef __init__(self, data):\n",
    "\t\tself.data = data\n",
    "\t\tself.next = None\n",
    "\n",
    "class LinkedList:\n",
    "\n",
    "\t# Function to initialize head\n",
    "\tdef __init__(self):\n",
    "\t\tself.head = None\n",
    "\n",
    "\t# Function to insert a new node at the beginning\n",
    "\tdef push(self, new_data):\n",
    "\t\tnew_node = Node(new_data)\n",
    "\t\tnew_node.next = self.head\n",
    "\t\tself.head = new_node\n",
    "\n",
    "\t# Given a reference to the head of a list and a key,\n",
    "\t# delete the first occurrence of key in linked list\n",
    "\tdef deleteNode(self, key):\n",
    "\t\t\n",
    "\t\t# Store head node\n",
    "\t\ttemp = self.head\n",
    "\n",
    "\t\t# If head node itself holds the key to be deleted\n",
    "\t\tif (temp is not None):\n",
    "\t\t\tif (temp.data == key):\n",
    "\t\t\t\tself.head = temp.next\n",
    "\t\t\t\ttemp = None\n",
    "\t\t\t\treturn\n",
    "\n",
    "\t\t# Search for the key to be deleted, keep track of the\n",
    "\t\t# previous node as we need to change 'prev.next'\n",
    "\t\twhile(temp is not None):\n",
    "\t\t\tif temp.data == key:\n",
    "\t\t\t\tbreak\n",
    "\t\t\tprev = temp\n",
    "\t\t\ttemp = temp.next\n",
    "\n",
    "\t\t# if key was not present in linked list\n",
    "\t\tif(temp == None):\n",
    "\t\t\treturn\n",
    "\n",
    "\t\t# Unlink the node from linked list\n",
    "\t\tprev.next = temp.next\n",
    "\n",
    "\t\ttemp = None\n",
    "\n",
    "\n",
    "\t# Utility function to print the linked LinkedList\n",
    "\tdef printList(self):\n",
    "\t\ttemp = self.head\n",
    "\t\twhile(temp):\n",
    "\t\t\tprint (\" %d\" %(temp.data)),\n",
    "\t\t\ttemp = temp.next\n",
    "\n",
    "\n",
    "# Driver program\n",
    "llist = LinkedList()\n",
    "llist.push(7)\n",
    "llist.push(1)\n",
    "llist.push(3)\n",
    "llist.push(2)\n",
    "\n",
    "print (\"Created Linked List: \")\n",
    "llist.printList()\n",
    "llist.deleteNode(1)\n",
    "print (\"Linked List after Deletion of 1:\")\n",
    "llist.printList()\n",
    "\n",
    "# This code is contributed by Nikhil Kumar Singh (nickzuck_007)\n"
   ]
  },
  {
   "cell_type": "code",
   "execution_count": 12,
   "id": "cc6f3e10",
   "metadata": {},
   "outputs": [
    {
     "name": "stdout",
     "output_type": "stream",
     "text": [
      "Mon\n",
      "Tue\n",
      "Wed\n"
     ]
    }
   ],
   "source": [
    "class Node:\n",
    "    def __init__(self, dataval=None):\n",
    "        self.dataval = dataval\n",
    "        self.nextval = None\n",
    "\n",
    "class SLinkedList:\n",
    "    \n",
    "    def __init__(self):\n",
    "        self.headval = None\n",
    "\n",
    "    def listprint(self):\n",
    "        printval = self.headval\n",
    "        while printval is not None:\n",
    "            print (printval.dataval)\n",
    "            printval = printval.nextval\n",
    "\n",
    "list = SLinkedList()\n",
    "list.headval = Node(\"Mon\")\n",
    "e2 = Node(\"Tue\")\n",
    "e3 = Node(\"Wed\")\n",
    "\n",
    "# Link first Node to second node\n",
    "list.headval.nextval = e2\n",
    "\n",
    "# Link second Node to third node\n",
    "e2.nextval = e3\n",
    "\n",
    "list.listprint()"
   ]
  },
  {
   "cell_type": "code",
   "execution_count": 13,
   "id": "28a0f2a3",
   "metadata": {},
   "outputs": [
    {
     "name": "stdout",
     "output_type": "stream",
     "text": [
      "Element Found at position: 5\n"
     ]
    }
   ],
   "source": [
    "# Python program for searching in\n",
    "# unsorted array\n",
    "def findElement(arr, n, key):\n",
    "    for i in range(n):\n",
    "        if (arr[i] == key):\n",
    "            return i\n",
    "           \n",
    "    # If the key is not found\n",
    "    return -1\n",
    "if __name__ == '__main__':\n",
    "    arr = [12, 34, 10, 6, 40]\n",
    "    key = 40\n",
    "    n = len(arr)\n",
    " \n",
    "    # search operation\n",
    "    index = findElement(arr, n, key)\n",
    "    if index != -1:\n",
    "        print(\"Element Found at position: \" + str(index + 1))\n",
    "    else:\n",
    "        print(\"Element not found\")\n",
    " \n",
    "    # Thanks to Aditi Sharma for contributing\n",
    "    # this code"
   ]
  },
  {
   "cell_type": "code",
   "execution_count": 14,
   "id": "122f97be",
   "metadata": {},
   "outputs": [
    {
     "name": "stdout",
     "output_type": "stream",
     "text": [
      "Before Inserting: \n",
      "[12, 16, 20, 40, 50, 70]\n",
      "After Inserting: \n",
      "[12, 16, 20, 40, 50, 70, 26]\n"
     ]
    }
   ],
   "source": [
    "# Python program for inserting\n",
    "# an element in an unsorted array\n",
    " \n",
    "# method to insert element\n",
    " \n",
    "def insert(arr, element):\n",
    "    arr.append(element)\n",
    " \n",
    " \n",
    "# Driver's code\n",
    "if __name__ == '__main__':\n",
    "    # declaring array and key to insert\n",
    "    arr = [12, 16, 20, 40, 50, 70]\n",
    "    key = 26\n",
    " \n",
    "    # array before inserting an element\n",
    "    print(\"Before Inserting: \")\n",
    "    print(arr)\n",
    " \n",
    "    # array after Inserting element\n",
    "    insert(arr, key)\n",
    "    print(\"After Inserting: \")\n",
    "    print(arr)"
   ]
  },
  {
   "cell_type": "code",
   "execution_count": 15,
   "id": "db3dc5f9",
   "metadata": {},
   "outputs": [
    {
     "name": "stdout",
     "output_type": "stream",
     "text": [
      "Array before deletion:\n",
      "[10, 50, 30, 40, 20]\n",
      "Array after deletion\n",
      "[10, 50, 40, 20]\n"
     ]
    }
   ],
   "source": [
    "# Python program to delete an element\n",
    "# from an unsorted array\n",
    " \n",
    "# Driver's code\n",
    "if __name__ == '__main__':\n",
    "    # Declaring array and key to delete\n",
    "    arr = [10, 50, 30, 40, 20]\n",
    "    key = 30\n",
    "  \n",
    "    print(\"Array before deletion:\")\n",
    "    print (arr)\n",
    "  \n",
    "    # deletes key if found in the array\n",
    "    # otherwise shows error not in list\n",
    "    arr.remove(key)\n",
    "    print(\"Array after deletion\")\n",
    "    print(arr)\n",
    "  "
   ]
  },
  {
   "cell_type": "code",
   "execution_count": 16,
   "id": "70fa86e5",
   "metadata": {},
   "outputs": [
    {
     "name": "stdout",
     "output_type": "stream",
     "text": [
      "array('i', [1, 2, 3])\n",
      "array('i', [4, 5, 6])\n",
      "array('i', [1, 2, 3, 4, 5, 6])\n",
      "array('i', [1, 2, 3, 4])\n",
      "array('i', [10, 1, 2, 3, 4])\n",
      "array('i', [10, 1, 2, 3, 4, 4, 5, 6])\n"
     ]
    }
   ],
   "source": [
    "import array\n",
    "\n",
    "s1 = array.array('i', [1, 2, 3])\n",
    "s2 = array.array('i', [4, 5, 6])\n",
    "\n",
    "print(s1)  \n",
    "print(s2)  \n",
    "\n",
    "s3 = s1 + s2\n",
    "print(s3)  \n",
    "\n",
    "s1.append(4)\n",
    "print(s1)  \n",
    "\n",
    "s1.insert(0, 10)\n",
    "print(s1) \n",
    "\n",
    "s1.extend(s2)\n",
    "print(s1) "
   ]
  },
  {
   "cell_type": "code",
   "execution_count": 17,
   "id": "92792047",
   "metadata": {},
   "outputs": [
    {
     "name": "stdout",
     "output_type": "stream",
     "text": [
      "element found at index 6\n"
     ]
    }
   ],
   "source": [
    "def linearsearch(arr, x):\n",
    "    for i in range(len(arr)):\n",
    "        if arr[i] == x:\n",
    "            return i\n",
    "    return -1\n",
    "arr = ['t','u','t','o','r','i','a','l']\n",
    "x = 'a'\n",
    "print(\"element found at index \"+str(linearsearch(arr,x)))"
   ]
  },
  {
   "cell_type": "code",
   "execution_count": 18,
   "id": "af626c67",
   "metadata": {},
   "outputs": [
    {
     "name": "stdout",
     "output_type": "stream",
     "text": [
      "35\n"
     ]
    }
   ],
   "source": [
    "a=[1,27,35,43,5,6]\n",
    "print(a[2])"
   ]
  },
  {
   "cell_type": "code",
   "execution_count": 83,
   "id": "6b9f5105",
   "metadata": {},
   "outputs": [
    {
     "name": "stdout",
     "output_type": "stream",
     "text": [
      "Enter no. of elements\n",
      "3\n",
      "Enter 3 integer elements\n",
      "4\n",
      "4\n",
      "3\n",
      "Array entered by user is [4, 4, 3]\n"
     ]
    }
   ],
   "source": [
    "print(\"Enter no. of elements\")\n",
    "a=int(input())\n",
    "print(\"Enter\",a,\"integer elements\")\n",
    "arr=[]\n",
    "for i in range(a):\n",
    "    arr.append(int(input()))\n",
    "print(\"Array entered by user is\",arr)"
   ]
  },
  {
   "cell_type": "code",
   "execution_count": null,
   "id": "92c47b0d",
   "metadata": {},
   "outputs": [],
   "source": [
    "def selectionSort(array,size):\n",
    "    for ind in range(size):\n",
    "        min_index =ind\n",
    "        for j in range(ind+1,size):\n",
    "            if array[j]<array[min_index]:\n",
    "                min_index=j\n",
    "                (array[ind],array[min_index])=(array[min_index],array[ind])\n",
    "print(\"Enter no. of elements\")\n",
    "a=int(input())\n",
    "print(\"Enter\",a,\"integer elements\")\n",
    "arr=[]\n",
    "for i in range(a):\n",
    "    arr.append(int(input()))\n",
    "print(\"Array entered by user is\",arr)\n",
    "size=len(arr)\n",
    "selectionSort(arr,size)\n",
    "print(\"Sorted array by selection sorting:=\",arr)\n",
    "\n"
   ]
  },
  {
   "cell_type": "code",
   "execution_count": 84,
   "id": "cc3e37c2",
   "metadata": {},
   "outputs": [
    {
     "name": "stdout",
     "output_type": "stream",
     "text": [
      "Enter no. of elements\n",
      "6\n",
      "Enter 6 integer elements\n",
      "545\n",
      "34\n",
      "5645\n",
      "343\n",
      "5634\n",
      "343\n",
      "Array entered by user is [545, 34, 5645, 343, 5634, 343]\n",
      "array sorted= [34, 343, 343, 545, 5634, 5645]\n"
     ]
    }
   ],
   "source": [
    "def insertionSort(arr):\n",
    "     \n",
    "    if (n := len(arr)) <= 1:\n",
    "        return\n",
    "    for i in range(1, n):\n",
    "         \n",
    "        key = arr[i]\n",
    "        j = i-1\n",
    "        while j >=0 and key < arr[j] :\n",
    "                arr[j+1] = arr[j]\n",
    "                j -= 1\n",
    "        arr[j+1] = key\n",
    "\n",
    "\n",
    "print(\"Enter no. of elements\")\n",
    "a=int(input())\n",
    "print(\"Enter\",a,\"integer elements\")\n",
    "arr=[]\n",
    "for i in range(a):\n",
    "    arr.append(int(input()))\n",
    "print(\"Array entered by user is\",arr)\n",
    "insertionSort(arr)\n",
    "print(\"array sorted=\",arr)"
   ]
  },
  {
   "cell_type": "markdown",
   "id": "adc65273",
   "metadata": {},
   "source": [
    "### def printMaxActivities(s, f):\n",
    "    n = len(f)\n",
    "    print(\"Following activities are selected\")\n",
    "    i = 0\n",
    "    print(i, end=' ')\n",
    "    for j in range(1, n):\n",
    "\n",
    "        if s[j] >= f[i]:\n",
    "            print(j, end=' ')\n",
    "            i = j\n",
    "if __name__ == '__main__':\n",
    "    s = [1, 3, 0, 5, 8, 5]\n",
    "    f = [2, 4, 6, 7, 9, 9]\n",
    "    printMaxActivities(s, f)"
   ]
  },
  {
   "cell_type": "code",
   "execution_count": null,
   "id": "ee9d383a",
   "metadata": {},
   "outputs": [],
   "source": [
    "def MaxActivities(arr, n):\n",
    "    selected = []\n",
    " \n",
    "    # Sort jobs according to finish time\n",
    "    Activity.sort(key=lambda x: x[1])\n",
    " \n",
    "    # The first activity always gets selected\n",
    "    i = 0\n",
    "    selected.append(arr[i])\n",
    " \n",
    "    for j in range(1, n):\n",
    "        if arr[j][0] >= arr[i][1]:\n",
    "            selected.append(arr[j])\n",
    "            i = j\n",
    "    return selected\n",
    "if __name__ == '__main__':\n",
    "    Activity = [[5, 9], [1, 2], [3, 4], [0, 6], [5, 7], [8, 9]]\n",
    "    n = len(Activity)\n",
    " \n",
    "    # Function call\n",
    "    selected = MaxActivities(Activity, n)\n",
    "    print(\"Following activities are selected :\")\n",
    "    print(selected[0], end = \"\");\n",
    "    for i in range (1, len(selected)):\n",
    "        print(\",\", end = \" \")\n",
    "        print(selected[i], end = \"\")\n",
    " "
   ]
  },
  {
   "cell_type": "code",
   "execution_count": null,
   "id": "5d6c3036",
   "metadata": {},
   "outputs": [],
   "source": [
    "# 1. Write a program in C to store elements in an array and print them.\n",
    "# Test Data :\n",
    "# Input 10 elements in the array :\n",
    "# element - 0 : 1\n",
    "# element - 1 : 1\n",
    "# element - 2 : 2\n",
    "# .......\n",
    "# Expected Output :\n",
    "# Elements in array are: 1 1 2 3 4 5 6 7 8 9\n",
    "\n",
    "arr=[]\n",
    "x=int(input(\"Give the number of elements which you want to store in your array: =\"))\n",
    "\n",
    "for i in range(x):\n",
    "    j=int(input(\"Give the element no.\"))\n",
    "    arr.append(j)\n",
    "print(arr)"
   ]
  },
  {
   "cell_type": "code",
   "execution_count": null,
   "id": "fca8030d",
   "metadata": {},
   "outputs": [],
   "source": [
    "# 2. Write a program in C to read n number of values in an array and display them in reverse order.\n",
    "# Test Data :\n",
    "# Input the number of elements to store in the array :3\n",
    "# Input 3 number of elements in the array :\n",
    "# element - 0 : 2\n",
    "# element - 1 : 5\n",
    "# element - 2 : 7\n",
    "# Expected Output :\n",
    "# The values store into the array are :\n",
    "# 2 5 7\n",
    "# The values store into the array in reverse are :\n",
    "# 7 5 2\n",
    "\n",
    "arr=[]\n",
    "x=int(input(\"Give the number of element:=\"))\n",
    "for i in range(x):\n",
    "    j=int(input(\"Give the element:=\"))\n",
    "    arr.append(j)\n",
    "print(arr)\n",
    "\n",
    "print(arr[::-1])"
   ]
  },
  {
   "cell_type": "code",
   "execution_count": null,
   "id": "e275e375",
   "metadata": {},
   "outputs": [],
   "source": [
    "# 3. Write a program in C to find the sum of all elements of the array.\n",
    "# Test Data :\n",
    "# Input the number of elements to be stored in the array :3\n",
    "# Input 3 elements in the array :\n",
    "# element - 0 : 2\n",
    "# element - 1 : 5\n",
    "# element - 2 : 8\n",
    "# Expected Output :\n",
    "# Sum of all elements stored in the array is : 15\n",
    "\n",
    "arr=[]\n",
    "x=int(input(\"Give the number of elements:=\"))\n",
    "for i in range(x):\n",
    "    j=int(input(\"Give the elements:=\"))\n",
    "    arr.append(j)\n",
    "print(arr)\n",
    "\n",
    "add=0\n",
    "for i in arr:\n",
    "    add=add+i\n",
    "print(add)"
   ]
  },
  {
   "cell_type": "code",
   "execution_count": null,
   "id": "f948d82b",
   "metadata": {},
   "outputs": [],
   "source": [
    "# 4. Write a program in C to copy the elements of one array into another array.\n",
    "# Test Data :\n",
    "# Input the number of elements to be stored in the array :3\n",
    "# Input 3 elements in the array :\n",
    "# element - 0 : 15\n",
    "# element - 1 : 10\n",
    "# element - 2 : 12\n",
    "# Expected Output :\n",
    "# The elements stored in the first array are :\n",
    "# 15 10 12\n",
    "# The elements copied into the second array are :\n",
    "# 15 10 12\n",
    "arr=[]\n",
    "x=int(input(\"Give the numbers of element:=\"))\n",
    "\n",
    "for i in range(x):\n",
    "    j=int(input(\"Give the element:=\"))\n",
    "    arr.append(j)\n",
    "print(\"Orignal array:= \",arr)\n",
    "arr2=[]\n",
    "for i in arr:\n",
    "    arr2.append(i)\n",
    "print(\"copied array:=\",arr2)"
   ]
  },
  {
   "cell_type": "code",
   "execution_count": null,
   "id": "318f603c",
   "metadata": {},
   "outputs": [],
   "source": [
    "# 6. Write a program in C to print all unique elements in an array.\n",
    "# Test Data :\n",
    "# Print all unique elements of an array:\n",
    "# ------------------------------------------\n",
    "# Input the number of elements to be stored in the array: 4\n",
    "# Input 4 elements in the array :\n",
    "# element - 0 : 3\n",
    "# element - 1 : 2\n",
    "# element - 2 : 2\n",
    "# element - 3 : 5\n",
    "# Expected Output :\n",
    "# The unique elements found in the array are:\n",
    "# 3 5\n",
    "\n",
    "arr=[]\n",
    "x=int(input(\"Give the numbers of element:=\"))\n",
    "\n",
    "for i in range(x):\n",
    "    j=int(input(\"Give the element:=\"))\n",
    "    arr.append(j)\n",
    "print(\"Array:= \",arr)\n",
    "\n",
    "n=len(arr)\n",
    "k=n\n",
    "for i in range(0,n):\n",
    "    tem=0\n",
    "    for j in range(0,k):\n",
    "        if (i!=j):\n",
    "            if(arr[i]==arr[j]):\n",
    "                tem=tem+1\n",
    "    if(tem==0):\n",
    "        print(arr[i])\n",
    "    \n",
    "        "
   ]
  },
  {
   "cell_type": "code",
   "execution_count": 24,
   "id": "210a390d",
   "metadata": {},
   "outputs": [],
   "source": [
    "# Plandrome Number and String\n",
    "# Rotor, level\n",
    "x= 'RadAr'\n",
    "x=x.lower()\n",
    "\n",
    "n = len(x)\n",
    "j = 0\n",
    "for i in range "
   ]
  },
  {
   "cell_type": "code",
   "execution_count": 46,
   "id": "61ccc9a8",
   "metadata": {},
   "outputs": [
    {
     "name": "stdout",
     "output_type": "stream",
     "text": [
      "Write A year-->2500\n",
      "Not A leap Year\n"
     ]
    }
   ],
   "source": [
    "# leap year\n",
    "\n",
    "year = int(input(\"Write A year--> \"))\n",
    "if(year%4 ==0 and year%100 ==0 and year%2000!=0):\n",
    "    if(year%400==0):\n",
    "        print(\"Leap Year\")\n",
    "    else:\n",
    "        print(\"Not A leap Year\")\n",
    "elif(year%4 ==0 and year%100 !=0):\n",
    "    print(\"Leap Year\")\n",
    "else:\n",
    "    print(\"Not A leap Year\")"
   ]
  },
  {
   "cell_type": "code",
   "execution_count": 47,
   "id": "3695b669",
   "metadata": {},
   "outputs": [
    {
     "name": "stdout",
     "output_type": "stream",
     "text": [
      "Write A year--> 2024\n",
      "pp\n"
     ]
    }
   ],
   "source": [
    "year = int(input(\"Write A year--> \"))\n",
    "if(year%2000!=0 and year%100!=0 and year%400 ==0 and year%4==0 ):\n",
    "    print(\"leap Year\")\n",
    "else:\n",
    "    print(\"pp\")"
   ]
  },
  {
   "cell_type": "code",
   "execution_count": 59,
   "id": "0bbedc41",
   "metadata": {},
   "outputs": [
    {
     "name": "stdout",
     "output_type": "stream",
     "text": [
      "a 15 l\n"
     ]
    }
   ],
   "source": [
    "word = 'abcdefghijkujkkll'\n",
    "if(len(word)>10):\n",
    "    print(word[0],len(word)-2,word[len(word)-1])"
   ]
  },
  {
   "cell_type": "code",
   "execution_count": 54,
   "id": "d85bdf3f",
   "metadata": {},
   "outputs": [
    {
     "name": "stdout",
     "output_type": "stream",
     "text": [
      "ggggg 8 ujjj\n"
     ]
    }
   ],
   "source": [
    "print(\"ggggg\",8,\"ujjj\")"
   ]
  },
  {
   "cell_type": "code",
   "execution_count": 86,
   "id": "1dd4efb7",
   "metadata": {},
   "outputs": [
    {
     "data": {
      "text/plain": [
       "3"
      ]
     },
     "execution_count": 86,
     "metadata": {},
     "output_type": "execute_result"
    }
   ],
   "source": [
    "arr = [343,234,2334]\n",
    "(n := len(arr))\n"
   ]
  },
  {
   "cell_type": "code",
   "execution_count": 91,
   "id": "9d6f52e9",
   "metadata": {},
   "outputs": [
    {
     "name": "stdout",
     "output_type": "stream",
     "text": [
      "Give the Input of Array--> 7\n",
      "Give the elements for array--> -2\n",
      "Give the elements for array--> 1\n",
      "Give the elements for array--> 34\n",
      "Give the elements for array--> 231\n",
      "Give the elements for array--> 2123\n",
      "Give the elements for array--> 2312\n",
      "Give the elements for array--> 23\n"
     ]
    }
   ],
   "source": [
    "# 735. Asteroid Collision\n",
    "def array():\n",
    "    arr = []\n",
    "    x = int(input(\"Give the Input of Array--> \"))\n",
    "    for i in range(x):\n",
    "        y = int(input(\"Give the elements for array--> \"))\n",
    "        arr.append(y)\n",
    "    return arr\n",
    "\n",
    "def collusion():\n",
    "    arr = array()\n",
    "    array = []\n",
    "    for i in range(len(arr)):\n",
    "        if arr[i]<0:\n",
    "            array.append(arr[i])\n",
    "collusion()"
   ]
  },
  {
   "cell_type": "code",
   "execution_count": 96,
   "id": "1c125792",
   "metadata": {},
   "outputs": [
    {
     "name": "stdout",
     "output_type": "stream",
     "text": [
      "[5, 10]\n",
      "[]\n",
      "[-14, -36]\n"
     ]
    }
   ],
   "source": [
    "def asteroidCollision(asteroids):\n",
    "    stack = []\n",
    "    for asteroid in asteroids:\n",
    "        while stack and asteroid < 0 < stack[-1]:\n",
    "            if stack[-1] < -asteroid:\n",
    "                stack.pop()\n",
    "                continue\n",
    "            elif stack[-1] == -asteroid:\n",
    "                stack.pop()\n",
    "            break\n",
    "        else:\n",
    "            stack.append(asteroid)\n",
    "    return stack\n",
    "\n",
    "# Test cases\n",
    "print(asteroidCollision([5, 10, -5]))  # Output: [5, 10]\n",
    "print(asteroidCollision([8, -8]))  # Output: []\n",
    "print(asteroidCollision([10, 2,-14,32,-36]))  # Output: [10]\n"
   ]
  },
  {
   "cell_type": "code",
   "execution_count": 98,
   "id": "ab6e6cb1",
   "metadata": {},
   "outputs": [
    {
     "data": {
      "text/plain": [
       "239"
      ]
     },
     "execution_count": 98,
     "metadata": {},
     "output_type": "execute_result"
    }
   ],
   "source": [
    "arr  = [42,231,432,239]\n",
    "arr[-1]"
   ]
  },
  {
   "cell_type": "code",
   "execution_count": 102,
   "id": "836321dc",
   "metadata": {},
   "outputs": [
    {
     "name": "stdout",
     "output_type": "stream",
     "text": [
      "[1, 2, 3, 4, 5, 6, 7, 8]\n"
     ]
    }
   ],
   "source": [
    "def merge_sorted_arrays(arr1, arr2):\n",
    "    len1, len2 = len(arr1), len(arr2)\n",
    "    i, j, k = len1 - 1, len2 - 1, len1 + len2 - 1\n",
    "    arr1.extend([0] * len2)\n",
    "    while j >= 0:\n",
    "        if i >= 0 and arr1[i] > arr2[j]:\n",
    "            arr1[k] = arr1[i]\n",
    "            i -= 1\n",
    "        else:\n",
    "            arr1[k] = arr2[j]\n",
    "            j -= 1\n",
    "        k -= 1\n",
    "\n",
    "    return arr1\n",
    "arr1 = [1, 3, 5, 7]\n",
    "arr2 = [2, 4, 6, 8]\n",
    "\n",
    "merged_array = merge_sorted_arrays(arr1, arr2)\n",
    "print(merged_array)"
   ]
  },
  {
   "cell_type": "code",
   "execution_count": 103,
   "id": "1384321d",
   "metadata": {},
   "outputs": [
    {
     "name": "stdout",
     "output_type": "stream",
     "text": [
      "[2]\n",
      "[3]\n",
      "[4]\n"
     ]
    }
   ],
   "source": [
    "arr =  [2,3,4]\n",
    "arr1 = []\n",
    "for i in range(len(arr)):\n",
    "    arr1.append(arr[i])\n",
    "    print(arr1)\n",
    "    arr1.pop()"
   ]
  },
  {
   "cell_type": "code",
   "execution_count": 106,
   "id": "60458a75",
   "metadata": {},
   "outputs": [
    {
     "name": "stdout",
     "output_type": "stream",
     "text": [
      "All possible subarrays:\n",
      "[1]\n",
      "[1, 2]\n",
      "[1, 2, 3]\n",
      "[1, 2, 3, 4]\n",
      "[2]\n",
      "[2, 3]\n",
      "[2, 3, 4]\n",
      "[3]\n",
      "[3, 4]\n",
      "[4]\n"
     ]
    }
   ],
   "source": [
    "def generate_subarrays(arr):\n",
    "    n = len(arr)\n",
    "    subarrays = []\n",
    "    for start in range(n):\n",
    "        for end in range(start, n):\n",
    "            subarrays.append(arr[start:end+1])\n",
    "    \n",
    "    return subarrays\n",
    "\n",
    "arr = [1, 2, 3,4]\n",
    "subarrays = generate_subarrays(arr)\n",
    "print(\"All possible subarrays:\")\n",
    "for subarray in subarrays:\n",
    "    print(subarray)\n"
   ]
  },
  {
   "cell_type": "code",
   "execution_count": 2,
   "id": "de93108f",
   "metadata": {},
   "outputs": [],
   "source": [
    "from typing import List\n",
    "class Solution:\n",
    "    def twoSum(self, nums: List[int], target: int) -> List[int]:\n",
    "        num_to_index = {}\n",
    "        for index, num in enumerate(nums):\n",
    "            complement = target - num\n",
    "            if complement in num_to_index:\n",
    "                return [num_to_index[complement], index]\n",
    "            num_to_index[num] = index\n",
    "        return []"
   ]
  },
  {
   "cell_type": "code",
   "execution_count": 12,
   "id": "41ecc998",
   "metadata": {},
   "outputs": [
    {
     "name": "stdout",
     "output_type": "stream",
     "text": [
      "Give the total length of Array=6\n",
      "Give the element of Array=6\n",
      "Give the element of Array=5\n",
      "Give the element of Array=4\n",
      "Give the element of Array=3\n",
      "Give the element of Array=2\n",
      "Give the element of Array=1\n",
      "Array= [1, 2, 3, 4, 5, 6]\n",
      "Element To Search=6\n",
      "Location= 5\n"
     ]
    }
   ],
   "source": [
    "# Binary Search\n",
    "# in binary search elements must be sorted\n",
    "arr=[]\n",
    "x=int(input(\"Give the total length of Array=\"))\n",
    "for i in range(x):\n",
    "    y=int(input(\"Give the element of Array=\"))\n",
    "    arr.append(y)\n",
    "arr.sort()\n",
    "print(\"Array=\",arr)\n",
    "\n",
    "element=int(input(\"Element To Search=\"))\n",
    "begin=0\n",
    "end=x\n",
    "mid=(begin+end)//2\n",
    "while(begin<=end and arr[mid]!=element):\n",
    "    if element<arr[mid]:\n",
    "        end=mid-1\n",
    "    else:\n",
    "        begin=mid+1\n",
    "    mid=(begin+end)//2\n",
    "if(arr[mid]==element):\n",
    "    print(\"Location=\", mid)\n",
    "else:\n",
    "    print(\"element is not found\")"
   ]
  },
  {
   "cell_type": "code",
   "execution_count": 15,
   "id": "aeaa8248",
   "metadata": {},
   "outputs": [
    {
     "name": "stdout",
     "output_type": "stream",
     "text": [
      "Input: [1, 2, 3, 1]\n",
      "Output: 2 (Peak element: 3)\n",
      "\n"
     ]
    }
   ],
   "source": [
    "from typing import List\n",
    "class Solution:\n",
    "    def findPeakElement(self, nums: List[int]) -> int:\n",
    "        left, right = 0, len(nums) - 1    \n",
    "        while left < right:\n",
    "            mid = (left + right) // 2\n",
    "            if nums[mid] > nums[mid + 1]:\n",
    "                right = mid\n",
    "            else:\n",
    "                left = mid + 1        \n",
    "        return left\n",
    "nums1 = [1, 2, 3, 1]\n",
    "solution = Solution()\n",
    "print(f\"Input: {nums1}\")\n",
    "output1 = solution.findPeakElement(nums1)\n",
    "print(f\"Output: {output1} (Peak element: {nums1[output1]})\\n\")"
   ]
  },
  {
   "cell_type": "code",
   "execution_count": 16,
   "id": "da275822",
   "metadata": {},
   "outputs": [],
   "source": [
    "class Solution:\n",
    "    def findPeakElement(self, nums: List[int]) -> int:\n",
    "        if len(nums) == 1:\n",
    "            return 0\n",
    "        \n",
    "        elif len(nums) == 2:\n",
    "            if nums[0] > nums[1]:\n",
    "                return 0\n",
    "            if nums[1] > nums[0]:\n",
    "                return 1\n",
    "\n",
    "        elif nums[0] == max(nums):\n",
    "            return 0\n",
    "        \n",
    "        elif nums[-1] == max(nums):\n",
    "            return len(nums) - 1\n",
    "        \n",
    "        for i in range(1, len(nums) - 1):\n",
    "            if nums[i] > nums[i-1] and nums[i] > nums[i+1]:\n",
    "                return i\n",
    "        "
   ]
  },
  {
   "cell_type": "code",
   "execution_count": 17,
   "id": "300c173f",
   "metadata": {},
   "outputs": [],
   "source": [
    "class Solution:\n",
    "    def findPeakElement(self, nums: List[int]) -> int:\n",
    "        if len(nums) == 1: \n",
    "            return 0\n",
    "        \n",
    "        if len(nums) == 2: \n",
    "            return 0 if nums[0] > nums[1] else 1 \n",
    "\n",
    "        n = len(nums)\n",
    "        left = 0 \n",
    "        right = n - 1 \n",
    "\n",
    "        while left <= right: \n",
    "            m = (left + right) // 2\n",
    "\n",
    "            if ((m==0) or nums[m] > nums[m-1]) and ((m==n-1) or nums[m] > nums[m+1]): \n",
    "                return m \n",
    "            \n",
    "            if nums[m] < nums[m+1]: \n",
    "                left = m + 1 \n",
    "            else: \n",
    "                right = m -1 "
   ]
  },
  {
   "cell_type": "code",
   "execution_count": 20,
   "id": "5d1048d6",
   "metadata": {},
   "outputs": [
    {
     "data": {
      "text/plain": [
       "5"
      ]
     },
     "execution_count": 20,
     "metadata": {},
     "output_type": "execute_result"
    }
   ],
   "source": [
    "def prb(arr, target):\n",
    "    l,r = 0,len(arr)-1\n",
    "    m = (l+r)//2\n",
    "    \n",
    "    \n",
    "arr, target = [1,2,3,4,5,5,6,7], 5\n"
   ]
  },
  {
   "cell_type": "code",
   "execution_count": 10,
   "id": "67dea63c",
   "metadata": {},
   "outputs": [
    {
     "name": "stdout",
     "output_type": "stream",
     "text": [
      " \n",
      "1  \n",
      "2 2  \n",
      "3 3 3  \n"
     ]
    }
   ],
   "source": [
    "n = 4\n",
    "for i in range(n):\n",
    "    for j in range(i):\n",
    "        print(i, end = \" \")\n",
    "    print(\" \")"
   ]
  },
  {
   "cell_type": "code",
   "execution_count": 11,
   "id": "e96940a9",
   "metadata": {},
   "outputs": [
    {
     "name": "stdout",
     "output_type": "stream",
     "text": [
      "0 0 0 0 0 \n",
      "1 1 1 1 1 \n",
      "2 2 2 2 2 \n",
      "3 3 3 3 3 \n",
      "4 4 4 4 4 \n"
     ]
    }
   ],
   "source": [
    "n = 5\n",
    "for i in range(n):\n",
    "    for j in range(n):\n",
    "        print(i, end = \" \")\n",
    "    print(\"\")"
   ]
  },
  {
   "cell_type": "code",
   "execution_count": 43,
   "id": "320ea4f1",
   "metadata": {},
   "outputs": [
    {
     "name": "stdout",
     "output_type": "stream",
     "text": [
      "*   * * * \n",
      "*   * * * \n",
      "* * * * * \n",
      "* * *   * \n",
      "* * *   * \n"
     ]
    }
   ],
   "source": [
    "def swastik(n):\n",
    "    if n % 2 == 0:\n",
    "        raise ValueError(\"Size must be an odd number.\")\n",
    "    for i in range(n):\n",
    "        for j in range(n):\n",
    "            if (i < n // 2 and (j == 0 or j >= n // 2)) or \\\n",
    "               (i == n // 2) or \\\n",
    "               (i > n // 2 and (j == n - 1 or j <= n // 2)) or \\\n",
    "               (j == n // 2):\n",
    "                print('*', end=' ')\n",
    "            else:\n",
    "                print(' ', end=' ')\n",
    "        print()\n",
    "\n",
    "# Example usage:\n",
    "n = 5  # Size must be an odd number\n",
    "swastik(n)\n"
   ]
  },
  {
   "cell_type": "code",
   "execution_count": 21,
   "id": "302fa538",
   "metadata": {},
   "outputs": [
    {
     "name": "stdout",
     "output_type": "stream",
     "text": [
      "Give a number--> 43\n",
      "Number is prime\n"
     ]
    }
   ],
   "source": [
    "num = int(input(\"Give a number--> \"))\n",
    "sum1 = 0\n",
    "while(num!=0):\n",
    "    y = num%10\n",
    "    sum1 = sum1+y\n",
    "    num = num//10\n",
    "for i in range(2,sum1//2):\n",
    "    if sum1%i == 0:\n",
    "        print(\"number is not prime\")\n",
    "        break\n",
    "else:\n",
    "    print(\"Number is prime\")"
   ]
  },
  {
   "cell_type": "code",
   "execution_count": 50,
   "id": "c4714c52",
   "metadata": {},
   "outputs": [
    {
     "name": "stdout",
     "output_type": "stream",
     "text": [
      "*     * * * *\n",
      "*     *\n",
      "*     *\n",
      "* * * * * * * \n",
      "      *     * \n",
      "      *     * \n",
      "* * * *     * \n"
     ]
    }
   ],
   "source": [
    "def swastika(row,col):\n",
    "     \n",
    "    for i in range(row):\n",
    "        for j in range(col): \n",
    "             \n",
    "            # checking if i < row/2\n",
    "            if(i < row // 2): \n",
    "                 \n",
    "                # checking if j<col/2\n",
    "                if (j < col // 2): \n",
    "                     \n",
    "                    # print '*' if j=0\n",
    "                    if (j == 0):\n",
    "                        print(\"*\", end = \"\")\n",
    "                         \n",
    "                    # else print space\n",
    "                    else:\n",
    "                        print(\" \", end = \" \")\n",
    "                 \n",
    "                # check if j=col/2 \n",
    "                elif (j == col // 2):\n",
    "                    print(\" *\", end = \"\")\n",
    "                else:\n",
    "                     \n",
    "                    # if i=0 then first row will have '*'\n",
    "                    if (i == 0):\n",
    "                        print(\" *\", end = \"\")\n",
    "                         \n",
    "            elif (i == row // 2):\n",
    "                print(\"* \", end = \"\")\n",
    "            else: \n",
    "                 \n",
    "                # middle column and last column will \n",
    "                # have '*' after i > row/2\n",
    "                if (j == col // 2 or j == col - 1):\n",
    "                    print(\"* \", end = \"\")\n",
    "                     \n",
    "                # last row\n",
    "                elif (i == row - 1): \n",
    "                     \n",
    "                    # last row will be have '*' if \n",
    "                    # j <= col/2 or if it is last column\n",
    "                    if (j <= col // 2 or j == col - 1):\n",
    "                        print(\"* \", end = \"\")\n",
    "                    else:\n",
    "                        print(\" \", end = \" \")\n",
    "                else:\n",
    "                    print(\" \", end = \" \")\n",
    "        print()\n",
    "         \n",
    "# Driver code\n",
    " \n",
    "# odd number of row and column\n",
    "# to get perfect swastika\n",
    "row = 7; col = 7\n",
    " \n",
    "# Function calling\n",
    "swastika(row, col)"
   ]
  },
  {
   "cell_type": "code",
   "execution_count": 59,
   "id": "cb95be5d",
   "metadata": {},
   "outputs": [
    {
     "name": "stdout",
     "output_type": "stream",
     "text": [
      " \n",
      " \n",
      " \n",
      " \n",
      " \n",
      " \n",
      " \n",
      " \n",
      " \n",
      " \n",
      " \n",
      " \n",
      "1\n",
      "0\n",
      " \n",
      " \n",
      " \n",
      "1\n",
      "2\n",
      " \n",
      " \n",
      "1\n",
      "0\n",
      " \n",
      "1\n",
      "2\n",
      "3\n",
      " \n",
      " \n",
      " \n",
      " \n",
      "2\n",
      "1\n",
      "0\n"
     ]
    }
   ],
   "source": [
    "def pet(n):\n",
    "    for i in range(1,n):\n",
    "        for j in range(1,(2*(n-i))):\n",
    "            print(\" \")\n",
    "        for j in range(1, i):\n",
    "            print(j)\n",
    "        for j in range(1,(2*i-3)):\n",
    "            print(\" \")\n",
    "        if(i!=1):\n",
    "            for j in range(1,i):\n",
    "                print(i-j-1)\n",
    "pet(5)"
   ]
  },
  {
   "cell_type": "code",
   "execution_count": 11,
   "id": "73844a94",
   "metadata": {},
   "outputs": [
    {
     "name": "stdout",
     "output_type": "stream",
     "text": [
      "0 True\n",
      "1 True\n",
      "2 True\n",
      "3 True\n",
      "4 True\n",
      "5 True\n",
      "6 True\n",
      "7 True\n",
      "8 False\n",
      "9 True\n"
     ]
    }
   ],
   "source": [
    "arr = [9,6,4,2,3,5,7,0,1]\n",
    "x = len(arr)\n",
    "for i in range(x+1):\n",
    "    if i in arr:\n",
    "        print(i,True)\n",
    "    else:\n",
    "        print(i, False)"
   ]
  },
  {
   "cell_type": "code",
   "execution_count": 14,
   "id": "65e18d2d",
   "metadata": {},
   "outputs": [
    {
     "name": "stdout",
     "output_type": "stream",
     "text": [
      "Enter string:A man, a plan, a canal: Panama\n",
      "Not A Palindrome\n"
     ]
    }
   ],
   "source": [
    "a=input(\"Enter string:\")\n",
    "b=a[-1::-1]\n",
    "if (a==b):\n",
    "    print(\"Palindrome\")\n",
    "else:\n",
    "    print(\"Not A Palindrome\")"
   ]
  },
  {
   "cell_type": "code",
   "execution_count": 11,
   "id": "787965da",
   "metadata": {},
   "outputs": [
    {
     "name": "stdout",
     "output_type": "stream",
     "text": [
      "4444444444\n",
      "4333333334\n",
      "4322222234\n",
      "4321111234\n",
      "4321001234\n",
      "4321001234\n",
      "4321111234\n",
      "4322222234\n",
      "4333333334\n",
      "4444444444\n"
     ]
    }
   ],
   "source": [
    "def print_pattern():\n",
    "    size = 10\n",
    "    for i in range(size):\n",
    "        for j in range(size):\n",
    "            # Calculate the number to print based on the distance from the nearest edge\n",
    "            number = 4 - min(min(i, size - 1 - i), min(j, size - 1 - j))\n",
    "            print(number, end='')\n",
    "        print()\n",
    "\n",
    "print_pattern()\n"
   ]
  },
  {
   "cell_type": "code",
   "execution_count": 8,
   "id": "a570e15e",
   "metadata": {},
   "outputs": [],
   "source": [
    "w = 'Hello World'\n",
    "x = w.strip().split()"
   ]
  },
  {
   "cell_type": "code",
   "execution_count": 7,
   "id": "153ef8cc",
   "metadata": {},
   "outputs": [
    {
     "data": {
      "text/plain": [
       "'Hello World'"
      ]
     },
     "execution_count": 7,
     "metadata": {},
     "output_type": "execute_result"
    }
   ],
   "source": [
    "x"
   ]
  },
  {
   "cell_type": "code",
   "execution_count": 4,
   "id": "81eba086",
   "metadata": {},
   "outputs": [
    {
     "name": "stdout",
     "output_type": "stream",
     "text": [
      "3\n",
      "58\n",
      "1994\n"
     ]
    }
   ],
   "source": [
    "class Solution:\n",
    "    def romanToInt(self, s: str) -> int:\n",
    "        # Define the Roman numerals and their corresponding integer values\n",
    "        roman_to_int = {\n",
    "            'I': 1,\n",
    "            'V': 5,\n",
    "            'X': 10,\n",
    "            'L': 50,\n",
    "            'C': 100,\n",
    "            'D': 500,\n",
    "            'M': 1000\n",
    "        }\n",
    "        \n",
    "        total = 0\n",
    "        prev_value = 0\n",
    "        \n",
    "        # Iterate through each character in the string from right to left\n",
    "        for char in reversed(s):\n",
    "            value = roman_to_int[char]\n",
    "            \n",
    "            # If the current value is less than the previous value, subtract it from total\n",
    "            if value < prev_value:\n",
    "                total -= value\n",
    "            else:\n",
    "                # Otherwise, add the value to total\n",
    "                total += value\n",
    "            \n",
    "            # Update previous value\n",
    "            prev_value = value\n",
    "        \n",
    "        return total\n",
    "\n",
    "# Example usage:\n",
    "sol = Solution()\n",
    "print(sol.romanToInt(\"III\"))       # Output: 3\n",
    "print(sol.romanToInt(\"LVIII\"))     # Output: 58\n",
    "print(sol.romanToInt(\"MCMXCIV\"))   # Output: 1994\n"
   ]
  },
  {
   "cell_type": "code",
   "execution_count": 5,
   "id": "f1e0954b",
   "metadata": {},
   "outputs": [],
   "source": [
    "num = [2,2,1]\n",
    "result = 0\n",
    "for n in num:\n",
    "    result^=n\n",
    "    "
   ]
  },
  {
   "cell_type": "code",
   "execution_count": 6,
   "id": "1f9126a4",
   "metadata": {},
   "outputs": [
    {
     "data": {
      "text/plain": [
       "1"
      ]
     },
     "execution_count": 6,
     "metadata": {},
     "output_type": "execute_result"
    }
   ],
   "source": [
    "result"
   ]
  },
  {
   "cell_type": "code",
   "execution_count": 5,
   "id": "f825212b",
   "metadata": {},
   "outputs": [
    {
     "name": "stdout",
     "output_type": "stream",
     "text": [
      "847604949\n",
      "2\n"
     ]
    }
   ],
   "source": [
    "def sum_of_digits(n):\n",
    "    return sum(int(digit) for digit in n)\n",
    "\n",
    "def count_casts_to_single_digit(n):\n",
    "    # If the number is already a single digit\n",
    "    if len(n) == 1:\n",
    "        return 0\n",
    "\n",
    "    count = 0\n",
    "    while len(n) > 1:\n",
    "        n = str(sum_of_digits(n))\n",
    "        count += 1\n",
    "\n",
    "    return count\n",
    "\n",
    "# Read input\n",
    "n = input().strip()\n",
    "\n",
    "# Get the result\n",
    "result = count_casts_to_single_digit(n)\n",
    "\n",
    "# Print the result\n",
    "print(result)\n"
   ]
  },
  {
   "cell_type": "code",
   "execution_count": 15,
   "id": "c22feef5",
   "metadata": {},
   "outputs": [
    {
     "name": "stdout",
     "output_type": "stream",
     "text": [
      "Q . . . . . . .\n",
      ". . . . Q . . .\n",
      ". . . . . . . Q\n",
      ". . . . . Q . .\n",
      ". . Q . . . . .\n",
      ". . . . . . Q .\n",
      ". Q . . . . . .\n",
      ". . . Q . . . .\n"
     ]
    }
   ],
   "source": [
    "def is_safe(board, row, col, n):\n",
    "    # Check this column on upper side\n",
    "    for i in range(row):\n",
    "        if board[i][col] == 1:\n",
    "            return False\n",
    "    # Check upper diagonal on left side\n",
    "    for i, j in zip(range(row, -1, -1), range(col, -1, -1)):\n",
    "        if board[i][j] == 1:\n",
    "            return False\n",
    "\n",
    "    # Check upper diagonal on right side\n",
    "    for i, j in zip(range(row, -1, -1), range(col, n)):\n",
    "        if board[i][j] == 1:\n",
    "            return False\n",
    "\n",
    "    return True\n",
    "\n",
    "def solve_n_queens_util(board, row, n):\n",
    "    # If all queens are placed then return True\n",
    "    if row >= n:\n",
    "        return True\n",
    "\n",
    "    # Consider this row and try placing this queen in all columns one by one\n",
    "    for col in range(n):\n",
    "        if is_safe(board, row, col, n):\n",
    "            # Place this queen in board[row][col]\n",
    "            board[row][col] = 1\n",
    "\n",
    "            # Recur to place rest of the queens\n",
    "            if solve_n_queens_util(board, row + 1, n):\n",
    "                return True\n",
    "\n",
    "            # If placing queen in board[row][col] doesn't lead to a solution then remove queen\n",
    "            board[row][col] = 0\n",
    "\n",
    "    # If the queen cannot be placed in any column in this row then return False\n",
    "    return False\n",
    "\n",
    "def solve_n_queens(n):\n",
    "    board = [[0 for _ in range(n)] for _ in range(n)]\n",
    "    if not solve_n_queens_util(board, 0, n):\n",
    "        print(\"Solution does not exist\")\n",
    "        return\n",
    "    print_solution(board)\n",
    "\n",
    "def print_solution(board):\n",
    "    for row in board:\n",
    "        print(\" \".join(\"Q\" if col == 1 else \".\" for col in row))\n",
    "\n",
    "# Example usage\n",
    "n = 8\n",
    "solve_n_queens(n)\n"
   ]
  },
  {
   "cell_type": "code",
   "execution_count": 16,
   "id": "eec5d427",
   "metadata": {},
   "outputs": [
    {
     "name": "stdout",
     "output_type": "stream",
     "text": [
      "True\n",
      "False\n"
     ]
    }
   ],
   "source": [
    "from typing import List\n",
    "\n",
    "class Solution:\n",
    "    def isValidSudoku(self, board: List[List[str]]) -> bool:\n",
    "        def is_valid_unit(unit):\n",
    "            unit = [num for num in unit if num != '.']\n",
    "            return len(unit) == len(set(unit))\n",
    "        \n",
    "        def is_valid_row(board):\n",
    "            for row in board:\n",
    "                if not is_valid_unit(row):\n",
    "                    return False\n",
    "            return True\n",
    "\n",
    "        def is_valid_column(board):\n",
    "            for col in zip(*board):\n",
    "                if not is_valid_unit(col):\n",
    "                    return False\n",
    "            return True\n",
    "\n",
    "        def is_valid_sub_boxes(board):\n",
    "            for i in range(0, 9, 3):\n",
    "                for j in range(0, 9, 3):\n",
    "                    sub_box = [board[x][y] for x in range(i, i + 3) for y in range(j, j + 3)]\n",
    "                    if not is_valid_unit(sub_box):\n",
    "                        return False\n",
    "            return True\n",
    "\n",
    "        return is_valid_row(board) and is_valid_column(board) and is_valid_sub_boxes(board)\n",
    "\n",
    "# Example usage\n",
    "board1 = [\n",
    "    [\"5\", \"3\", \".\", \".\", \"7\", \".\", \".\", \".\", \".\"],\n",
    "    [\"6\", \".\", \".\", \"1\", \"9\", \"5\", \".\", \".\", \".\"],\n",
    "    [\".\", \"9\", \"8\", \".\", \".\", \".\", \".\", \"6\", \".\"],\n",
    "    [\"8\", \".\", \".\", \".\", \"6\", \".\", \".\", \".\", \"3\"],\n",
    "    [\"4\", \".\", \".\", \"8\", \".\", \"3\", \".\", \".\", \"1\"],\n",
    "    [\"7\", \".\", \".\", \".\", \"2\", \".\", \".\", \".\", \"6\"],\n",
    "    [\".\", \"6\", \".\", \".\", \".\", \".\", \"2\", \"8\", \".\"],\n",
    "    [\".\", \".\", \".\", \"4\", \"1\", \"9\", \".\", \".\", \"5\"],\n",
    "    [\".\", \".\", \".\", \".\", \"8\", \".\", \".\", \"7\", \"9\"]\n",
    "]\n",
    "\n",
    "board2 = [\n",
    "    [\"8\", \"3\", \".\", \".\", \"7\", \".\", \".\", \".\", \".\"],\n",
    "    [\"6\", \".\", \".\", \"1\", \"9\", \"5\", \".\", \".\", \".\"],\n",
    "    [\".\", \"9\", \"8\", \".\", \".\", \".\", \".\", \"6\", \".\"],\n",
    "    [\"8\", \".\", \".\", \".\", \"6\", \".\", \".\", \".\", \"3\"],\n",
    "    [\"4\", \".\", \".\", \"8\", \".\", \"3\", \".\", \".\", \"1\"],\n",
    "    [\"7\", \".\", \".\", \".\", \"2\", \".\", \".\", \".\", \"6\"],\n",
    "    [\".\", \"6\", \".\", \".\", \".\", \".\", \"2\", \"8\", \".\"],\n",
    "    [\".\", \".\", \".\", \"4\", \"1\", \"9\", \".\", \".\", \"5\"],\n",
    "    [\".\", \".\", \".\", \".\", \"8\", \".\", \".\", \"7\", \"9\"]\n",
    "]\n",
    "\n",
    "solution = Solution()\n",
    "print(solution.isValidSudoku(board1))  # Output: True\n",
    "print(solution.isValidSudoku(board2))  # Output: False\n"
   ]
  },
  {
   "cell_type": "code",
   "execution_count": 17,
   "id": "757e967c",
   "metadata": {},
   "outputs": [
    {
     "name": "stdout",
     "output_type": "stream",
     "text": [
      "['5', '3', '4', '6', '7', '8', '9', '1', '2']\n",
      "['6', '7', '2', '1', '9', '5', '3', '4', '8']\n",
      "['1', '9', '8', '3', '4', '2', '5', '6', '7']\n",
      "['8', '5', '9', '7', '6', '1', '4', '2', '3']\n",
      "['4', '2', '6', '8', '5', '3', '7', '9', '1']\n",
      "['7', '1', '3', '9', '2', '4', '8', '5', '6']\n",
      "['9', '6', '1', '5', '3', '7', '2', '8', '4']\n",
      "['2', '8', '7', '4', '1', '9', '6', '3', '5']\n",
      "['3', '4', '5', '2', '8', '6', '1', '7', '9']\n"
     ]
    }
   ],
   "source": [
    "from typing import List\n",
    "\n",
    "class Solution:\n",
    "    def solveSudoku(self, board: List[List[str]]) -> None:\n",
    "        def is_valid(board, row, col, num):\n",
    "            # Check the row\n",
    "            for c in range(9):\n",
    "                if board[row][c] == num:\n",
    "                    return False\n",
    "            # Check the column\n",
    "            for r in range(9):\n",
    "                if board[r][col] == num:\n",
    "                    return False\n",
    "            # Check the 3x3 sub-box\n",
    "            start_row, start_col = 3 * (row // 3), 3 * (col // 3)\n",
    "            for r in range(start_row, start_row + 3):\n",
    "                for c in range(start_col, start_col + 3):\n",
    "                    if board[r][c] == num:\n",
    "                        return False\n",
    "            return True\n",
    "\n",
    "        def solve(board):\n",
    "            for row in range(9):\n",
    "                for col in range(9):\n",
    "                    if board[row][col] == '.':\n",
    "                        for num in map(str, range(1, 10)):\n",
    "                            if is_valid(board, row, col, num):\n",
    "                                board[row][col] = num\n",
    "                                if solve(board):\n",
    "                                    return True\n",
    "                                board[row][col] = '.'\n",
    "                        return False\n",
    "            return True\n",
    "\n",
    "        solve(board)\n",
    "\n",
    "# Example usage\n",
    "board = [\n",
    "    [\"5\", \"3\", \".\", \".\", \"7\", \".\", \".\", \".\", \".\"],\n",
    "    [\"6\", \".\", \".\", \"1\", \"9\", \"5\", \".\", \".\", \".\"],\n",
    "    [\".\", \"9\", \"8\", \".\", \".\", \".\", \".\", \"6\", \".\"],\n",
    "    [\"8\", \".\", \".\", \".\", \"6\", \".\", \".\", \".\", \"3\"],\n",
    "    [\"4\", \".\", \".\", \"8\", \".\", \"3\", \".\", \".\", \"1\"],\n",
    "    [\"7\", \".\", \".\", \".\", \"2\", \".\", \".\", \".\", \"6\"],\n",
    "    [\".\", \"6\", \".\", \".\", \".\", \".\", \"2\", \"8\", \".\"],\n",
    "    [\".\", \".\", \".\", \"4\", \"1\", \"9\", \".\", \".\", \"5\"],\n",
    "    [\".\", \".\", \".\", \".\", \"8\", \".\", \".\", \"7\", \"9\"]\n",
    "]\n",
    "\n",
    "solution = Solution()\n",
    "solution.solveSudoku(board)\n",
    "for row in board:\n",
    "    print(row)\n"
   ]
  },
  {
   "cell_type": "code",
   "execution_count": 4,
   "id": "795042aa",
   "metadata": {},
   "outputs": [
    {
     "name": "stdout",
     "output_type": "stream",
     "text": [
      "[3, 9, 20, None, None, 15, 7]\n"
     ]
    }
   ],
   "source": [
    "# Definition for a binary tree node.\n",
    "from typing import List\n",
    "class TreeNode:\n",
    "    def __init__(self, val=0, left=None, right=None):\n",
    "        self.val = val\n",
    "        self.left = left\n",
    "        self.right = right\n",
    "\n",
    "class Solution:\n",
    "    def buildTree(self, preorder: List[int], inorder: List[int]):\n",
    "        if not preorder or not inorder:\n",
    "            return None\n",
    "\n",
    "        # The first element of preorder is the root\n",
    "        root_val = preorder[0]\n",
    "        root = TreeNode(root_val)\n",
    "\n",
    "        # Find the index of the root in inorder list\n",
    "        mid = inorder.index(root_val)\n",
    "\n",
    "        # Recursively construct the left and right subtree\n",
    "        # For preorder, skip the first element which is the root\n",
    "        root.left = self.buildTree(preorder[1:mid+1], inorder[:mid])\n",
    "        root.right = self.buildTree(preorder[mid+1:], inorder[mid+1:])\n",
    "\n",
    "        return root\n",
    "preorder = [3, 9, 20, 15, 7]\n",
    "inorder = [9, 3, 15, 20, 7]\n",
    "solution = Solution()\n",
    "# Build the tree\n",
    "root = solution.buildTree(preorder, inorder)\n",
    "\n",
    "# Function to print tree in level order for verification\n",
    "from collections import deque\n",
    "def print_level_order(root):\n",
    "    if not root:\n",
    "        return \"[]\"\n",
    "    result = []\n",
    "    queue = deque([root])\n",
    "    while queue:\n",
    "        node = queue.popleft()\n",
    "        if node:\n",
    "            result.append(node.val)\n",
    "            queue.append(node.left)\n",
    "            queue.append(node.right)\n",
    "        else:\n",
    "            result.append(None)\n",
    "    # Remove trailing None values for cleaner output\n",
    "    while result and result[-1] is None:\n",
    "        result.pop()\n",
    "    return result\n",
    "\n",
    "# Verify the constructed tree\n",
    "print(print_level_order(root))"
   ]
  },
  {
   "cell_type": "code",
   "execution_count": 6,
   "id": "a77d0882",
   "metadata": {},
   "outputs": [
    {
     "name": "stdout",
     "output_type": "stream",
     "text": [
      "5\n",
      "4\n"
     ]
    }
   ],
   "source": [
    "import heapq\n",
    "from typing import List\n",
    "class Solution:\n",
    "    def findKthLargest(self, nums: List[int], k: int) -> int:\n",
    "        # Initialize a min-heap\n",
    "        min_heap = []\n",
    "        \n",
    "        for num in nums:\n",
    "            # Add the current number to the heap\n",
    "            heapq.heappush(min_heap, num)\n",
    "            \n",
    "            # If the size of the heap exceeds k, remove the smallest element\n",
    "            if len(min_heap) > k:\n",
    "                heapq.heappop(min_heap)\n",
    "        \n",
    "        # The root of the heap is the kth largest element\n",
    "        return min_heap[0]\n",
    "\n",
    "# Example Usage\n",
    "solution = Solution()\n",
    "print(solution.findKthLargest([3,2,1,5,6,4], 2))  # Output: 5\n",
    "print(solution.findKthLargest([3,2,3,1,2,4,5,5,6], 4))  # Output: 4\n"
   ]
  },
  {
   "cell_type": "code",
   "execution_count": null,
   "id": "1a76647b",
   "metadata": {},
   "outputs": [],
   "source": []
  }
 ],
 "metadata": {
  "kernelspec": {
   "display_name": "Python 3 (ipykernel)",
   "language": "python",
   "name": "python3"
  },
  "language_info": {
   "codemirror_mode": {
    "name": "ipython",
    "version": 3
   },
   "file_extension": ".py",
   "mimetype": "text/x-python",
   "name": "python",
   "nbconvert_exporter": "python",
   "pygments_lexer": "ipython3",
   "version": "3.9.7"
  }
 },
 "nbformat": 4,
 "nbformat_minor": 5
}
