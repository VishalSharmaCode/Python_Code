{
 "cells": [
  {
   "cell_type": "code",
   "execution_count": 1,
   "id": "f507fa55",
   "metadata": {},
   "outputs": [
    {
     "data": {
      "text/plain": [
       "(1, 2, 3, 4, 5)"
      ]
     },
     "execution_count": 1,
     "metadata": {},
     "output_type": "execute_result"
    }
   ],
   "source": [
    "t=(1,2,3,4,5)\n",
    "t"
   ]
  },
  {
   "cell_type": "code",
   "execution_count": 3,
   "id": "10ea3c86",
   "metadata": {},
   "outputs": [
    {
     "data": {
      "text/plain": [
       "tuple"
      ]
     },
     "execution_count": 3,
     "metadata": {},
     "output_type": "execute_result"
    }
   ],
   "source": [
    "t1=(1,)\n",
    "type(t1)\n"
   ]
  },
  {
   "cell_type": "code",
   "execution_count": 4,
   "id": "b0485eef",
   "metadata": {},
   "outputs": [
    {
     "data": {
      "text/plain": [
       "('s', 't', 'r', 'i', 'n', 'g')"
      ]
     },
     "execution_count": 4,
     "metadata": {},
     "output_type": "execute_result"
    }
   ],
   "source": [
    "t=tuple(\"string\")\n",
    "t"
   ]
  },
  {
   "cell_type": "code",
   "execution_count": 5,
   "id": "610576dd",
   "metadata": {},
   "outputs": [
    {
     "data": {
      "text/plain": [
       "1"
      ]
     },
     "execution_count": 5,
     "metadata": {},
     "output_type": "execute_result"
    }
   ],
   "source": [
    "t=(\"string\")\n",
    "t.count('t')"
   ]
  },
  {
   "cell_type": "code",
   "execution_count": 2,
   "id": "2b455756",
   "metadata": {},
   "outputs": [
    {
     "data": {
      "text/plain": [
       "7"
      ]
     },
     "execution_count": 2,
     "metadata": {},
     "output_type": "execute_result"
    }
   ],
   "source": [
    "t=('p','y','t','h','o','n','o')\n",
    "len(t)"
   ]
  },
  {
   "cell_type": "code",
   "execution_count": 8,
   "id": "b45c3f06",
   "metadata": {},
   "outputs": [
    {
     "data": {
      "text/plain": [
       "'h'"
      ]
     },
     "execution_count": 8,
     "metadata": {},
     "output_type": "execute_result"
    }
   ],
   "source": [
    "min(t)"
   ]
  },
  {
   "cell_type": "code",
   "execution_count": 9,
   "id": "2f107664",
   "metadata": {},
   "outputs": [
    {
     "data": {
      "text/plain": [
       "'y'"
      ]
     },
     "execution_count": 9,
     "metadata": {},
     "output_type": "execute_result"
    }
   ],
   "source": [
    "max(t)"
   ]
  },
  {
   "cell_type": "code",
   "execution_count": 18,
   "id": "67ff8e77",
   "metadata": {},
   "outputs": [
    {
     "data": {
      "text/plain": [
       "2"
      ]
     },
     "execution_count": 18,
     "metadata": {},
     "output_type": "execute_result"
    }
   ],
   "source": [
    "t.count('o')"
   ]
  },
  {
   "cell_type": "code",
   "execution_count": 64,
   "id": "42e4da0d",
   "metadata": {},
   "outputs": [
    {
     "data": {
      "text/plain": [
       "3"
      ]
     },
     "execution_count": 64,
     "metadata": {},
     "output_type": "execute_result"
    }
   ],
   "source": [
    "t.index('h')"
   ]
  },
  {
   "cell_type": "code",
   "execution_count": 8,
   "id": "c6fb5e3b",
   "metadata": {},
   "outputs": [
    {
     "data": {
      "text/plain": [
       "128"
      ]
     },
     "execution_count": 8,
     "metadata": {},
     "output_type": "execute_result"
    }
   ],
   "source": [
    "t=(43,53,32)\n",
    "sum(t)"
   ]
  },
  {
   "cell_type": "code",
   "execution_count": 24,
   "id": "0035b07f",
   "metadata": {},
   "outputs": [
    {
     "name": "stdout",
     "output_type": "stream",
     "text": [
      "(1, 2, 3, 4)\n",
      "('a', 'd', 'r')\n"
     ]
    }
   ],
   "source": [
    "def creat(*args):\n",
    "    print(args)\n",
    "creat(1,2,3,4)\n",
    "creat('a','d','r')"
   ]
  },
  {
   "cell_type": "code",
   "execution_count": 30,
   "id": "c3770a00",
   "metadata": {},
   "outputs": [
    {
     "name": "stdout",
     "output_type": "stream",
     "text": [
      "10\n"
     ]
    }
   ],
   "source": [
    "#creat a fun \n",
    "def creat(*args):\n",
    "    c=sum(args)\n",
    "    print(c)\n",
    "creat(1,2,3,4)    "
   ]
  },
  {
   "cell_type": "code",
   "execution_count": 12,
   "id": "db7bf77b",
   "metadata": {},
   "outputs": [
    {
     "data": {
      "text/plain": [
       "[1, 2, 8, 6, 5]"
      ]
     },
     "execution_count": 12,
     "metadata": {},
     "output_type": "execute_result"
    }
   ],
   "source": [
    "t=(1,2,8,6,5)\n",
    "t1=list(t)\n",
    "t1"
   ]
  },
  {
   "cell_type": "code",
   "execution_count": 13,
   "id": "14c5708a",
   "metadata": {},
   "outputs": [
    {
     "data": {
      "text/plain": [
       "[1, 2, 5, 6, 8]"
      ]
     },
     "execution_count": 13,
     "metadata": {},
     "output_type": "execute_result"
    }
   ],
   "source": [
    "t1.sort()\n",
    "t1"
   ]
  },
  {
   "cell_type": "code",
   "execution_count": 45,
   "id": "3f25cf17",
   "metadata": {},
   "outputs": [
    {
     "data": {
      "text/plain": [
       "(1, 2, 5, 6, 8)"
      ]
     },
     "execution_count": 45,
     "metadata": {},
     "output_type": "execute_result"
    }
   ],
   "source": [
    "t1=tuple(t1)\n",
    "t1"
   ]
  },
  {
   "cell_type": "code",
   "execution_count": 46,
   "id": "e2d4ca83",
   "metadata": {},
   "outputs": [
    {
     "name": "stdout",
     "output_type": "stream",
     "text": [
      "1 a\n",
      "2 b\n",
      "3 c\n"
     ]
    }
   ],
   "source": [
    "t=[(1,'a'),(2,'b'),(3,'c')]\n",
    "for no,ch in t:\n",
    "    print(no,ch)"
   ]
  },
  {
   "cell_type": "code",
   "execution_count": 4,
   "id": "14245cae",
   "metadata": {},
   "outputs": [
    {
     "data": {
      "text/plain": [
       "[(1, 'x'), (2, 'y'), (3, 'z'), (4, 'n')]"
      ]
     },
     "execution_count": 4,
     "metadata": {},
     "output_type": "execute_result"
    }
   ],
   "source": [
    "#zip\n",
    "a=[1,2,3,4]\n",
    "b=\"xyzn\"\n",
    "list(zip(a,b))"
   ]
  },
  {
   "cell_type": "code",
   "execution_count": 49,
   "id": "bc50c928",
   "metadata": {},
   "outputs": [
    {
     "data": {
      "text/plain": [
       "((1, 'x'), (2, 'y'), (3, 'z'), (4, 'n'))"
      ]
     },
     "execution_count": 49,
     "metadata": {},
     "output_type": "execute_result"
    }
   ],
   "source": [
    "a=[1,2,3,4]\n",
    "b=\"xyzn\"\n",
    "tuple(zip(a,b))"
   ]
  },
  {
   "cell_type": "code",
   "execution_count": 51,
   "id": "faf25515",
   "metadata": {},
   "outputs": [
    {
     "data": {
      "text/plain": [
       "((1, 'x'), (2, 'y'), (3, 'z'), (4, 'n'))"
      ]
     },
     "execution_count": 51,
     "metadata": {},
     "output_type": "execute_result"
    }
   ],
   "source": [
    "a=[1,2,3,4,5,3]\n",
    "b=\"xyzn\"\n",
    "tuple(zip(a,b))"
   ]
  },
  {
   "cell_type": "code",
   "execution_count": 52,
   "id": "384adf10",
   "metadata": {},
   "outputs": [
    {
     "data": {
      "text/plain": [
       "<zip at 0x1fcb1d5a880>"
      ]
     },
     "execution_count": 52,
     "metadata": {},
     "output_type": "execute_result"
    }
   ],
   "source": [
    "a=[1,2,3,4]\n",
    "b=\"xyzn\"\n",
    "(zip(a,b))"
   ]
  },
  {
   "cell_type": "code",
   "execution_count": 55,
   "id": "c2beae67",
   "metadata": {},
   "outputs": [
    {
     "name": "stdout",
     "output_type": "stream",
     "text": [
      "('black', 1)\n",
      "('white', 2)\n",
      "('red', 3)\n"
     ]
    }
   ],
   "source": [
    "l1=[\"black\",\"white\",\"red\"]\n",
    "l2=[1,2,3]\n",
    "l3=list(zip(l1,l2))\n",
    "for i in l3:\n",
    "    print(i)"
   ]
  },
  {
   "cell_type": "code",
   "execution_count": 57,
   "id": "8e5c2703",
   "metadata": {},
   "outputs": [
    {
     "name": "stdout",
     "output_type": "stream",
     "text": [
      "('black', 1)\n",
      "('white', 2)\n",
      "('red', 3)\n"
     ]
    }
   ],
   "source": [
    "l1=[\"black\",\"white\",\"red\"]\n",
    "l2=[1,2,3]\n",
    "l3=list(zip(l1,l2))\n",
    "for ch,no in l3:\n",
    "    print((ch,no))"
   ]
  },
  {
   "cell_type": "code",
   "execution_count": 58,
   "id": "7595b4c8",
   "metadata": {},
   "outputs": [
    {
     "name": "stdout",
     "output_type": "stream",
     "text": [
      "('India', 'Delhi')\n",
      "(3000, 5000)\n"
     ]
    }
   ],
   "source": [
    "ags=[(\"India\",3000),(\"Delhi\",5000)]\n",
    "countery,captial=zip(*ags)\n",
    "print(countery)\n",
    "print(captial)"
   ]
  },
  {
   "cell_type": "code",
   "execution_count": 59,
   "id": "9580b67b",
   "metadata": {},
   "outputs": [
    {
     "name": "stdout",
     "output_type": "stream",
     "text": [
      "(500, 789)\n",
      "(3000, 5000)\n"
     ]
    }
   ],
   "source": [
    "ags=[(500,3000),(789,5000)]\n",
    "countery,captial=zip(*ags)\n",
    "print(countery)\n",
    "print(captial)"
   ]
  },
  {
   "cell_type": "code",
   "execution_count": 88,
   "id": "ec62222a",
   "metadata": {},
   "outputs": [
    {
     "name": "stdout",
     "output_type": "stream",
     "text": [
      "(1, 3, 5)\n"
     ]
    }
   ],
   "source": [
    "t=(1,2,3,4,5,6)\n",
    "t3=[]\n",
    "c=len(t)\n",
    "for i in range(1,c,2):\n",
    "    t3.append(i)\n",
    "t4=tuple(t3)\n",
    "print(t4)\n",
    "    "
   ]
  },
  {
   "cell_type": "code",
   "execution_count": 70,
   "id": "c7140e92",
   "metadata": {},
   "outputs": [
    {
     "data": {
      "text/plain": [
       "{3, 5, 6}"
      ]
     },
     "execution_count": 70,
     "metadata": {},
     "output_type": "execute_result"
    }
   ],
   "source": [
    "l=[5,3,6]\n",
    "s1=set(l)\n",
    "s1"
   ]
  },
  {
   "cell_type": "code",
   "execution_count": 3,
   "id": "a66dc75d",
   "metadata": {},
   "outputs": [
    {
     "data": {
      "text/plain": [
       "6"
      ]
     },
     "execution_count": 3,
     "metadata": {},
     "output_type": "execute_result"
    }
   ],
   "source": [
    "t=(1,2,3,4,5,6)\n",
    "max(t)"
   ]
  },
  {
   "cell_type": "code",
   "execution_count": 23,
   "id": "297f82fd",
   "metadata": {},
   "outputs": [
    {
     "name": "stdout",
     "output_type": "stream",
     "text": [
      "odd 1    even 2\n",
      "odd 3    even 4\n",
      "odd 5    even 6\n"
     ]
    }
   ],
   "source": [
    "tup=(1,2,3,4,5,6)\n",
    "def evenodd():\n",
    "    for i in tup:\n",
    "        if i%2==0:\n",
    "            print(\"  even\",i)\n",
    "        else:\n",
    "            print(\"odd\",i,end=\"  \")\n",
    "evenodd()"
   ]
  },
  {
   "cell_type": "code",
   "execution_count": 31,
   "id": "7e039450",
   "metadata": {},
   "outputs": [
    {
     "ename": "NameError",
     "evalue": "name 'index' is not defined",
     "output_type": "error",
     "traceback": [
      "\u001b[1;31m---------------------------------------------------------------------------\u001b[0m",
      "\u001b[1;31mNameError\u001b[0m                                 Traceback (most recent call last)",
      "\u001b[1;32m~\\AppData\\Local\\Temp/ipykernel_19740/172969380.py\u001b[0m in \u001b[0;36m<module>\u001b[1;34m\u001b[0m\n\u001b[0;32m      3\u001b[0m \u001b[0ml2\u001b[0m\u001b[1;33m=\u001b[0m\u001b[1;33m[\u001b[0m\u001b[1;33m]\u001b[0m\u001b[1;33m\u001b[0m\u001b[1;33m\u001b[0m\u001b[0m\n\u001b[0;32m      4\u001b[0m \u001b[1;32mfor\u001b[0m \u001b[0mi\u001b[0m \u001b[1;32min\u001b[0m \u001b[0mt1\u001b[0m\u001b[1;33m:\u001b[0m\u001b[1;33m\u001b[0m\u001b[1;33m\u001b[0m\u001b[0m\n\u001b[1;32m----> 5\u001b[1;33m     \u001b[0mprint\u001b[0m\u001b[1;33m(\u001b[0m\u001b[0mindex\u001b[0m\u001b[1;33m(\u001b[0m\u001b[0mi\u001b[0m\u001b[1;33m)\u001b[0m\u001b[1;33m)\u001b[0m\u001b[1;33m\u001b[0m\u001b[1;33m\u001b[0m\u001b[0m\n\u001b[0m\u001b[0;32m      6\u001b[0m \u001b[1;33m\u001b[0m\u001b[0m\n\u001b[0;32m      7\u001b[0m \u001b[1;33m\u001b[0m\u001b[0m\n",
      "\u001b[1;31mNameError\u001b[0m: name 'index' is not defined"
     ]
    }
   ],
   "source": [
    "t=(1,2,3,4,5,6,7)\n",
    "t1=list(t)\n",
    "l2=[]\n",
    "for i in t1:\n",
    "    print()\n",
    "    \n",
    "    \n",
    "    \n",
    "    "
   ]
  },
  {
   "cell_type": "code",
   "execution_count": null,
   "id": "cf6e6b21",
   "metadata": {},
   "outputs": [],
   "source": []
  }
 ],
 "metadata": {
  "kernelspec": {
   "display_name": "Python 3 (ipykernel)",
   "language": "python",
   "name": "python3"
  },
  "language_info": {
   "codemirror_mode": {
    "name": "ipython",
    "version": 3
   },
   "file_extension": ".py",
   "mimetype": "text/x-python",
   "name": "python",
   "nbconvert_exporter": "python",
   "pygments_lexer": "ipython3",
   "version": "3.9.7"
  }
 },
 "nbformat": 4,
 "nbformat_minor": 5
}
