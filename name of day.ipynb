{
 "cells": [
  {
   "cell_type": "code",
   "execution_count": 2,
   "id": "3645832f",
   "metadata": {},
   "outputs": [
    {
     "name": "stdout",
     "output_type": "stream",
     "text": [
      "enter the numberc of day4\n",
      "thursday\n"
     ]
    }
   ],
   "source": [
    "'''wrte a pro a day of the week in entered day of the week is bw 1 ann 7\n",
    "display the day'''\n",
    "day=int(input(\"enter the numberc of day\"))\n",
    "if day==1:\n",
    "    print(\"monday\")\n",
    "elif day==2:\n",
    "    print(\"tuesday\")\n",
    "elif day==3:\n",
    "    print(\"wednesday\")\n",
    "elif day==4:\n",
    "    print(\"thursday\")\n",
    "elif day==5:\n",
    "    print(\"friday\")\n",
    "elif day==6:\n",
    "    print(\"satruday\")\n",
    "elif day==7:\n",
    "    print(\"sunday\")\n",
    "else:\n",
    "    print(\"given the wrong day\")"
   ]
  },
  {
   "cell_type": "code",
   "execution_count": null,
   "id": "e068e682",
   "metadata": {},
   "outputs": [],
   "source": []
  }
 ],
 "metadata": {
  "kernelspec": {
   "display_name": "Python 3 (ipykernel)",
   "language": "python",
   "name": "python3"
  },
  "language_info": {
   "codemirror_mode": {
    "name": "ipython",
    "version": 3
   },
   "file_extension": ".py",
   "mimetype": "text/x-python",
   "name": "python",
   "nbconvert_exporter": "python",
   "pygments_lexer": "ipython3",
   "version": "3.9.7"
  }
 },
 "nbformat": 4,
 "nbformat_minor": 5
}
