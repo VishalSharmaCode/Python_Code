{
 "cells": [
  {
   "cell_type": "code",
   "execution_count": 1,
   "id": "e9ac9373",
   "metadata": {},
   "outputs": [
    {
     "name": "stdout",
     "output_type": "stream",
     "text": [
      "Give a number153\n",
      "The number is armstrong\n"
     ]
    }
   ],
   "source": [
    "number=int(input(\"Give a number\"))\n",
    "sum=0\n",
    "temp=number\n",
    "while(number>0):\n",
    "    x=number%10\n",
    "    sum=sum+(x*x*x)\n",
    "    number=number//10\n",
    "if temp==sum:\n",
    "        print(\"The number is armstrong\")\n",
    "else:\n",
    "        print(\"The number is not armstrong\")\n",
    " "
   ]
  },
  {
   "cell_type": "code",
   "execution_count": null,
   "id": "cbe71839",
   "metadata": {},
   "outputs": [],
   "source": [
    "num=10\n",
    "sum=0\n",
    "while num>0:\n",
    "    print(num)\n",
    "    \n"
   ]
  },
  {
   "cell_type": "code",
   "execution_count": 1,
   "id": "1f8a5039",
   "metadata": {},
   "outputs": [
    {
     "name": "stdout",
     "output_type": "stream",
     "text": [
      "give a number=1\n",
      "give second number=2\n",
      "sum of two num 3\n"
     ]
    }
   ],
   "source": [
    "a=int(input(\"give a number=\"))\n",
    "b=eval(input(\"give second number=\"))\n",
    "c=a+b\n",
    "print(\"sum of two num\",c)"
   ]
  },
  {
   "cell_type": "code",
   "execution_count": 4,
   "id": "73662a53",
   "metadata": {},
   "outputs": [
    {
     "name": "stdout",
     "output_type": "stream",
     "text": [
      "67\n",
      "Weird\n"
     ]
    }
   ],
   "source": [
    "n=int(input())\n",
    "if n>=2 and n<=5:\n",
    "    if n%2==0:\n",
    "        print(\"Not Weird\")\n",
    "    else:\n",
    "        print(\"Weird\")\n",
    "elif n>=6 and n<=20:\n",
    "    if n%2==0:\n",
    "        print(\"Weird\")\n",
    "    else:\n",
    "        print(\"Not Weird\")\n",
    "else:\n",
    "    if n%2==0:\n",
    "        print(\"Not Weird\")\n",
    "    else:\n",
    "        print(\"Weird\")\n"
   ]
  },
  {
   "cell_type": "code",
   "execution_count": null,
   "id": "f9767368",
   "metadata": {},
   "outputs": [],
   "source": []
  }
 ],
 "metadata": {
  "kernelspec": {
   "display_name": "Python 3 (ipykernel)",
   "language": "python",
   "name": "python3"
  },
  "language_info": {
   "codemirror_mode": {
    "name": "ipython",
    "version": 3
   },
   "file_extension": ".py",
   "mimetype": "text/x-python",
   "name": "python",
   "nbconvert_exporter": "python",
   "pygments_lexer": "ipython3",
   "version": "3.9.7"
  }
 },
 "nbformat": 4,
 "nbformat_minor": 5
}
