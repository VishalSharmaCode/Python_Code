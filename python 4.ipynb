{
 "cells": [
  {
   "cell_type": "code",
   "execution_count": 2,
   "id": "68e60eba",
   "metadata": {},
   "outputs": [
    {
     "name": "stdout",
     "output_type": "stream",
     "text": [
      "enter the numberc of day9\n",
      "given the wrong day\n"
     ]
    }
   ],
   "source": [
    "'''wrte a pro a day of the week in entered day of the week is bw 1 ann 7\n",
    "display the day'''\n",
    "day=int(input(\"enter the numberc of day\"))\n",
    "if day==1:\n",
    "    print(\"monday\")\n",
    "elif day==2:\n",
    "    print(\"tuesday\")\n",
    "elif day==3:\n",
    "    print(\"wednesday\")\n",
    "elif day==4:\n",
    "    print(\"thursday\")\n",
    "elif day==5:\n",
    "    print(\"friday\")\n",
    "elif day==6:\n",
    "    print(\"satruday\")\n",
    "elif day==7:\n",
    "    print(\"sunday\")\n",
    "else:\n",
    "    print(\"given the wrong day\")"
   ]
  },
  {
   "cell_type": "code",
   "execution_count": 3,
   "id": "018d2063",
   "metadata": {},
   "outputs": [
    {
     "name": "stdout",
     "output_type": "stream",
     "text": [
      "give first value4\n",
      "give second value8\n",
      "num is greater than num1\n"
     ]
    }
   ],
   "source": [
    "num1=int(input(\"give first value\"))\n",
    "num=int(input(\"give second value\"))\n",
    "print(\"num1 is greater than num\")if num1>num else print(\"num is greater than num1\")"
   ]
  },
  {
   "cell_type": "code",
   "execution_count": 1,
   "id": "c665e0b7",
   "metadata": {},
   "outputs": [
    {
     "name": "stdout",
     "output_type": "stream",
     "text": [
      "count= 1\n",
      "count= 2\n",
      "count= 3\n",
      "count= 4\n",
      "sum= 10\n"
     ]
    }
   ],
   "source": [
    "#while loop\n",
    "sum=0\n",
    "count=1\n",
    "while count<5:\n",
    "    print(\"count=\",count)\n",
    "    sum=sum+count\n",
    "    count+=1\n",
    "print(\"sum=\",sum)\n",
    "    \n"
   ]
  },
  {
   "cell_type": "code",
   "execution_count": 14,
   "id": "e177347f",
   "metadata": {},
   "outputs": [
    {
     "data": {
      "text/plain": [
       "[-4, -3, -2, -1, 0, 1, 2, 3, 4, 5, 6]"
      ]
     },
     "execution_count": 14,
     "metadata": {},
     "output_type": "execute_result"
    }
   ],
   "source": [
    "#range\n",
    "#range(begin, end, step)\n",
    "list(range(-4,7))"
   ]
  },
  {
   "cell_type": "code",
   "execution_count": 15,
   "id": "4db7dd74",
   "metadata": {},
   "outputs": [
    {
     "data": {
      "text/plain": [
       "[1, 3, 5, 7, 9, 11]"
      ]
     },
     "execution_count": 15,
     "metadata": {},
     "output_type": "execute_result"
    }
   ],
   "source": [
    "list(range(1,12,2))"
   ]
  },
  {
   "cell_type": "code",
   "execution_count": 48,
   "id": "b841388e",
   "metadata": {},
   "outputs": [
    {
     "name": "stdout",
     "output_type": "stream",
     "text": [
      "give the numbe of row :5\n",
      "1 \n",
      "1 2 \n",
      "1 2 3 \n",
      "1 2 3 4 \n",
      "1 2 3 4 5 \n"
     ]
    }
   ],
   "source": [
    "\n",
    "    n=int(input(\"give the numbe of row :\"))\n",
    "    num = 1\n",
    "    for i in range(0, n):\n",
    "        num = 1\n",
    "        for j in range(0, i+1):\n",
    "            print(num, end=\" \")\n",
    "            num = num + 1\n",
    "        print(\"\\r\")\n",
    " \n"
   ]
  },
  {
   "cell_type": "code",
   "execution_count": 21,
   "id": "9e03236b",
   "metadata": {},
   "outputs": [
    {
     "name": "stdout",
     "output_type": "stream",
     "text": [
      "A B C D E F G H I J K L M N O P Q R S T U V W X Y Z "
     ]
    }
   ],
   "source": [
    "for i in range(65,91):\n",
    "    print(chr(i),end=\" \")"
   ]
  },
  {
   "cell_type": "code",
   "execution_count": 25,
   "id": "faf7f715",
   "metadata": {},
   "outputs": [
    {
     "name": "stdout",
     "output_type": "stream",
     "text": [
      "i= 1 j= 1\n",
      "i= 1 j= 2\n",
      "i= 1 j= 3\n",
      "i= 2 j= 1\n",
      "i= 2 j= 2\n",
      "i= 2 j= 3\n",
      "i= 3 j= 1\n",
      "i= 3 j= 2\n",
      "i= 3 j= 3\n"
     ]
    }
   ],
   "source": [
    "for i in range(1,4):\n",
    "    for j in range(1,4):\n",
    "        print(\"i=\",i, \"j=\",j)"
   ]
  },
  {
   "cell_type": "code",
   "execution_count": 28,
   "id": "bdb4953b",
   "metadata": {},
   "outputs": [
    {
     "name": "stdout",
     "output_type": "stream",
     "text": [
      "1 2 3 4 5 6 7 8 9 10 11 12 13 "
     ]
    }
   ],
   "source": [
    "for i in range(1,100):\n",
    "    if(i==14):\n",
    "        break\n",
    "    else:\n",
    "        print(i,end=\" \")\n"
   ]
  },
  {
   "cell_type": "code",
   "execution_count": 32,
   "id": "b0809fc4",
   "metadata": {},
   "outputs": [
    {
     "name": "stdout",
     "output_type": "stream",
     "text": [
      "1 2 3 5 "
     ]
    }
   ],
   "source": [
    "for i in range(1,6):\n",
    "    if i==4:\n",
    "        continue\n",
    "    print(i,end=\" \")\n"
   ]
  },
  {
   "cell_type": "code",
   "execution_count": 6,
   "id": "c09cb288",
   "metadata": {},
   "outputs": [
    {
     "name": "stdout",
     "output_type": "stream",
     "text": [
      "give the number3\n",
      "sum= 6\n"
     ]
    }
   ],
   "source": [
    "sum=0\n",
    "n=int(input(\"give the number\"))\n",
    "count=1\n",
    "while count<=n:\n",
    "    \n",
    "    sum=sum+count\n",
    "    count+=1\n",
    "print(\"sum=\",sum)\n",
    "    "
   ]
  },
  {
   "cell_type": "code",
   "execution_count": 4,
   "id": "f902c916",
   "metadata": {},
   "outputs": [
    {
     "name": "stdout",
     "output_type": "stream",
     "text": [
      "777\n",
      "sum= 21\n"
     ]
    }
   ],
   "source": [
    "sum = 0\n",
    "n=int(input())\n",
    "while (n != 0):\n",
    "    sum = sum + (n % 10)\n",
    "    n = n//10\n",
    "print(\"sum=\",sum)"
   ]
  },
  {
   "cell_type": "code",
   "execution_count": 9,
   "id": "80eefdd2",
   "metadata": {},
   "outputs": [
    {
     "name": "stdout",
     "output_type": "stream",
     "text": [
      "1\n",
      "9\n",
      "17\n",
      "25\n",
      "33\n",
      "41\n",
      "49\n",
      "57\n",
      "65\n",
      "73\n"
     ]
    }
   ],
   "source": [
    "for i in range(1,80,8):\n",
    "    print(i)"
   ]
  },
  {
   "cell_type": "code",
   "execution_count": 10,
   "id": "8427e4a6",
   "metadata": {},
   "outputs": [
    {
     "name": "stdout",
     "output_type": "stream",
     "text": [
      "1\n",
      "2\n",
      "3\n",
      "4\n",
      "5\n"
     ]
    }
   ],
   "source": [
    "i=1\n",
    "while i<6:\n",
    "    print(i)\n",
    "    i+=1"
   ]
  },
  {
   "cell_type": "code",
   "execution_count": null,
   "id": "8544701b",
   "metadata": {},
   "outputs": [],
   "source": []
  }
 ],
 "metadata": {
  "kernelspec": {
   "display_name": "Python 3 (ipykernel)",
   "language": "python",
   "name": "python3"
  },
  "language_info": {
   "codemirror_mode": {
    "name": "ipython",
    "version": 3
   },
   "file_extension": ".py",
   "mimetype": "text/x-python",
   "name": "python",
   "nbconvert_exporter": "python",
   "pygments_lexer": "ipython3",
   "version": "3.9.7"
  }
 },
 "nbformat": 4,
 "nbformat_minor": 5
}
