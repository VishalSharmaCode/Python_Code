{
 "cells": [
  {
   "cell_type": "code",
   "execution_count": 4,
   "id": "2d96b00b",
   "metadata": {},
   "outputs": [
    {
     "name": "stdout",
     "output_type": "stream",
     "text": [
      "Give a Word::  iioo\n",
      "Give second Word::  ooii\n",
      "true\n"
     ]
    }
   ],
   "source": [
    "#revrse\n",
    "def reverse():\n",
    "    str1= input(\"Give a Word::  \")\n",
    "    str2= input(\"Give second Word::  \")\n",
    "    if str1[::-1]==str2:\n",
    "        return \"true\"\n",
    "    else:\n",
    "        return \"False\" \n",
    "print (reverse())"
   ]
  },
  {
   "cell_type": "code",
   "execution_count": 1,
   "id": "afea0e38",
   "metadata": {},
   "outputs": [
    {
     "name": "stdout",
     "output_type": "stream",
     "text": [
      "Give a Word::  pandit\n",
      "Give second Word::  pandit\n",
      "tidnap\n",
      "False\n"
     ]
    }
   ],
   "source": [
    "str1= input(\"Give a Word::  \")\n",
    "str2= input(\"Give second Word::  \")\n",
    "x=str1[::-1]\n",
    "print(x)\n",
    "if str1[::-1]==str2:\n",
    "    print(\"true\")\n",
    "else:\n",
    "    print(\"False\")"
   ]
  },
  {
   "cell_type": "code",
   "execution_count": null,
   "id": "15326a6d",
   "metadata": {},
   "outputs": [],
   "source": []
  }
 ],
 "metadata": {
  "kernelspec": {
   "display_name": "Python 3 (ipykernel)",
   "language": "python",
   "name": "python3"
  },
  "language_info": {
   "codemirror_mode": {
    "name": "ipython",
    "version": 3
   },
   "file_extension": ".py",
   "mimetype": "text/x-python",
   "name": "python",
   "nbconvert_exporter": "python",
   "pygments_lexer": "ipython3",
   "version": "3.9.7"
  }
 },
 "nbformat": 4,
 "nbformat_minor": 5
}
