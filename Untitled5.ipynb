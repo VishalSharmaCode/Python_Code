{
 "cells": [
  {
   "cell_type": "code",
   "execution_count": 9,
   "id": "8e63707e",
   "metadata": {},
   "outputs": [
    {
     "name": "stdout",
     "output_type": "stream",
     "text": [
      "Even numbers [10, 24, 52, 1096]\n"
     ]
    }
   ],
   "source": [
    "list=[10,24,52,57,111,1096]\n",
    "n=[num for num in list if num %2==0 ]\n",
    "n=print(\"Even numbers\",n)\n"
   ]
  },
  {
   "cell_type": "code",
   "execution_count": 13,
   "id": "0a3905b8",
   "metadata": {},
   "outputs": [
    {
     "data": {
      "text/plain": [
       "[99.5, 132.8, 183.2, 109.4, 53.6]"
      ]
     },
     "execution_count": 13,
     "metadata": {},
     "output_type": "execute_result"
    }
   ],
   "source": [
    "#consider a list with five different celsius values . convert all the celsius values into fahrenheit\n",
    "celsius=[37.5,56,84,43,12]\n",
    "\n",
    "fahrenheit= [(x*9/5)+32for x in celsius]\n",
    "fahrenheit"
   ]
  },
  {
   "cell_type": "code",
   "execution_count": 18,
   "id": "eb005e17",
   "metadata": {},
   "outputs": [
    {
     "name": "stdout",
     "output_type": "stream",
     "text": [
      "integers [10, -30, 45]\n"
     ]
    }
   ],
   "source": [
    "'''consider the list with mixed type of elements . Create another list using list comprehension which\n",
    "consists of only the integer elements present withing the list.'''\n",
    "L1=[10,-30,45,0.-124]\n",
    "\n",
    "n=[x for x in L1 if type(x)==int]\n",
    "print(\"integers\" ,n)"
   ]
  },
  {
   "cell_type": "code",
   "execution_count": 21,
   "id": "2c3fe92f",
   "metadata": {},
   "outputs": [],
   "source": [
    "# create the list of five elements .pass this list to a function and compute the average of five numbers\n",
    "L1=[24,34,56,80,92]\n"
   ]
  },
  {
   "cell_type": "code",
   "execution_count": 22,
   "id": "d19da3ae",
   "metadata": {},
   "outputs": [
    {
     "ename": "SyntaxError",
     "evalue": "invalid syntax (Temp/ipykernel_19968/1906868960.py, line 2)",
     "output_type": "error",
     "traceback": [
      "\u001b[1;36m  File \u001b[1;32m\"C:\\Users\\HP\\AppData\\Local\\Temp/ipykernel_19968/1906868960.py\"\u001b[1;36m, line \u001b[1;32m2\u001b[0m\n\u001b[1;33m    n=[x for x in L1 if type(x)==prime number]\u001b[0m\n\u001b[1;37m                                       ^\u001b[0m\n\u001b[1;31mSyntaxError\u001b[0m\u001b[1;31m:\u001b[0m invalid syntax\n"
     ]
    }
   ],
   "source": []
  },
  {
   "cell_type": "code",
   "execution_count": null,
   "id": "7db55b8f",
   "metadata": {},
   "outputs": [],
   "source": []
  }
 ],
 "metadata": {
  "kernelspec": {
   "display_name": "Python 3 (ipykernel)",
   "language": "python",
   "name": "python3"
  },
  "language_info": {
   "codemirror_mode": {
    "name": "ipython",
    "version": 3
   },
   "file_extension": ".py",
   "mimetype": "text/x-python",
   "name": "python",
   "nbconvert_exporter": "python",
   "pygments_lexer": "ipython3",
   "version": "3.9.7"
  }
 },
 "nbformat": 4,
 "nbformat_minor": 5
}
