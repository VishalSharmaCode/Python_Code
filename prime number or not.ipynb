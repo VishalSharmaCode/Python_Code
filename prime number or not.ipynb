{
 "cells": [
  {
   "cell_type": "code",
   "execution_count": 5,
   "id": "76db2054",
   "metadata": {},
   "outputs": [
    {
     "name": "stdout",
     "output_type": "stream",
     "text": [
      "enter any number43\n",
      "43 number is prime\n"
     ]
    }
   ],
   "source": [
    "num=int(input(\"enter any number\"))\n",
    "if num>1:\n",
    "    for i in range(2,num//2):\n",
    "        if(num%i)==0:\n",
    "            print(num,\"is not prime\")\n",
    "            break\n",
    "    else:\n",
    "        print(num,\"number is prime\")"
   ]
  },
  {
   "cell_type": "code",
   "execution_count": 4,
   "id": "ad3b5c31",
   "metadata": {},
   "outputs": [
    {
     "name": "stdout",
     "output_type": "stream",
     "text": [
      "enter any number42\n",
      "n is not a Prime number\n"
     ]
    }
   ],
   "source": [
    "num=int(input(\"enter any number\"))\n",
    "c =0\n",
    "for i in range(2,num//2):\n",
    "        if (num% i == 0):\n",
    "            c+=1 \n",
    "            break\n",
    "if (c == 1): \n",
    "            print(\"n is not a Prime number\")\n",
    "else:\n",
    "            print(\"n is a Prime number\")\n",
    "  "
   ]
  },
  {
   "cell_type": "code",
   "execution_count": null,
   "id": "44d5fc3a",
   "metadata": {},
   "outputs": [],
   "source": []
  }
 ],
 "metadata": {
  "kernelspec": {
   "display_name": "Python 3 (ipykernel)",
   "language": "python",
   "name": "python3"
  },
  "language_info": {
   "codemirror_mode": {
    "name": "ipython",
    "version": 3
   },
   "file_extension": ".py",
   "mimetype": "text/x-python",
   "name": "python",
   "nbconvert_exporter": "python",
   "pygments_lexer": "ipython3",
   "version": "3.9.7"
  }
 },
 "nbformat": 4,
 "nbformat_minor": 5
}
