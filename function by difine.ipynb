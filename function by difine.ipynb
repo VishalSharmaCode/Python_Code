{
 "cells": [
  {
   "cell_type": "code",
   "execution_count": 1,
   "id": "7ddbbf80",
   "metadata": {},
   "outputs": [
    {
     "name": "stdout",
     "output_type": "stream",
     "text": [
      "28.259999999999998\n"
     ]
    }
   ],
   "source": [
    "\n",
    "def circle(radius):\n",
    "    area=3.14*radius*radius\n",
    "    return area\n",
    "\n",
    "print(circle(3))"
   ]
  },
  {
   "cell_type": "code",
   "execution_count": 20,
   "id": "7727c769",
   "metadata": {},
   "outputs": [
    {
     "name": "stdout",
     "output_type": "stream",
     "text": [
      "Enter your namevishal\n",
      "Dear vishal welcome to the python class\n"
     ]
    }
   ],
   "source": [
    "def msg():\n",
    "    str=input(\"Enter your name\")\n",
    "    print(\"Dear\", str, \"welcome to the python class\")\n",
    "msg()    "
   ]
  },
  {
   "cell_type": "code",
   "execution_count": 24,
   "id": "561cb109",
   "metadata": {},
   "outputs": [
    {
     "name": "stdout",
     "output_type": "stream",
     "text": [
      "sum of number from 1 to 25 is 325\n",
      "sum of number from 50 to 75 is 1625\n",
      "sum of number from -50 to 90 is 2820\n"
     ]
    }
   ],
   "source": [
    "def sum(x, y):\n",
    "    s=0\n",
    "    for i in range(x,y+1):\n",
    "        s=s+i\n",
    "    print(\"sum of number from\", x , 'to', y, 'is',s)\n",
    "sum(1,25)\n",
    "sum(50,75)\n",
    "sum(-50,90)\n"
   ]
  },
  {
   "cell_type": "code",
   "execution_count": 33,
   "id": "b017635b",
   "metadata": {},
   "outputs": [
    {
     "name": "stdout",
     "output_type": "stream",
     "text": [
      "name= sharma  age= 6\n"
     ]
    }
   ],
   "source": [
    "def display(name, age):\n",
    "    print(\"name=\",name,\"age=\",age)\n",
    "display(\"sharma \",6)    "
   ]
  },
  {
   "cell_type": "code",
   "execution_count": 40,
   "id": "cb85d0ab",
   "metadata": {},
   "outputs": [
    {
     "name": "stdout",
     "output_type": "stream",
     "text": [
      "name= 45 age= vishal\n"
     ]
    }
   ],
   "source": [
    "def display(name, age):\n",
    "    print(\"name=\",name,\"age=\",age)\n",
    "display(age=\"vishal\",name=45)   "
   ]
  },
  {
   "cell_type": "code",
   "execution_count": 45,
   "id": "db6d66e0",
   "metadata": {},
   "outputs": [
    {
     "name": "stdout",
     "output_type": "stream",
     "text": [
      "Hallo pandit ji Welcome to python class\n"
     ]
    }
   ],
   "source": [
    "def msg(name,massge=\"Welcome to python class\"):\n",
    "    print(\"Hallo\",name,massge)\n",
    "msg(\"pandit ji\")    "
   ]
  },
  {
   "cell_type": "code",
   "execution_count": 48,
   "id": "46c96e9c",
   "metadata": {},
   "outputs": [
    {
     "name": "stdout",
     "output_type": "stream",
     "text": [
      "a= 15 b= 30 c= 40\n",
      "a= 50 b= 36 c= 40\n",
      "a= 65 b= 567 c= 56\n"
     ]
    }
   ],
   "source": [
    "def display(a,b=30,c=40):\n",
    "    print(\"a=\",a,\"b=\",b,\"c=\",c)\n",
    "display(15)\n",
    "display(50,b=36)\n",
    "display(c=56,b=567,a=65)"
   ]
  },
  {
   "cell_type": "code",
   "execution_count": 2,
   "id": "fd719831",
   "metadata": {},
   "outputs": [
    {
     "name": "stdout",
     "output_type": "stream",
     "text": [
      "the value of local variable 5\n",
      "the value of globle variable 54\n"
     ]
    },
    {
     "ename": "NameError",
     "evalue": "name 'q' is not defined",
     "output_type": "error",
     "traceback": [
      "\u001b[1;31m---------------------------------------------------------------------------\u001b[0m",
      "\u001b[1;31mNameError\u001b[0m                                 Traceback (most recent call last)",
      "\u001b[1;32m~\\AppData\\Local\\Temp/ipykernel_17544/1140202937.py\u001b[0m in \u001b[0;36m<module>\u001b[1;34m\u001b[0m\n\u001b[0;32m      5\u001b[0m     \u001b[0mprint\u001b[0m\u001b[1;33m(\u001b[0m\u001b[1;34m\"the value of globle variable\"\u001b[0m\u001b[1;33m,\u001b[0m\u001b[0mp\u001b[0m\u001b[1;33m)\u001b[0m\u001b[1;33m\u001b[0m\u001b[1;33m\u001b[0m\u001b[0m\n\u001b[0;32m      6\u001b[0m \u001b[0mdemo\u001b[0m\u001b[1;33m(\u001b[0m\u001b[1;33m)\u001b[0m\u001b[1;33m\u001b[0m\u001b[1;33m\u001b[0m\u001b[0m\n\u001b[1;32m----> 7\u001b[1;33m \u001b[0mprint\u001b[0m\u001b[1;33m(\u001b[0m\u001b[1;34m\"the value of local variable\"\u001b[0m\u001b[1;33m,\u001b[0m\u001b[0mq\u001b[0m\u001b[1;33m)\u001b[0m\u001b[1;33m\u001b[0m\u001b[1;33m\u001b[0m\u001b[0m\n\u001b[0m\u001b[0;32m      8\u001b[0m \u001b[0mprint\u001b[0m\u001b[1;33m(\u001b[0m\u001b[1;34m\"the value of globle variable\"\u001b[0m\u001b[1;33m,\u001b[0m\u001b[0mp\u001b[0m\u001b[1;33m)\u001b[0m\u001b[1;33m\u001b[0m\u001b[1;33m\u001b[0m\u001b[0m\n",
      "\u001b[1;31mNameError\u001b[0m: name 'q' is not defined"
     ]
    }
   ],
   "source": [
    "p=54\n",
    "def demo():\n",
    "    q=5\n",
    "    print(\"the value of local variable\",q)\n",
    "    print(\"the value of globle variable\",p)\n",
    "demo()\n",
    "print(\"the value of local variable\",q)\n",
    "print(\"the value of globle variable\",p)"
   ]
  },
  {
   "cell_type": "code",
   "execution_count": 5,
   "id": "58bde8a9",
   "metadata": {},
   "outputs": [
    {
     "name": "stdout",
     "output_type": "stream",
     "text": [
      "i love python programming\n",
      "this is my python class\n"
     ]
    }
   ],
   "source": [
    "def demo():\n",
    "    S=\"i love python programming\"\n",
    "    print(S)\n",
    "S=\"this is my python class\"\n",
    "demo()\n",
    "print(S)\n"
   ]
  },
  {
   "cell_type": "code",
   "execution_count": 62,
   "id": "1a9c3911",
   "metadata": {},
   "outputs": [
    {
     "name": "stdout",
     "output_type": "stream",
     "text": [
      "the value of a is 30\n",
      "this is the value a is 30\n"
     ]
    }
   ],
   "source": [
    "a=20\n",
    "def display():\n",
    "    global a\n",
    "    a=30\n",
    "    print(\"the value of a is\",a)\n",
    "display()\n",
    "print(\"this is the value a is\",a)"
   ]
  },
  {
   "cell_type": "code",
   "execution_count": 1,
   "id": "2e7fcdad",
   "metadata": {},
   "outputs": [
    {
     "name": "stdout",
     "output_type": "stream",
     "text": [
      "256\n"
     ]
    },
    {
     "data": {
      "text/plain": [
       "256"
      ]
     },
     "execution_count": 1,
     "metadata": {},
     "output_type": "execute_result"
    }
   ],
   "source": [
    "def power(x,y):\n",
    "    sum=1\n",
    "    for i in range(1,y+1):\n",
    "        sum=sum*x\n",
    "    print(sum)\n",
    "    return sum\n",
    "\n",
    "power(4,4)"
   ]
  },
  {
   "cell_type": "code",
   "execution_count": 2,
   "id": "09c2b514",
   "metadata": {},
   "outputs": [
    {
     "name": "stdout",
     "output_type": "stream",
     "text": [
      "hallo sharma\n"
     ]
    }
   ],
   "source": [
    "def function():\n",
    "    print(\"hallo sharma\")\n",
    "function()"
   ]
  },
  {
   "cell_type": "code",
   "execution_count": 3,
   "id": "209167dc",
   "metadata": {},
   "outputs": [
    {
     "name": "stdout",
     "output_type": "stream",
     "text": [
      "14\n"
     ]
    }
   ],
   "source": [
    "def function(a,b):\n",
    "    sum1=a+b\n",
    "    return sum1\n",
    "print(function(8,6))"
   ]
  },
  {
   "cell_type": "code",
   "execution_count": 11,
   "id": "c314fccc",
   "metadata": {},
   "outputs": [
    {
     "name": "stdout",
     "output_type": "stream",
     "text": [
      "Python is fantastic\n"
     ]
    }
   ],
   "source": [
    "def myfunc():\n",
    "    global x\n",
    "    x = \"fantastic\"\n",
    "myfunc()\n",
    "print(\"Python is \" + x)"
   ]
  },
  {
   "cell_type": "code",
   "execution_count": 9,
   "id": "45b89d21",
   "metadata": {},
   "outputs": [
    {
     "name": "stdout",
     "output_type": "stream",
     "text": [
      "Python is fantastic\n"
     ]
    }
   ],
   "source": [
    "x = \"awesome\"\n",
    "\n",
    "def myfunc():\n",
    "        global x\n",
    "        x = \"fantastic\"\n",
    "\n",
    "myfunc()\n",
    "\n",
    "print(\"Python is \" + x)"
   ]
  },
  {
   "cell_type": "code",
   "execution_count": 2,
   "id": "8813d88b",
   "metadata": {},
   "outputs": [
    {
     "name": "stdout",
     "output_type": "stream",
     "text": [
      "give a word=vishal\n",
      "give a letter=i\n"
     ]
    },
    {
     "data": {
      "text/plain": [
       "1"
      ]
     },
     "execution_count": 2,
     "metadata": {},
     "output_type": "execute_result"
    }
   ],
   "source": [
    "def function(word,letter):\n",
    "    count=0\n",
    "    for i in word:\n",
    "        if i==letter:\n",
    "            count+=1\n",
    "    return count\n",
    "function(input(\"give a word=\"),input(\"give a letter=\"))\n",
    "            "
   ]
  },
  {
   "cell_type": "code",
   "execution_count": 3,
   "id": "fa66fd47",
   "metadata": {},
   "outputs": [
    {
     "name": "stdout",
     "output_type": "stream",
     "text": [
      "emailrefsenes\n",
      "ttttrefsenes\n",
      "hhhrefsenes\n"
     ]
    }
   ],
   "source": [
    "def my(fname):\n",
    "    print(fname+\"refsenes\")\n",
    "my(\"email\")\n",
    "my(\"tttt\")\n",
    "my(\"hhh\")\n",
    "    "
   ]
  },
  {
   "cell_type": "code",
   "execution_count": 6,
   "id": "fed12a5b",
   "metadata": {},
   "outputs": [
    {
     "name": "stdout",
     "output_type": "stream",
     "text": [
      "Give a number80\n",
      "The Number is even\n"
     ]
    }
   ],
   "source": [
    "# ood even\n",
    "\n",
    "def odd_even(x):\n",
    "    if(x%2==0):\n",
    "        print(\"The Number is even\")\n",
    "    else:\n",
    "        print(\"The number is odd\")\n",
    "odd_even(eval(input(\"Give a number\")))"
   ]
  },
  {
   "cell_type": "code",
   "execution_count": 18,
   "id": "40291003",
   "metadata": {},
   "outputs": [
    {
     "name": "stdout",
     "output_type": "stream",
     "text": [
      "Give a number6\n",
      "720\n"
     ]
    }
   ],
   "source": [
    "# factorial\n",
    "\n",
    "\n",
    "def factorial(x):\n",
    "    sum1=1\n",
    "    while(x>0):\n",
    "        sum1=sum1*x\n",
    "        x=x-1\n",
    "    print(sum1)\n",
    "factorial(eval(input(\"Give a number\")))"
   ]
  },
  {
   "cell_type": "code",
   "execution_count": 21,
   "id": "d9f29380",
   "metadata": {},
   "outputs": [
    {
     "name": "stdout",
     "output_type": "stream",
     "text": [
      "Give 1 if you want to Sum of number=\n",
      "                        Give 2 if you want to minus=\n",
      "                        Give 3 if you want to multiply=\n",
      "                        Give 4 if you want to devide=\n",
      "                        Give 5 if you want to modulas=3\n",
      "Give a number=3\n",
      "give second number=4\n",
      "12\n"
     ]
    }
   ],
   "source": [
    "#calculator using function\n",
    "def calculator(a,b,c):\n",
    "    if(a==1):\n",
    "        sum1=b+c\n",
    "        print(sum1)\n",
    "    elif(a==2):\n",
    "        minus=b-c\n",
    "        print(minus)\n",
    "    elif(a==3):\n",
    "        multiply=b*c\n",
    "        print(multiply)\n",
    "    elif(a==4):\n",
    "        print(b/c)\n",
    "        print(b//c)\n",
    "    elif(a==5):\n",
    "        print(b%c)\n",
    "    else:\n",
    "        print(\"This option is invalid\")\n",
    "calculator(int(input(\"\"\"Give 1 if you want to Sum of number=\n",
    "                        Give 2 if you want to minus=\n",
    "                        Give 3 if you want to multiply=\n",
    "                        Give 4 if you want to devide=\n",
    "                        Give 5 if you want to modulas=\"\"\")),\n",
    "                     eval(input(\"Give a number=\")),\n",
    "                     eval(input(\"give second number=\")))\n",
    "\n",
    "        "
   ]
  },
  {
   "cell_type": "code",
   "execution_count": 29,
   "id": "a9eec3e1",
   "metadata": {},
   "outputs": [
    {
     "name": "stdout",
     "output_type": "stream",
     "text": [
      "s= 16\n"
     ]
    }
   ],
   "source": [
    "#lambda\n",
    "\n",
    "s=lambda n:n*n\n",
    "print(\"s=\",s(4))"
   ]
  },
  {
   "cell_type": "code",
   "execution_count": 30,
   "id": "edbaca90",
   "metadata": {},
   "outputs": [
    {
     "name": "stdout",
     "output_type": "stream",
     "text": [
      "[2, 4, 6, 8, 10]\n"
     ]
    }
   ],
   "source": [
    "def isEven(x):\n",
    "    if x%2==0:\n",
    "        return True\n",
    "    else:\n",
    "        return False\n",
    "a=[3,2,4,5,6,7,8,9,10]\n",
    "a1=list(filter(isEven,a))\n",
    "print(a1)"
   ]
  },
  {
   "cell_type": "code",
   "execution_count": 31,
   "id": "e3614111",
   "metadata": {},
   "outputs": [
    {
     "name": "stdout",
     "output_type": "stream",
     "text": [
      "[2, 4, 6, 8, 10]\n"
     ]
    }
   ],
   "source": [
    "a=[3,2,4,5,6,7,8,9,10]\n",
    "a1=list(filter(lambda x:x%2==0,a))\n",
    "print(a1)"
   ]
  },
  {
   "cell_type": "code",
   "execution_count": null,
   "id": "054b3f5b",
   "metadata": {},
   "outputs": [],
   "source": []
  }
 ],
 "metadata": {
  "kernelspec": {
   "display_name": "Python 3 (ipykernel)",
   "language": "python",
   "name": "python3"
  },
  "language_info": {
   "codemirror_mode": {
    "name": "ipython",
    "version": 3
   },
   "file_extension": ".py",
   "mimetype": "text/x-python",
   "name": "python",
   "nbconvert_exporter": "python",
   "pygments_lexer": "ipython3",
   "version": "3.9.7"
  }
 },
 "nbformat": 4,
 "nbformat_minor": 5
}
