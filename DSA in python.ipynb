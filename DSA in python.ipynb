{
 "cells": [
  {
   "cell_type": "code",
   "execution_count": 6,
   "id": "5145b6f1",
   "metadata": {},
   "outputs": [
    {
     "name": "stdout",
     "output_type": "stream",
     "text": [
      "Give the number of elements in array=3\n",
      "Give the valu in array=2\n",
      "Give the valu in array=1\n",
      "Give the valu in array=3\n",
      "Array= [2, 1, 3]\n"
     ]
    }
   ],
   "source": [
    "# How to write an array in python\n",
    "arr=[]\n",
    "n=int(input(\"Give the number of elements in array=\"))#number of elements in array\n",
    "for x in range(0,n):\n",
    "    y=int(input(\"Give the valu in array=\"))#elements in array\n",
    "    arr.append(y)\n",
    "print(\"Array=\",arr)\n"
   ]
  },
  {
   "cell_type": "code",
   "execution_count": 2,
   "id": "35c0e158",
   "metadata": {},
   "outputs": [
    {
     "name": "stdout",
     "output_type": "stream",
     "text": [
      "Give the length of an array =4\n",
      "Give the elements =4\n",
      "Give the elements =2\n",
      "Give the elements =2\n",
      "Give the elements =1\n",
      "The basic array = [4, 2, 2, 1]\n",
      "[4, 2, 2, 1, 5]\n"
     ]
    }
   ],
   "source": [
    "def insersion(arr,x, pos, item):\n",
    "    arr1 = [0]*(x+1)\n",
    "    for i in range(x):\n",
    "        arr1[i]=arr[i]\n",
    "    arr1[pos]=item\n",
    "    for i in range(pos, x):\n",
    "        arr1[i+1]=arr[i]\n",
    "    arr1[pos]=item\n",
    "    arr[:]=arr1\n",
    "    print(arr) \n",
    "pos =4\n",
    "item =5 \n",
    "arr = []\n",
    "x = int(input('Give the length of an array ='))\n",
    "for i in range (x):\n",
    "    y = eval(input('Give the elements ='))\n",
    "    arr.append(y)\n",
    "print('The basic array =', arr)\n",
    "insersion(arr, x, pos, item)\n"
   ]
  },
  {
   "cell_type": "markdown",
   "id": "33c4c1dd",
   "metadata": {},
   "source": [
    "### We can do many type of operations on an array like\n",
    "# Inserting = Adding a new element in array\n",
    "# Deletion = Deletion a element from array\n",
    "# Traversing = Accessing each reacord(element) exactly once \n",
    "# Searching = Finding the location of any element or finding any element from an array\n",
    "# Sorting = Arranging the elements in a logical order\n",
    "# Merging = Combining the elements in two different sorted files into a single sorted file\n"
   ]
  },
  {
   "cell_type": "code",
   "execution_count": 1,
   "id": "05c4ec1f",
   "metadata": {},
   "outputs": [],
   "source": [
    "# Inserting in an array without using any "
   ]
  },
  {
   "cell_type": "code",
   "execution_count": 20,
   "id": "f706799e",
   "metadata": {},
   "outputs": [
    {
     "name": "stdout",
     "output_type": "stream",
     "text": [
      "Updated Array: [1, 2, 6, 3, 4, 5]\n"
     ]
    }
   ],
   "source": [
    "# Function to insert an element into an array\n",
    "def insert_element(arr, element, index):\n",
    "    # Create a new array with one extra element\n",
    "    new_array = [0] * (len(arr) + 1)\n",
    "\n",
    "    # Copy elements from the original array up to the insertion index\n",
    "    for i in range(index):\n",
    "        new_array[i] = arr[i]\n",
    "\n",
    "    # Insert the element at the specified index\n",
    "    new_array[index] = element\n",
    "\n",
    "    # Copy the remaining elements from the original array\n",
    "    for i in range(index, len(arr)):\n",
    "        new_array[i + 1] = arr[i]\n",
    "\n",
    "    # Update the original array with the new array\n",
    "    arr[:] = new_array\n",
    "\n",
    "# Example usage:\n",
    "my_array = [1, 2, 3, 4, 5]\n",
    "element_to_insert = 6\n",
    "index_to_insert_at = 2  # You can specify the index where you want to insert the element\n",
    "\n",
    "insert_element(my_array, element_to_insert, index_to_insert_at)\n",
    "\n",
    "print(\"Updated Array:\", my_array)\n"
   ]
  },
  {
   "cell_type": "code",
   "execution_count": 1,
   "id": "2f17a7e5",
   "metadata": {},
   "outputs": [
    {
     "name": "stdout",
     "output_type": "stream",
     "text": [
      "Give the number of elements in array=6\n",
      "Give the valu in array=7\n",
      "Give the valu in array=6\n",
      "Give the valu in array=5\n",
      "Give the valu in array=4\n",
      "Give the valu in array=3\n",
      "Give the valu in array=2\n",
      "Array= [7, 6, 5, 4, 3, 2]\n",
      "Give the position=4\n",
      "give the element=3\n",
      "[7, 6, 5, 4, 3, 3, 2]\n"
     ]
    }
   ],
   "source": [
    "arr=[]\n",
    "n=int(input(\"Give the number of elements in array=\"))#number of elements in array\n",
    "for x in range(0,n):\n",
    "    y=int(input(\"Give the valu in array=\"))#elements in array\n",
    "    arr.append(y)\n",
    "print(\"Array=\",arr)\n",
    "x=n\n",
    "arr1=[0]*(x+1)\n",
    "for i in range(x):\n",
    "    arr1[i]=arr[i]\n",
    "pos=int(input(\"Give the position=\"))\n",
    "element=int(input(\"give the element=\"))\n",
    "for i in range(pos,x):\n",
    "    arr1[i+1]=arr[i]\n",
    "arr1[pos]=element\n",
    "arr[:]=arr1\n",
    "print(arr)\n",
    "    \n"
   ]
  },
  {
   "cell_type": "code",
   "execution_count": 2,
   "id": "3c83cf30",
   "metadata": {},
   "outputs": [
    {
     "name": "stdout",
     "output_type": "stream",
     "text": [
      "Original Array: [1, 2, 3, 4, 5]\n",
      "Updated Array: [1, 2, 4, 5]\n"
     ]
    }
   ],
   "source": [
    "# Delete an element from an array by position without using a function\n",
    "def delete_element_by_position(arr, position):\n",
    "    if 0 <= position < len(arr):\n",
    "        # Create a new array by slicing the original array\n",
    "        new_array = arr[:position] + arr[position + 1:]\n",
    "        return new_array\n",
    "    else:\n",
    "        print(\"Invalid position. Element not deleted.\")\n",
    "        return arr  # Return the original array unchanged\n",
    "\n",
    "# Example usage:\n",
    "my_array = [1, 2, 3, 4, 5]\n",
    "position_to_delete = 2  # Specify the position (index) of the element you want to delete\n",
    "\n",
    "updated_array = delete_element_by_position(my_array, position_to_delete)\n",
    "\n",
    "print(\"Original Array:\", my_array)\n",
    "print(\"Updated Array:\", updated_array)\n"
   ]
  },
  {
   "cell_type": "code",
   "execution_count": 12,
   "id": "b42e7f91",
   "metadata": {},
   "outputs": [
    {
     "name": "stdout",
     "output_type": "stream",
     "text": [
      "Give the total length of Array=5\n",
      "Give the element of Array=5\n",
      "Give the element of Array=4\n",
      "Give the element of Array=3\n",
      "Give the element of Array=2\n",
      "Give the element of Array=1\n",
      "Array= [5, 4, 3, 2, 1]\n",
      "Give the Index=3\n",
      "2\n",
      "[5, 4, 3, 1]\n"
     ]
    }
   ],
   "source": [
    "arr=[]\n",
    "x=int(input(\"Give the total length of Array=\"))\n",
    "for i in range(x):\n",
    "    y=int(input(\"Give the element of Array=\"))\n",
    "    arr.append(y)\n",
    "print(\"Array=\",arr)\n",
    "index=int(input(\"Give the Index=\"))\n",
    "item=arr[index]\n",
    "print(item)\n",
    "for i in range(index,x-1):\n",
    "    arr[i]=arr[i+1]\n",
    "arr.pop()\n",
    "print(arr)\n",
    "\n"
   ]
  },
  {
   "cell_type": "code",
   "execution_count": 13,
   "id": "68ad3346",
   "metadata": {},
   "outputs": [
    {
     "name": "stdout",
     "output_type": "stream",
     "text": [
      "Give the total length of Array=6\n",
      "Give the element of Array=6\n",
      "Give the element of Array=5\n",
      "Give the element of Array=4\n",
      "Give the element of Array=3\n",
      "Give the element of Array=2\n",
      "Give the element of Array=1\n",
      "Array= [6, 5, 4, 3, 2, 1]\n",
      "6\n",
      "5\n",
      "4\n",
      "3\n",
      "2\n",
      "1\n"
     ]
    }
   ],
   "source": [
    "# Traversing\n",
    "arr=[]\n",
    "x=int(input(\"Give the total length of Array=\"))\n",
    "for i in range(x):\n",
    "    y=int(input(\"Give the element of Array=\"))\n",
    "    arr.append(y)\n",
    "print(\"Array=\",arr)\n",
    "for i in range(x):\n",
    "    print(arr[i])"
   ]
  },
  {
   "cell_type": "markdown",
   "id": "14427b1b",
   "metadata": {},
   "source": [
    "# Searching"
   ]
  },
  {
   "cell_type": "code",
   "execution_count": 14,
   "id": "3854abf3",
   "metadata": {},
   "outputs": [],
   "source": [
    "# Searching\n",
    "# There are two type of searching from array\n",
    "# 1. Linear Search\n",
    "# 2. Binary Search"
   ]
  },
  {
   "cell_type": "markdown",
   "id": "5eb6b567",
   "metadata": {},
   "source": [
    "# Linear Search"
   ]
  },
  {
   "cell_type": "code",
   "execution_count": 2,
   "id": "2345d45f",
   "metadata": {},
   "outputs": [
    {
     "name": "stdout",
     "output_type": "stream",
     "text": [
      "Give the total length of Array=5\n",
      "Give the element of Array=5\n",
      "Give the element of Array=4\n",
      "Give the element of Array=3\n",
      "Give the element of Array=2\n",
      "Give the element of Array=1\n",
      "Array= [5, 4, 3, 2, 1]\n",
      "Element To Search=3\n",
      "index= 2\n"
     ]
    }
   ],
   "source": [
    "# Linear Search\n",
    "arr=[]\n",
    "x=int(input(\"Give the total length of Array=\"))\n",
    "for i in range(x):\n",
    "    y=int(input(\"Give the element of Array=\"))\n",
    "    arr.append(y)\n",
    "print(\"Array=\",arr)\n",
    "element=int(input(\"Element To Search=\"))\n",
    "i=0\n",
    "j=0\n",
    "while(i==0 and j<x):\n",
    "    if(element==arr[j]):\n",
    "        print(\"index=\",j)\n",
    "        i=i+1\n",
    "    else:\n",
    "        i=0\n",
    "    j=j+1\n",
    "if(i==0):\n",
    "    print(\"Element is not in the array\")"
   ]
  },
  {
   "cell_type": "markdown",
   "id": "c5c68687",
   "metadata": {},
   "source": [
    "# Binary Search"
   ]
  },
  {
   "cell_type": "code",
   "execution_count": 1,
   "id": "dbcd7db6",
   "metadata": {},
   "outputs": [
    {
     "name": "stdout",
     "output_type": "stream",
     "text": [
      "Give the total length of Array=6\n",
      "Give the element of Array=65\n",
      "Give the element of Array=45\n",
      "Give the element of Array=35\n",
      "Give the element of Array=67\n",
      "Give the element of Array=46\n",
      "Give the element of Array=25\n",
      "Array= [65, 45, 35, 67, 46, 25]\n",
      "Element To Search=25\n",
      "Location= -1\n"
     ]
    }
   ],
   "source": [
    "# Binary Search\n",
    "# in binary search elements must be sorted\n",
    "arr=[]\n",
    "x=int(input(\"Give the total length of Array=\"))\n",
    "for i in range(x):\n",
    "    y=int(input(\"Give the element of Array=\"))\n",
    "    arr.append(y)\n",
    "print(\"Array=\",arr)\n",
    "element=int(input(\"Element To Search=\"))\n",
    "begin=0\n",
    "end=x\n",
    "mid=(begin+end)//2\n",
    "while(begin<=end and arr[mid]!=element):\n",
    "    if element<arr[mid]:\n",
    "        end=mid-1\n",
    "    else:\n",
    "        begin=mid+1\n",
    "    mid=(begin+end)//2\n",
    "if(arr[mid]==element):\n",
    "    print(\"Location=\", mid)\n",
    "else:\n",
    "    print(\"element is not found\")\n"
   ]
  },
  {
   "cell_type": "markdown",
   "id": "06ae99b8",
   "metadata": {},
   "source": [
    "# Sorting"
   ]
  },
  {
   "cell_type": "code",
   "execution_count": 1,
   "id": "1e994a27",
   "metadata": {},
   "outputs": [],
   "source": [
    "# Sorting\n",
    "# There are many type of sorting \n",
    "# 1.Insertion sort\n",
    "# 2.Selection Sort\n",
    "# 3.Radix Sort\n",
    "# 4.Merge Sort\n",
    "# 5.Bubble Sort\n",
    "# 6.Quick Sort\n",
    "# 7.Heap Sort\n",
    "# 8.Bucket Sort\n",
    "# 9.Counting Sort\n",
    "# 10.Shell Sort\n",
    "# 11.Comb Sort\n",
    "# 12.Odd Even Sort"
   ]
  },
  {
   "cell_type": "markdown",
   "id": "79076ad2",
   "metadata": {},
   "source": [
    "# Insertion Sort"
   ]
  },
  {
   "cell_type": "code",
   "execution_count": 4,
   "id": "d7d0475c",
   "metadata": {},
   "outputs": [
    {
     "name": "stdout",
     "output_type": "stream",
     "text": [
      "Give the length of array=6\n",
      "Give the elements of array=65\n",
      "Give the elements of array=47\n",
      "Give the elements of array=64\n",
      "Give the elements of array=87\n",
      "Give the elements of array=67\n",
      "Give the elements of array=95\n",
      "Unsorted Array= [65, 47, 64, 87, 67, 95]\n",
      "Sorted Array= [47, 64, 65, 67, 87, 95]\n"
     ]
    }
   ],
   "source": [
    "\n",
    "\n",
    "arr=[]\n",
    "x=int(input(\"Give the length of array=\"))\n",
    "for i in range(x):\n",
    "    y=int(input(\"Give the elements of array=\"))\n",
    "    arr.append(y)\n",
    "print(\"Unsorted Array=\",arr)\n",
    "\n",
    "for i in range(1,x):\n",
    "    key=arr[i]\n",
    "    \n",
    "    j=i-1\n",
    "    while j>=0 and key<arr[j]:\n",
    "        arr[j+1]=arr[j]\n",
    "        j=j-1\n",
    "    arr[j+1]=key\n",
    "print(\"Sorted Array=\",arr)"
   ]
  },
  {
   "cell_type": "markdown",
   "id": "0e4e9a4d",
   "metadata": {},
   "source": [
    "# Selection Sort"
   ]
  },
  {
   "cell_type": "code",
   "execution_count": 3,
   "id": "35c0c3ad",
   "metadata": {},
   "outputs": [
    {
     "name": "stdout",
     "output_type": "stream",
     "text": [
      "Give the length of array=5\n",
      "Give the elements of array=64\n",
      "Give the elements of array=345\n",
      "Give the elements of array=74\n",
      "Give the elements of array=532\n",
      "Give the elements of array=454\n",
      "Unsorted Array= [64, 345, 74, 532, 454]\n",
      "[64, 74, 345, 454, 532]\n"
     ]
    }
   ],
   "source": [
    "# Selection Sort\n",
    "\n",
    "arr=[]\n",
    "x=int(input(\"Give the length of array=\"))\n",
    "for i in range(x):\n",
    "    y=int(input(\"Give the elements of array=\"))\n",
    "    arr.append(y)\n",
    "print(\"Unsorted Array=\",arr)\n",
    "\n",
    "for k in range(1,x-1):\n",
    "    mini=arr[k]\n",
    "    loc=k\n",
    "    for i in range(k+1,x):\n",
    "        if mini>arr[i]:\n",
    "            mini=arr[i]\n",
    "            loc=i\n",
    "    temp=arr[k]\n",
    "    arr[k]=arr[loc]\n",
    "    arr[loc]=temp\n",
    "print(\"Sorted array=\",arr)"
   ]
  },
  {
   "cell_type": "markdown",
   "id": "8c5efa69",
   "metadata": {},
   "source": [
    "# Radix Sort"
   ]
  },
  {
   "cell_type": "code",
   "execution_count": 2,
   "id": "45d669bc",
   "metadata": {},
   "outputs": [
    {
     "name": "stdout",
     "output_type": "stream",
     "text": [
      "Give the length of array=4\n",
      "Give the elements of array=43\n",
      "Give the elements of array=62\n",
      "Give the elements of array=23\n",
      "Give the elements of array=35\n",
      "Unsorted Array= [43, 62, 23, 35]\n",
      "Sorted array: [23, 35, 43, 62]\n"
     ]
    }
   ],
   "source": [
    "# Radix sort\n",
    "# Function to find the maximum element in the array\n",
    "def find_max(arr):\n",
    "    max_element = arr[0]\n",
    "    for element in arr:\n",
    "        if element > max_element:\n",
    "            max_element = element\n",
    "    return max_element\n",
    "\n",
    "# Radix Sort function\n",
    "def radix_sort(arr):\n",
    "    max_element = find_max(arr)\n",
    "    exp = 1\n",
    "    n = len(arr)\n",
    "    \n",
    "    while max_element // exp > 0:\n",
    "        # Initialize count array and output array\n",
    "        count = [0] * 10\n",
    "        output = [0] * n\n",
    "        \n",
    "        # Count the occurrences of each digit in the current place value\n",
    "        for i in range(n):\n",
    "            index = (arr[i] // exp) % 10\n",
    "            count[index] += 1\n",
    "        \n",
    "        # Update count array to store the position of each digit in output\n",
    "        for i in range(1, 10):\n",
    "            count[i] += count[i - 1]\n",
    "        \n",
    "        # Build the output array by placing elements in their correct positions\n",
    "        i = n - 1\n",
    "        while i >= 0:\n",
    "            index = (arr[i] // exp) % 10\n",
    "            output[count[index] - 1] = arr[i]\n",
    "            count[index] -= 1\n",
    "            i -= 1\n",
    "        \n",
    "        # Copy the output array back to the original array\n",
    "        for i in range(n):\n",
    "            arr[i] = output[i]\n",
    "        \n",
    "        # Move to the next place value\n",
    "        exp *= 10\n",
    "\n",
    "# Example usage\n",
    "arr = []\n",
    "x=int(input(\"Give the length of array=\"))\n",
    "for i in range(x):\n",
    "    y=int(input(\"Give the elements of array=\"))\n",
    "    arr.append(y)\n",
    "print(\"Unsorted Array=\",arr)\n",
    "radix_sort(arr)\n",
    "print(\"Sorted array:\", arr)\n",
    "\n"
   ]
  },
  {
   "cell_type": "markdown",
   "id": "b2fdfdb5",
   "metadata": {},
   "source": [
    " # Merge Sort"
   ]
  },
  {
   "cell_type": "code",
   "execution_count": 5,
   "id": "80e7aa98",
   "metadata": {},
   "outputs": [
    {
     "name": "stdout",
     "output_type": "stream",
     "text": [
      "Give the length of array=5\n",
      "Give the elements of array=324\n",
      "Give the elements of array=233\n",
      "Give the elements of array=523\n",
      "Give the elements of array=315\n",
      "Give the elements of array=341\n",
      "Unsorted Array= [324, 233, 523, 315, 341]\n",
      "Sorted array: [233, 315, 324, 341, 523]\n"
     ]
    }
   ],
   "source": [
    "# Merge Sort\n",
    "\n",
    "def mergeSort(arr):\n",
    "    if len(arr)<=1:\n",
    "        return arr\n",
    "    mid=len(arr)//2\n",
    "    left_half=arr[:mid]\n",
    "    right_half=arr[mid:]\n",
    "    \n",
    "    left_half=mergeSort(left_half)\n",
    "    right_half=mergeSort(right_half)\n",
    "    \n",
    "    result=merge(left_half, right_half)\n",
    "    return result\n",
    "\n",
    "def merge(left_half,right_half):\n",
    "    merged=[]\n",
    "    left_index=0\n",
    "    right_index=0\n",
    "    while left_index<len(left_half) and right_index<len(right_half):\n",
    "        if left_half[left_index]<right_half[right_index]:\n",
    "            merged.append(left_half[left_index])\n",
    "            left_index=left_index+1\n",
    "        else:\n",
    "            merged.append(right_half[right_index])\n",
    "            right_index=right_index+1\n",
    "    merged.extend(left_half[left_index:])\n",
    "    merged.extend(right_half[right_index:])\n",
    "    \n",
    "    return merged\n",
    "\n",
    "\n",
    "arr = []\n",
    "x=int(input(\"Give the length of array=\"))\n",
    "for i in range(x):\n",
    "    y=int(input(\"Give the elements of array=\"))\n",
    "    arr.append(y)\n",
    "print(\"Unsorted Array=\",arr)\n",
    "\n",
    "\n",
    "sorted_arr = mergeSort(arr)\n",
    "print(\"Sorted array:\", sorted_arr)"
   ]
  },
  {
   "cell_type": "markdown",
   "id": "66dc17ad",
   "metadata": {},
   "source": [
    "# Bubble Sort"
   ]
  },
  {
   "cell_type": "code",
   "execution_count": 1,
   "id": "f706eac1",
   "metadata": {},
   "outputs": [
    {
     "name": "stdout",
     "output_type": "stream",
     "text": [
      "Give the length of array=4\n",
      "Give the elements of array=653\n",
      "Give the elements of array=435\n",
      "Give the elements of array=432\n",
      "Give the elements of array=563\n",
      "Unsorted Array= [653, 435, 432, 563]\n",
      "Sorted array is: [432, 435, 563, 653]\n"
     ]
    }
   ],
   "source": [
    "# Bubble Sort\n",
    "\n",
    "def bubble_sort(A, N):\n",
    "    for i in range(N - 1):\n",
    "        ptr = 0\n",
    "        while ptr < N - i - 1:\n",
    "            if A[ptr] > A[ptr + 1]:\n",
    "                # Swap the elements\n",
    "                A[ptr], A[ptr + 1] = A[ptr + 1], A[ptr]\n",
    "            ptr += 1\n",
    "\n",
    "# Example usage:\n",
    "arr = []\n",
    "x=int(input(\"Give the length of array=\"))\n",
    "for i in range(x):\n",
    "    y=int(input(\"Give the elements of array=\"))\n",
    "    arr.append(y)\n",
    "print(\"Unsorted Array=\",arr)\n",
    "N = len(arr)\n",
    "\n",
    "bubble_sort(arr, N)\n",
    "\n",
    "print(\"Sorted array is:\", arr)"
   ]
  },
  {
   "cell_type": "code",
   "execution_count": 3,
   "id": "5b97e2ed",
   "metadata": {},
   "outputs": [
    {
     "name": "stdout",
     "output_type": "stream",
     "text": [
      "1\n"
     ]
    }
   ],
   "source": [
    "def zypp(nums, target):\n",
    "    beg, end = 0, len(nums) - 1\n",
    "    \n",
    "    while beg <= end:\n",
    "        mid = (beg + end) // 2\n",
    "        if nums[mid] == target:\n",
    "            return mid\n",
    "        elif nums[mid] < target:\n",
    "            beg = mid + 1\n",
    "        else:\n",
    "            end = mid - 1\n",
    "    \n",
    "    return beg\n",
    "\n",
    "nums = [1, 3, 5, 6]\n",
    "target = 2\n",
    "print(zypp(nums, target))  # Output: 2"
   ]
  },
  {
   "cell_type": "code",
   "execution_count": 1,
   "id": "b1bdba9c",
   "metadata": {},
   "outputs": [],
   "source": [
    "# Sum of array using recurssion\n",
    "# Index of largest and minimum number\n",
    "# largest multiple of 3\n",
    "# Largest Prime number index"
   ]
  },
  {
   "cell_type": "code",
   "execution_count": 11,
   "id": "bc8843dd",
   "metadata": {},
   "outputs": [],
   "source": [
    "# Sum of array\n",
    "arr=[12,23,44,52]\n",
    "s = 0\n",
    "for i in range(len(arr)):\n",
    "    s = s+arr[i]\n",
    "    "
   ]
  },
  {
   "cell_type": "code",
   "execution_count": 12,
   "id": "fec03598",
   "metadata": {},
   "outputs": [
    {
     "data": {
      "text/plain": [
       "131"
      ]
     },
     "execution_count": 12,
     "metadata": {},
     "output_type": "execute_result"
    }
   ],
   "source": [
    "s"
   ]
  },
  {
   "cell_type": "code",
   "execution_count": 10,
   "id": "f0c87979",
   "metadata": {},
   "outputs": [
    {
     "name": "stdout",
     "output_type": "stream",
     "text": [
      "131\n"
     ]
    }
   ],
   "source": [
    "def s(arr,n):\n",
    "    if n<=0:\n",
    "        return 0\n",
    "    else:\n",
    "        return s(arr,n-1)+arr[n-1]\n",
    "arr = [12,23,44,52]    \n",
    "n = len(arr)\n",
    "print(s(arr,n))"
   ]
  },
  {
   "cell_type": "code",
   "execution_count": 14,
   "id": "b58eee26",
   "metadata": {},
   "outputs": [
    {
     "name": "stdout",
     "output_type": "stream",
     "text": [
      "False\n",
      "(True, 1)\n",
      "(True, 1)\n",
      "False\n",
      "(True, 1)\n"
     ]
    }
   ],
   "source": [
    "def has_consecutive_vowels(s):\n",
    "    vowels = \"aeiouAEIOU\"\n",
    "    length = len(s)\n",
    "    count = 0\n",
    "    for i in range(length - 1):\n",
    "        if s[i] in vowels and s[i+1] in vowels:\n",
    "            count = count+1\n",
    "            return True,count\n",
    "        \n",
    "    \n",
    "    return False\n",
    "\n",
    "# Test cases\n",
    "print(has_consecutive_vowels(\"hello\"))        # Output: False\n",
    "print(has_consecutive_vowels(\"book\"))         # Output: True\n",
    "print(has_consecutive_vowels(\"education\"))    # Output: True\n",
    "print(has_consecutive_vowels(\"sky\"))          # Output: False\n",
    "print(has_consecutive_vowels(\"sequence\"))     # Output: True\n"
   ]
  },
  {
   "cell_type": "code",
   "execution_count": 15,
   "id": "4451743a",
   "metadata": {},
   "outputs": [
    {
     "name": "stdout",
     "output_type": "stream",
     "text": [
      "0\n",
      "1\n",
      "1\n",
      "3\n",
      "1\n"
     ]
    }
   ],
   "source": [
    "def count_consecutive_vowels(s):\n",
    "    vowels = \"aeiouAEIOU\"\n",
    "    count = 0\n",
    "    \n",
    "    for i in range(len(s) - 1):\n",
    "        if s[i] in vowels and s[i+1] in vowels:\n",
    "            count += 1\n",
    "    \n",
    "    return count\n",
    "\n",
    "# Test cases\n",
    "print(count_consecutive_vowels(\"hello\"))        # Output: 0\n",
    "print(count_consecutive_vowels(\"book\"))         # Output: 1\n",
    "print(count_consecutive_vowels(\"education\"))    # Output: 1\n",
    "print(count_consecutive_vowels(\"queue\"))        # Output: 3\n",
    "print(count_consecutive_vowels(\"sequence\"))     # Output: 1\n"
   ]
  },
  {
   "cell_type": "code",
   "execution_count": 17,
   "id": "54e9c90d",
   "metadata": {},
   "outputs": [
    {
     "name": "stdout",
     "output_type": "stream",
     "text": [
      "66\n"
     ]
    }
   ],
   "source": [
    "# smalest number in an array\n",
    "arr=[33,22,12,53,23,66]\n",
    "i = 0\n",
    "temp = arr[0]\n",
    "while(i<len(arr)):\n",
    "    if(temp<arr[i]):\n",
    "        temp = arr[i]\n",
    "    elif(temp == arr[i]):\n",
    "        temp = arr[i]\n",
    "    else:\n",
    "        temp=temp\n",
    "    i = i+1\n",
    "print(temp)"
   ]
  },
  {
   "cell_type": "code",
   "execution_count": 26,
   "id": "01de24ad",
   "metadata": {},
   "outputs": [
    {
     "name": "stdout",
     "output_type": "stream",
     "text": [
      "23\n"
     ]
    }
   ],
   "source": [
    "def s(arr,n):\n",
    "    if n == 1:\n",
    "        return arr[0]\n",
    "    return min(arr[n-1], s(arr,n-1))\n",
    "arr = [99,23,4234,53,434]\n",
    "n = len(arr)\n",
    "print(s(arr,n))"
   ]
  },
  {
   "cell_type": "code",
   "execution_count": 28,
   "id": "da3dd607",
   "metadata": {},
   "outputs": [
    {
     "name": "stdout",
     "output_type": "stream",
     "text": [
      "5\n",
      "11\n"
     ]
    }
   ],
   "source": [
    "def find_smalest(arr, n):\n",
    "    if n == 1:\n",
    "        return arr[0]\n",
    "    smalest = find_smalest(arr, n-1)\n",
    "    if arr[n-1]<smalest:\n",
    "        return arr[n-1]\n",
    "    else:\n",
    "        return smalest\n",
    "arr =  [12,12,11,32,4342]\n",
    "n = len(arr)\n",
    "print(n)\n",
    "print(find_smalest(arr, n))"
   ]
  },
  {
   "cell_type": "code",
   "execution_count": 32,
   "id": "0de6bd76",
   "metadata": {},
   "outputs": [
    {
     "name": "stdout",
     "output_type": "stream",
     "text": [
      "33\n"
     ]
    }
   ],
   "source": [
    "def largest_multiple_of_3_recursive(arr, n, largest=None):\n",
    "    if n == 0:\n",
    "        return largest\n",
    "    if arr[n-1] % 3 == 0:\n",
    "        if largest is None or arr[n-1] > largest:\n",
    "            largest = arr[n-1]\n",
    "    return largest_multiple_of_3_recursive(arr, n-1, largest)\n",
    "arr = [33, 22, 12, 53, 23, 6]\n",
    "largest_recursive = largest_multiple_of_3_recursive(arr, len(arr))\n",
    "print(largest_recursive) "
   ]
  },
  {
   "cell_type": "code",
   "execution_count": 33,
   "id": "eb7c0fa4",
   "metadata": {},
   "outputs": [
    {
     "name": "stdout",
     "output_type": "stream",
     "text": [
      "Give a number->63732\n",
      "5\n",
      "21\n"
     ]
    }
   ],
   "source": [
    "def count_and_sum_digits(a, count=0, temp=0):\n",
    "    if a == 0:\n",
    "        return count, temp\n",
    "    else:\n",
    "        k = a % 10\n",
    "        temp += k\n",
    "        count += 1\n",
    "        return count_and_sum_digits(a // 10, count, temp)\n",
    "a = int(input(\"Give a number->\"))\n",
    "count, temp = count_and_sum_digits(a)\n",
    "\n",
    "print(count)\n",
    "print(temp)\n"
   ]
  },
  {
   "cell_type": "code",
   "execution_count": 35,
   "id": "d4c0dbf0",
   "metadata": {},
   "outputs": [
    {
     "name": "stdout",
     "output_type": "stream",
     "text": [
      "Give a number->67343\n",
      "5\n",
      "23\n"
     ]
    }
   ],
   "source": [
    "a = int(input(\"Give a number->\"))\n",
    "count_and_sum_digits = (lambda f: (lambda n, count=0, temp=0: f(f, n, count, temp)))(lambda self, n, count, temp: (count, temp) if n == 0 else self(self, n // 10, count + 1, temp + (n % 10)))\n",
    "count, temp = count_and_sum_digits(a)\n",
    "\n",
    "print(count)\n",
    "print(temp)"
   ]
  },
  {
   "cell_type": "code",
   "execution_count": 36,
   "id": "2471ecdf",
   "metadata": {},
   "outputs": [
    {
     "name": "stdout",
     "output_type": "stream",
     "text": [
      "Enter a string: bab\n",
      "The string is a palindrome.\n"
     ]
    }
   ],
   "source": [
    "def is_palindrome(s):\n",
    "    if len(s) <= 1:\n",
    "        return True\n",
    "    if s[0] != s[-1]:\n",
    "        return False\n",
    "    return is_palindrome(s[1:-1])\n",
    "a = input(\"Enter a string: \")\n",
    "if is_palindrome(a):\n",
    "    print(\"The string is a palindrome.\")\n",
    "else:\n",
    "    print(\"The string is not a palindrome.\")\n"
   ]
  },
  {
   "cell_type": "code",
   "execution_count": 37,
   "id": "f3f3e58d",
   "metadata": {},
   "outputs": [
    {
     "name": "stdout",
     "output_type": "stream",
     "text": [
      "Sorted array: [11, 12, 22, 25, 34, 64, 90]\n"
     ]
    }
   ],
   "source": [
    "def bubble_sort_recursive(arr, n=None):\n",
    "    if n is None:\n",
    "        n = len(arr)\n",
    "    if n == 1:\n",
    "        return\n",
    "    for i in range(n - 1):\n",
    "        if arr[i] > arr[i + 1]:\n",
    "            arr[i], arr[i + 1] = arr[i + 1], arr[i]\n",
    "    bubble_sort_recursive(arr, n - 1)\n",
    "arr = [64, 34, 25, 12, 22, 11, 90]\n",
    "bubble_sort_recursive(arr)\n",
    "print(\"Sorted array:\", arr)\n"
   ]
  },
  {
   "cell_type": "markdown",
   "id": "46c59a0d",
   "metadata": {},
   "source": [
    "# Linked List "
   ]
  },
  {
   "cell_type": "markdown",
   "id": "abbffe44",
   "metadata": {},
   "source": [
    "A linked list is a linear collection of data elements whose order is not given by their physical placement in memory. Instead, each element points to the next. It is a data structure consisting of a collection of nodes which together represent a sequence"
   ]
  },
  {
   "cell_type": "code",
   "execution_count": 1,
   "id": "12ac10dd",
   "metadata": {},
   "outputs": [
    {
     "name": "stdout",
     "output_type": "stream",
     "text": [
      "0 -> 1 -> 2 -> None\n",
      "0 -> 2 -> None\n"
     ]
    }
   ],
   "source": [
    "class Node:\n",
    "    def __init__(self, data=None):\n",
    "        self.data = data\n",
    "        self.next = None\n",
    "\n",
    "class SinglyLinkedList:\n",
    "    def __init__(self):\n",
    "        self.head = None\n",
    "\n",
    "    def insert_at_beginning(self, data):\n",
    "        new_node = Node(data)\n",
    "        new_node.next = self.head\n",
    "        self.head = new_node\n",
    "\n",
    "    def insert_at_end(self, data):\n",
    "        new_node = Node(data)\n",
    "        if not self.head:\n",
    "            self.head = new_node\n",
    "            return\n",
    "        last_node = self.head\n",
    "        while last_node.next:\n",
    "            last_node = last_node.next\n",
    "        last_node.next = new_node\n",
    "\n",
    "    def delete_node(self, key):\n",
    "        current_node = self.head\n",
    "        if current_node and current_node.data == key:\n",
    "            self.head = current_node.next\n",
    "            current_node = None\n",
    "            return\n",
    "        prev = None\n",
    "        while current_node and current_node.data != key:\n",
    "            prev = current_node\n",
    "            current_node = current_node.next\n",
    "        if current_node is None:\n",
    "            return\n",
    "        prev.next = current_node.next\n",
    "        current_node = None\n",
    "\n",
    "    def traverse(self):\n",
    "        current_node = self.head\n",
    "        while current_node:\n",
    "            print(current_node.data, end=\" -> \")\n",
    "            current_node = current_node.next\n",
    "        print(None)\n",
    "\n",
    "# Example usage\n",
    "linked_list = SinglyLinkedList()\n",
    "linked_list.insert_at_end(1)\n",
    "linked_list.insert_at_end(2)\n",
    "linked_list.insert_at_beginning(0)\n",
    "linked_list.traverse()  # Output: 0 -> 1 -> 2 -> None\n",
    "linked_list.delete_node(1)\n",
    "linked_list.traverse()  # Output: 0 -> 2 -> None\n"
   ]
  },
  {
   "cell_type": "code",
   "execution_count": 2,
   "id": "8f4759bb",
   "metadata": {},
   "outputs": [
    {
     "name": "stdout",
     "output_type": "stream",
     "text": [
      "3 -> 2 -> 1 -> None\n"
     ]
    }
   ],
   "source": [
    "def reverse_linked_list(head):\n",
    "    prev = None\n",
    "    current = head\n",
    "    while current:\n",
    "        next_node = current.next\n",
    "        current.next = prev\n",
    "        prev = current\n",
    "        current = next_node\n",
    "    return prev\n",
    "\n",
    "# Example usage\n",
    "linked_list = SinglyLinkedList()\n",
    "linked_list.insert_at_end(1)\n",
    "linked_list.insert_at_end(2)\n",
    "linked_list.insert_at_end(3)\n",
    "linked_list.head = reverse_linked_list(linked_list.head)\n",
    "linked_list.traverse()  # Output: 3 -> 2 -> 1 -> None\n"
   ]
  },
  {
   "cell_type": "code",
   "execution_count": 7,
   "id": "24032f1e",
   "metadata": {},
   "outputs": [
    {
     "name": "stdout",
     "output_type": "stream",
     "text": [
      "True\n"
     ]
    }
   ],
   "source": [
    "def has_cycle(head):\n",
    "    slow = fast = head\n",
    "    while fast and fast.next:\n",
    "        slow = slow.next\n",
    "        fast = fast.next.next\n",
    "        if slow == fast:\n",
    "            return True\n",
    "    return False\n",
    "\n",
    "# Example usage\n",
    "node1 = Node(1)\n",
    "node2 = Node(2)\n",
    "node3 = Node(3)\n",
    "node1.next = node2\n",
    "node2.next = node3\n",
    "node3.next = node1  # Creating a cycle\n",
    "print(has_cycle(node1))  # Output: True\n"
   ]
  },
  {
   "cell_type": "code",
   "execution_count": 8,
   "id": "fc7b6a5e",
   "metadata": {},
   "outputs": [],
   "source": [
    "# Definition for singly-linked list.\n",
    "class ListNode:\n",
    "    def __init__(self, val=0, next=None):\n",
    "        self.val = val\n",
    "        self.next = next\n",
    "\n",
    "class Solution:\n",
    "    def removeNthFromEnd(self, head: ListNode, n: int) -> ListNode:\n",
    "        dummy = ListNode(0, head)\n",
    "        first = dummy\n",
    "        second = dummy\n",
    "        \n",
    "        # Move first n+1 steps ahead\n",
    "        for _ in range(n + 1):\n",
    "            first = first.next\n",
    "        \n",
    "        # Move first to the end, maintaining the gap\n",
    "        while first is not None:\n",
    "            first = first.next\n",
    "            second = second.next\n",
    "        \n",
    "        # Skip the desired node\n",
    "        second.next = second.next.next\n",
    "        \n",
    "        return dummy.next\n"
   ]
  },
  {
   "cell_type": "code",
   "execution_count": 10,
   "id": "3cd1aab2",
   "metadata": {},
   "outputs": [],
   "source": [
    "class Linklist:\n",
    "    def __init__(self,val = 0, next =None):\n",
    "        self.val = val\n",
    "        self.next = next\n",
    "class Solution:\n",
    "    def removeNthFromEnd(self,head:ListNode, n:int)-> ListNode:\n",
    "        dummy = ListNode(0,head)\n",
    "        first = dummy\n",
    "        second =dummy\n",
    "        for _ in range(n+1):\n",
    "            first = first.next\n",
    "        while first is not None:\n",
    "            first = first.next\n",
    "            second = second.next\n",
    "        second.next = second.next.next\n",
    "        return dummy.next\n"
   ]
  },
  {
   "cell_type": "code",
   "execution_count": 15,
   "id": "6de4f5e4",
   "metadata": {},
   "outputs": [
    {
     "name": "stdout",
     "output_type": "stream",
     "text": [
      "2 -> 3 -> 4 -> 5\n"
     ]
    }
   ],
   "source": [
    "# Definition for singly-linked list.\n",
    "class ListNode:\n",
    "    def __init__(self, val=0, next=None):\n",
    "        self.val = val\n",
    "        self.next = next\n",
    "\n",
    "class Solution:\n",
    "    def removeNthFromEnd(self, head: ListNode, n: int) -> ListNode:\n",
    "        dummy = ListNode(0, head)\n",
    "        first = dummy\n",
    "        second = dummy\n",
    "        \n",
    "        # Move first n+1 steps ahead\n",
    "        for _ in range(n + 1):\n",
    "            first = first.next\n",
    "        \n",
    "        # Move first to the end, maintaining the gap\n",
    "        while first is not None:\n",
    "            first = first.next\n",
    "            second = second.next\n",
    "        \n",
    "        # Skip the desired node\n",
    "        second.next = second.next.next\n",
    "        \n",
    "        return dummy.next\n",
    "\n",
    "# Helper function to create a linked list from a list\n",
    "def create_linked_list(arr):\n",
    "    if not arr:\n",
    "        return None\n",
    "    head = ListNode(arr[0])\n",
    "    current = head\n",
    "    for val in arr[1:]:\n",
    "        current.next = ListNode(val)\n",
    "        current = current.next\n",
    "    return head\n",
    "\n",
    "# Helper function to print linked list\n",
    "def print_linked_list(head):\n",
    "    current = head\n",
    "    while current:\n",
    "        print(current.val, end=' -> ' if current.next else '\\n')\n",
    "        current = current.next\n",
    "\n",
    "# Example input\n",
    "head = create_linked_list([1, 2, 3, 4, 5])\n",
    "n = 5\n",
    "\n",
    "# Solution\n",
    "solution = Solution()\n",
    "new_head = solution.removeNthFromEnd(head, n)\n",
    "\n",
    "# Print result\n",
    "print_linked_list(new_head)\n"
   ]
  },
  {
   "cell_type": "markdown",
   "id": "247df26a",
   "metadata": {},
   "source": [
    "# Stack\n"
   ]
  },
  {
   "cell_type": "markdown",
   "id": "0c504f3b",
   "metadata": {},
   "source": [
    "A memory or a section of memory in a computer for temporary storage in which the last item stored is the first retrieved"
   ]
  },
  {
   "cell_type": "code",
   "execution_count": null,
   "id": "ad54d774",
   "metadata": {},
   "outputs": [],
   "source": []
  },
  {
   "cell_type": "markdown",
   "id": "53e3b0e8",
   "metadata": {},
   "source": [
    "# Queue"
   ]
  },
  {
   "cell_type": "code",
   "execution_count": 1,
   "id": "97cb8dce",
   "metadata": {},
   "outputs": [],
   "source": [
    "# Implement a queue using 2 stack"
   ]
  },
  {
   "cell_type": "code",
   "execution_count": 3,
   "id": "3570413c",
   "metadata": {},
   "outputs": [
    {
     "name": "stdout",
     "output_type": "stream",
     "text": [
      "Pushed 1 to front. stack1: [1], stack2: []\n",
      "Pushed 2 to back. stack1: [1], stack2: [2]\n",
      "Pushed 3 to front. stack1: [1, 3], stack2: [2]\n",
      "Pushed 4 to back. stack1: [1, 3], stack2: [2, 4]\n",
      "Popped from front: 3. stack1: [1], stack2: [2, 4]\n",
      "3\n",
      "Popped from back: 4. stack1: [1], stack2: [2]\n",
      "4\n",
      "Front element: 1. stack1: [1], stack2: [2]\n",
      "1\n",
      "Back element: 2. stack1: [1], stack2: [2]\n",
      "2\n",
      "Pushed 5 to front. stack1: [1, 5], stack2: [2]\n",
      "Popped from back: 2. stack1: [1, 5], stack2: []\n",
      "2\n"
     ]
    }
   ],
   "source": [
    "class DequeUsingStacks:\n",
    "    def __init__(self):\n",
    "        self.stack1 = []\n",
    "        self.stack2 = []\n",
    "\n",
    "    def pushFront(self, x):\n",
    "        self.stack1.append(x)\n",
    "        print(f\"Pushed {x} to front. stack1: {self.stack1}, stack2: {self.stack2}\")\n",
    "\n",
    "    def pushBack(self, x):\n",
    "        self.stack2.append(x)\n",
    "        print(f\"Pushed {x} to back. stack1: {self.stack1}, stack2: {self.stack2}\")\n",
    "\n",
    "    def popFront(self):\n",
    "        if not self.stack1:\n",
    "            while self.stack2:\n",
    "                self.stack1.append(self.stack2.pop())\n",
    "        if self.stack1:\n",
    "            result = self.stack1.pop()\n",
    "            print(f\"Popped from front: {result}. stack1: {self.stack1}, stack2: {self.stack2}\")\n",
    "            return result\n",
    "        else:\n",
    "            print(\"Deque is empty.\")\n",
    "            return None\n",
    "\n",
    "    def popBack(self):\n",
    "        if not self.stack2:\n",
    "            while self.stack1:\n",
    "                self.stack2.append(self.stack1.pop())\n",
    "        if self.stack2:\n",
    "            result = self.stack2.pop()\n",
    "            print(f\"Popped from back: {result}. stack1: {self.stack1}, stack2: {self.stack2}\")\n",
    "            return result\n",
    "        else:\n",
    "            print(\"Deque is empty.\")\n",
    "            return None\n",
    "\n",
    "    def peekFront(self):\n",
    "        if not self.stack1:\n",
    "            while self.stack2:\n",
    "                self.stack1.append(self.stack2.pop())\n",
    "        if self.stack1:\n",
    "            result = self.stack1[-1]\n",
    "            print(f\"Front element: {result}. stack1: {self.stack1}, stack2: {self.stack2}\")\n",
    "            return result\n",
    "        else:\n",
    "            print(\"Deque is empty.\")\n",
    "            return None\n",
    "\n",
    "    def peekBack(self):\n",
    "        if not self.stack2:\n",
    "            while self.stack1:\n",
    "                self.stack2.append(self.stack1.pop())\n",
    "        if self.stack2:\n",
    "            result = self.stack2[-1]\n",
    "            print(f\"Back element: {result}. stack1: {self.stack1}, stack2: {self.stack2}\")\n",
    "            return result\n",
    "        else:\n",
    "            print(\"Deque is empty.\")\n",
    "            return None\n",
    "\n",
    "    def isEmpty(self):\n",
    "        is_empty = not self.stack1 and not self.stack2\n",
    "        print(f\"Deque is empty: {is_empty}. stack1: {self.stack1}, stack2: {self.stack2}\")\n",
    "        return is_empty\n",
    "\n",
    "# Create deque\n",
    "deque = DequeUsingStacks()\n",
    "\n",
    "# Perform example operations\n",
    "deque.pushFront(1)\n",
    "deque.pushBack(2)\n",
    "deque.pushFront(3)\n",
    "deque.pushBack(4)\n",
    "print(deque.popFront())  # Expected output: 3\n",
    "print(deque.popBack())   # Expected output: 4\n",
    "print(deque.peekFront()) # Expected output: 1\n",
    "print(deque.peekBack())  # Expected output: 2\n",
    "deque.pushFront(5)\n",
    "print(deque.popBack())   # Expected output: 2\n"
   ]
  },
  {
   "cell_type": "code",
   "execution_count": null,
   "id": "91f8e916",
   "metadata": {},
   "outputs": [],
   "source": [
    "# Implement a stack using 2 queue"
   ]
  }
 ],
 "metadata": {
  "kernelspec": {
   "display_name": "Python 3 (ipykernel)",
   "language": "python",
   "name": "python3"
  },
  "language_info": {
   "codemirror_mode": {
    "name": "ipython",
    "version": 3
   },
   "file_extension": ".py",
   "mimetype": "text/x-python",
   "name": "python",
   "nbconvert_exporter": "python",
   "pygments_lexer": "ipython3",
   "version": "3.9.7"
  }
 },
 "nbformat": 4,
 "nbformat_minor": 5
}
