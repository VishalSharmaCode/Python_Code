{
 "cells": [
  {
   "cell_type": "code",
   "execution_count": 31,
   "id": "25b1921a",
   "metadata": {},
   "outputs": [
    {
     "name": "stdout",
     "output_type": "stream",
     "text": [
      "Give first number=3\n",
      "Give second number=7\n",
      "even= [4, 6]\n",
      "odd= [3, 5, 7]\n",
      "{'countodd': 2, 'counteven': 3}\n"
     ]
    }
   ],
   "source": [
    "'''wap that acces two +int a and b and find all the ood number and all the even num bettween a and b in desending order and \n",
    "than their count in dictonary'''\n",
    "a=int(input(\"Give first number=\"))\n",
    "b=int(input(\"Give second number=\"))\n",
    "l1=[]\n",
    "l2=[]\n",
    "for i in range(a,b+1):\n",
    "    if i%2==0:\n",
    "        l1.append(i)\n",
    "    else:\n",
    "        l2.append(i)\n",
    "print(\"even=\",l1)\n",
    "print(\"odd=\",l2)\n",
    "dict1={\n",
    "    \"countodd\":len(l1),\n",
    "    \"counteven\":len(l2)\n",
    "}\n",
    "print(dict1)\n",
    "\n",
    "    "
   ]
  },
  {
   "cell_type": "code",
   "execution_count": 9,
   "id": "26d401aa",
   "metadata": {},
   "outputs": [
    {
     "name": "stdout",
     "output_type": "stream",
     "text": [
      "n1=66\n",
      "n2=7\n",
      "n3=47\n",
      "n4=6\n",
      "[66, 7, 47, 6]\n",
      "a is greater than all\n"
     ]
    }
   ],
   "source": [
    "a=int(input(\"n1=\"))\n",
    "b=int(input(\"n2=\"))\n",
    "c=int(input(\"n3=\"))\n",
    "d=int(input(\"n4=\"))\n",
    "l1=[]\n",
    "l1.append(a)\n",
    "l1.append(b)\n",
    "l1.append(c)\n",
    "l1.append(d)\n",
    "print(l1)\n",
    "if a>b:\n",
    "    if a>d:\n",
    "         if a>c:\n",
    "            print(\"a is greater than all\")\n",
    "if b>a:\n",
    "    if b>d:\n",
    "        if b>c:\n",
    "            print(\"b is greater than all\")\n",
    "if c>a:\n",
    "    if(c>d):\n",
    "        if c>b:\n",
    "            print(\"c is greater than all\")\n",
    "if d>a:\n",
    "    if d>c:\n",
    "        if d>b:\n",
    "            print(\"d is greater than all\")\n",
    "\n",
    "    "
   ]
  },
  {
   "cell_type": "code",
   "execution_count": null,
   "id": "ad8f096c",
   "metadata": {},
   "outputs": [],
   "source": [
    "'''write a while loop to copy the string 'orange' \n",
    "of the list square to the list new under score squr stop and exit the loop if the value on the list is not orange'''\n",
    "str1=\"'apple','banana','orange','papaya','orange'\"\n",
    "str2=\"orange\"\n",
    "count=0\n",
    "l1=[]\n",
    "for ch in str1:\n",
    "    if ch in str2:\n",
    "        count+=1\n",
    "while(count!=0):\n",
    "    l1.append(str2)\n",
    "print(l1)\n",
    "\n",
    "    \n",
    "    \n"
   ]
  },
  {
   "cell_type": "code",
   "execution_count": null,
   "id": "870fccf3",
   "metadata": {},
   "outputs": [],
   "source": [
    "'''wrt a while loop to display the value of the rating of an album playlist stored in list if the score is\n",
    "less than 6 exit the loop'''\n",
    "\n"
   ]
  }
 ],
 "metadata": {
  "kernelspec": {
   "display_name": "Python 3 (ipykernel)",
   "language": "python",
   "name": "python3"
  },
  "language_info": {
   "codemirror_mode": {
    "name": "ipython",
    "version": 3
   },
   "file_extension": ".py",
   "mimetype": "text/x-python",
   "name": "python",
   "nbconvert_exporter": "python",
   "pygments_lexer": "ipython3",
   "version": "3.9.7"
  }
 },
 "nbformat": 4,
 "nbformat_minor": 5
}
