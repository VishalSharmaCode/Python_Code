{
 "cells": [
  {
   "cell_type": "code",
   "execution_count": 2,
   "id": "6dd79802",
   "metadata": {},
   "outputs": [
    {
     "name": "stdout",
     "output_type": "stream",
     "text": [
      "dict_keys(['name', 'age', 'isregestere', 'fav'])\n"
     ]
    }
   ],
   "source": [
    "dict1={\n",
    "    \"name\":\"hhhhh\",\n",
    "    \"age\":23,\n",
    "    \"isregestere\":True,\n",
    "    \"fav\":[\"pun\",'que']\n",
    "}\n",
    "print(dict1.keys())"
   ]
  },
  {
   "cell_type": "code",
   "execution_count": 2,
   "id": "2e9b88cb",
   "metadata": {},
   "outputs": [
    {
     "name": "stdout",
     "output_type": "stream",
     "text": [
      "Vishal\n"
     ]
    }
   ],
   "source": [
    "dict1={\n",
    "    \"name\":\"Vishal\",\n",
    "    \"age\":20,\n",
    "    \"vilage\":\"kazibans\",\n",
    "    \"state\":\"U.P.\"\n",
    "}\n",
    "print(dict1.get(\"name\"))"
   ]
  },
  {
   "cell_type": "code",
   "execution_count": 4,
   "id": "367d57aa",
   "metadata": {},
   "outputs": [
    {
     "name": "stdout",
     "output_type": "stream",
     "text": [
      "Vishal\n"
     ]
    }
   ],
   "source": [
    "print(dict1.get(\"name\"))"
   ]
  },
  {
   "cell_type": "code",
   "execution_count": 6,
   "id": "a47e8c97",
   "metadata": {},
   "outputs": [
    {
     "name": "stdout",
     "output_type": "stream",
     "text": [
      "dict_items([('brand', 'Ford'), ('model', 'Mustang'), ('year', 1964)])\n"
     ]
    }
   ],
   "source": [
    "thisdict = {\n",
    "  \"brand\": \"Ford\",\n",
    "  \"model\": \"Mustang\",\n",
    "  \"year\": 1964\n",
    "}\n",
    "print(thisdict.items())"
   ]
  },
  {
   "cell_type": "code",
   "execution_count": 7,
   "id": "5fcbc9a7",
   "metadata": {},
   "outputs": [
    {
     "name": "stdout",
     "output_type": "stream",
     "text": [
      "{'brand': 'Ford', 'year': 1964}\n"
     ]
    }
   ],
   "source": [
    "thisdict = {\n",
    "  \"brand\": \"Ford\",\n",
    "  \"model\": \"Mustang\",\n",
    "  \"year\": 1964\n",
    "}\n",
    "thisdict.pop(\"model\")\n",
    "print(thisdict)"
   ]
  },
  {
   "cell_type": "code",
   "execution_count": 8,
   "id": "618f9017",
   "metadata": {},
   "outputs": [
    {
     "name": "stdout",
     "output_type": "stream",
     "text": [
      "{'brand': 'Ford', 'model': 'Mustang'}\n"
     ]
    }
   ],
   "source": [
    "dict1 = {\n",
    "  \"brand\": \"Ford\",\n",
    "  \"model\": \"Mustang\",\n",
    "  \"year\": 1964\n",
    "}\n",
    "dict1.popitem()\n",
    "print(dict1)"
   ]
  },
  {
   "cell_type": "code",
   "execution_count": 9,
   "id": "a3423685",
   "metadata": {},
   "outputs": [
    {
     "name": "stdout",
     "output_type": "stream",
     "text": [
      "brand\n",
      "model\n",
      "year\n"
     ]
    }
   ],
   "source": [
    "dict1 = {\n",
    "  \"brand\": \"Ford\",\n",
    "  \"model\": \"Mustang\",\n",
    "  \"year\": 1964\n",
    "}\n",
    "for i in dict1:\n",
    "    print(i)"
   ]
  },
  {
   "cell_type": "code",
   "execution_count": 21,
   "id": "f7b61e73",
   "metadata": {},
   "outputs": [
    {
     "name": "stdout",
     "output_type": "stream",
     "text": [
      "Operator\tName\t            Example\t\n",
      "+      \tAddition\t      x + y\t         \n",
      "-\t      Subtraction \tx - y\t\n",
      "*\t     Multiplication     x * y\t\n",
      "/\t      Division\t      x / y\t\n",
      "%\t       Modulus\t      x % y\t\n",
      "**\t    Exponentiation\tx ** y\t to give the power of any value\n",
      "//\t    Floor division\tx // y\n"
     ]
    }
   ],
   "source": [
    "f = open(\"D:\\ppt.txt\")\n",
    "print(f.read())"
   ]
  },
  {
   "cell_type": "code",
   "execution_count": 25,
   "id": "b7af89a5",
   "metadata": {},
   "outputs": [
    {
     "name": "stdout",
     "output_type": "stream",
     "text": [
      "I am Vishal SharmaNow the file has more content!, Now the file has more content!\n"
     ]
    }
   ],
   "source": [
    "f = open(\"D:\\ppt2.txt\", \"a\")\n",
    "f.write(\", Now the file has more content!\")\n",
    "f.close()\n",
    "f = open(\"D:\\ppt2.txt\", \"r\")\n",
    "print(f.read())"
   ]
  },
  {
   "cell_type": "code",
   "execution_count": 26,
   "id": "abedcdd5",
   "metadata": {},
   "outputs": [
    {
     "name": "stdout",
     "output_type": "stream",
     "text": [
      "I am Vishal SharmaNow the file has more content!, Now the file has more content!, Now the file has more content!\n"
     ]
    }
   ],
   "source": [
    "f = open(\"D:\\ppt2.txt\", \"a\")\n",
    "f.write(\", Now the file has more content!\")\n",
    "f.close()\n",
    "f = open(\"D:\\ppt2.txt\", \"r\")\n",
    "print(f.read())"
   ]
  },
  {
   "cell_type": "code",
   "execution_count": 1,
   "id": "07d52ee7",
   "metadata": {},
   "outputs": [
    {
     "name": "stdout",
     "output_type": "stream",
     "text": [
      "i am vishal sharma, Now the file has more content!, Now the file has more content!, Now the file has more content!\n"
     ]
    }
   ],
   "source": [
    "f = open(\"D:\\ppt2.txt\", \"a\") \n",
    "f.write(\", Now the file has more content!\")\n",
    "f.close()\n",
    "f = open(\"D:\\ppt2.txt\", \"r\")\n",
    "print(f.read())"
   ]
  },
  {
   "cell_type": "code",
   "execution_count": 4,
   "id": "b198d894",
   "metadata": {},
   "outputs": [],
   "source": [
    "with open(\"D:\\ppt2.txt\",'r') as firstfile, open (\"D:\\ppt.txt\",'a') as secondfile:\n",
    "    for line in firstfile:\n",
    "        secondfile.write(line)"
   ]
  },
  {
   "cell_type": "code",
   "execution_count": 20,
   "id": "f5e226b5",
   "metadata": {},
   "outputs": [],
   "source": [
    "dict1={\n",
    "    \"name\":\"hhhhh\",\n",
    "    \"age\":23,\n",
    "    \"isregestere\":True,\n",
    "    \"fav\":{\"car\":\"Bugati\",\n",
    "          \"model\":1990}\n",
    "}\n",
    "x=dict1.get(\"fav\")"
   ]
  },
  {
   "cell_type": "code",
   "execution_count": 22,
   "id": "b5d49943",
   "metadata": {},
   "outputs": [
    {
     "data": {
      "text/plain": [
       "'Bugati'"
      ]
     },
     "execution_count": 22,
     "metadata": {},
     "output_type": "execute_result"
    }
   ],
   "source": [
    "x.get(\"car\")"
   ]
  },
  {
   "cell_type": "code",
   "execution_count": null,
   "id": "2c8f5d1f",
   "metadata": {},
   "outputs": [],
   "source": []
  }
 ],
 "metadata": {
  "kernelspec": {
   "display_name": "Python 3 (ipykernel)",
   "language": "python",
   "name": "python3"
  },
  "language_info": {
   "codemirror_mode": {
    "name": "ipython",
    "version": 3
   },
   "file_extension": ".py",
   "mimetype": "text/x-python",
   "name": "python",
   "nbconvert_exporter": "python",
   "pygments_lexer": "ipython3",
   "version": "3.9.7"
  }
 },
 "nbformat": 4,
 "nbformat_minor": 5
}
