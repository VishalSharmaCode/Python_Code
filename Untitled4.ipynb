{
 "cells": [
  {
   "cell_type": "code",
   "execution_count": 4,
   "id": "0f659496",
   "metadata": {},
   "outputs": [
    {
     "name": "stdout",
     "output_type": "stream",
     "text": [
      "['orange', 'orange', 'orange', 'orange', 'orange', 'orange']\n"
     ]
    }
   ],
   "source": [
    "'''write a while loop to copy the string 'orange' \n",
    "of the list square to the list new under score squr stop and exit the loop if the value on the list is not orange'''\n",
    "str1=('orange','orange','orange','orange','orange','orange','papaya','orange','orange','papaya')\n",
    "str2=\"orange\"\n",
    "l1=[]\n",
    "i=0\n",
    "\n",
    "count=0\n",
    "for ch in str1:\n",
    "    if ch==str2:\n",
    "        count+=1\n",
    "    else:\n",
    "        break\n",
    "while(i<count):\n",
    "    l1.append(str2)\n",
    "    i+=1\n",
    "print(l1)\n",
    "    \n",
    "\n",
    "        \n",
    "        \n",
    "\n",
    "\n",
    "           \n",
    "                                                                                                                                 \n",
    " \n",
    "    \n"
   ]
  },
  {
   "cell_type": "code",
   "execution_count": null,
   "id": "2c0b9bf5",
   "metadata": {},
   "outputs": [],
   "source": [
    "'''write a while loop to copy the string 'orange' \n",
    "of the list square to the list new under score squr stop and exit the loop if the value on the list is not orange'''\n",
    "str1=('orange','orange','orange','orange','orange','orange','papaya','orange','orange','papaya')\n",
    "str2=\"orange\"\n",
    "l1=[]\n",
    "i=0\n",
    "\n",
    "count=0\n",
    "while(1):\n",
    "    for ch in str1:\n",
    "        if ch==str2:\n",
    "            l1.append(str2)\n",
    "        else:\n",
    "            break\n",
    "    break\n",
    "print(l1)\n",
    "    \n",
    "\n",
    "        \n",
    "        \n",
    "\n",
    "\n",
    "           \n",
    "                                                                                                                                 \n",
    " \n",
    "    \n"
   ]
  },
  {
   "cell_type": "code",
   "execution_count": null,
   "id": "da4a0b3e",
   "metadata": {},
   "outputs": [],
   "source": []
  },
  {
   "cell_type": "code",
   "execution_count": null,
   "id": "2d6914dd",
   "metadata": {},
   "outputs": [],
   "source": []
  }
 ],
 "metadata": {
  "kernelspec": {
   "display_name": "Python 3 (ipykernel)",
   "language": "python",
   "name": "python3"
  },
  "language_info": {
   "codemirror_mode": {
    "name": "ipython",
    "version": 3
   },
   "file_extension": ".py",
   "mimetype": "text/x-python",
   "name": "python",
   "nbconvert_exporter": "python",
   "pygments_lexer": "ipython3",
   "version": "3.9.7"
  }
 },
 "nbformat": 4,
 "nbformat_minor": 5
}
