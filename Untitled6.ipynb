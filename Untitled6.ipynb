{
 "cells": [
  {
   "cell_type": "code",
   "execution_count": 1,
   "id": "16aec717",
   "metadata": {},
   "outputs": [
    {
     "name": "stdout",
     "output_type": "stream",
     "text": [
      "     Name   Roll no\n",
      "0  Hardik  11212600\n"
     ]
    }
   ],
   "source": [
    "import pandas as pd\n",
    "df=pd.read_csv(\"D:/test.csv\")\n",
    "print(df)"
   ]
  },
  {
   "cell_type": "code",
   "execution_count": 8,
   "id": "907ab6d5",
   "metadata": {},
   "outputs": [],
   "source": [
    "import csv\n",
    "\t\n",
    "rows=[['Hardik','11212600','A'],['Vikas','11212526','A']]\n",
    "\t\n",
    "fields = ['name', 'roll_no', 'Section']\n",
    "\t\n",
    "# name of csv file\n",
    "filename = \"D:/write.csv\"\n",
    "\t\n",
    "with open(filename, 'w') as csvfile:\n",
    "\n",
    "    csvwriter=csv.writer(csvfile)\n",
    "    csvwriter.writerow(fields)\n",
    "    csvwriter.writerows(rows)"
   ]
  },
  {
   "cell_type": "code",
   "execution_count": 9,
   "id": "febc79c8",
   "metadata": {},
   "outputs": [
    {
     "name": "stdout",
     "output_type": "stream",
     "text": [
      "     Name   Roll No\n",
      "0  Hardik  11212600\n"
     ]
    }
   ],
   "source": [
    "import pandas as pd\n",
    "df=pd.read_excel(\"D:/read.xlsx\")\n",
    "print(df)"
   ]
  },
  {
   "cell_type": "code",
   "execution_count": 11,
   "id": "00e50f9f",
   "metadata": {},
   "outputs": [],
   "source": [
    "import csv\n",
    "\t\n",
    "rows=[['Hardik','11212600','A'],['Vikas','11212526','A']]\n",
    "\t\n",
    "fields = ['name', 'roll_no', 'Section']\n",
    "\t\n",
    "filename = \"D:/write2.xlsx\"\n",
    "\t\n",
    "with open(filename, 'w') as xlsxfile:\n",
    "\n",
    "    csvwriter=csv.writer(xlsxfile)\n",
    "    csvwriter.writerow(fields)\n",
    "    csvwriter.writerows(rows)"
   ]
  },
  {
   "cell_type": "code",
   "execution_count": 15,
   "id": "2e2bd35d",
   "metadata": {},
   "outputs": [
    {
     "name": "stdout",
     "output_type": "stream",
     "text": [
      "     name   roll_no section\n",
      "0  hardik  11212600       A\n"
     ]
    }
   ],
   "source": [
    "import pandas as pd\n",
    "import openpyxl\n",
    "\n",
    "df = pd.DataFrame([['hardik','11212600','A']],\n",
    "                   columns=['name', 'roll_no', 'section'])\n",
    "print(df)"
   ]
  },
  {
   "cell_type": "code",
   "execution_count": null,
   "id": "498a8ad4",
   "metadata": {},
   "outputs": [],
   "source": []
  }
 ],
 "metadata": {
  "kernelspec": {
   "display_name": "Python 3 (ipykernel)",
   "language": "python",
   "name": "python3"
  },
  "language_info": {
   "codemirror_mode": {
    "name": "ipython",
    "version": 3
   },
   "file_extension": ".py",
   "mimetype": "text/x-python",
   "name": "python",
   "nbconvert_exporter": "python",
   "pygments_lexer": "ipython3",
   "version": "3.9.7"
  }
 },
 "nbformat": 4,
 "nbformat_minor": 5
}
