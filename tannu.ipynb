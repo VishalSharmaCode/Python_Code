{
 "cells": [
  {
   "cell_type": "code",
   "execution_count": 2,
   "id": "9211db50",
   "metadata": {},
   "outputs": [
    {
     "name": "stdout",
     "output_type": "stream",
     "text": [
      "(1, 3, 5)\n"
     ]
    }
   ],
   "source": [
    "#wap to store number at odd index in a new tuple.\n",
    "T=(1,2,3,4,5,6)\n",
    "def ggg(tup):\n",
    "    newList=[]\n",
    "    for i in range(0,len(tup),2):\n",
    "        newList.append(tup[i])\n",
    "    return tuple(newList)\n",
    "print(ggg(T))"
   ]
  },
  {
   "cell_type": "code",
   "execution_count": 2,
   "id": "b8430c71",
   "metadata": {},
   "outputs": [
    {
     "name": "stdout",
     "output_type": "stream",
     "text": [
      "(1, 3, 5)\n"
     ]
    }
   ],
   "source": [
    "#wap to use infinite arguments in a function.\n",
    "def ggg(*args):\n",
    "    newlist=[]\n",
    "    for i in range (0,len(args),2):\n",
    "        newlist.append(args[i])\n",
    "    return tuple(newlist)\n",
    "print(ggg(1,2,3,4,5,6))"
   ]
  },
  {
   "cell_type": "code",
   "execution_count": 3,
   "id": "7a92e394",
   "metadata": {},
   "outputs": [
    {
     "name": "stdout",
     "output_type": "stream",
     "text": [
      "[7, 6, 5, 4, 3, 2, 1]\n"
     ]
    }
   ],
   "source": [
    "#wap to reverse the element of a list without using reverse or any other function.\n",
    "list1=[1,2,3,4,5,6,7]\n",
    "length=len(list1)\n",
    "def reverse(list):\n",
    "    newlist=[]\n",
    "    global length\n",
    "    for i in range(0,length):\n",
    "        newlist.append(list[-1])\n",
    "        list.pop(-1)\n",
    "        length=length-1\n",
    "    return newlist\n",
    "print(reverse(list1))"
   ]
  },
  {
   "cell_type": "code",
   "execution_count": 6,
   "id": "19b057ac",
   "metadata": {},
   "outputs": [
    {
     "name": "stdout",
     "output_type": "stream",
     "text": [
      "[11, 13, 15, 17, 19]\n"
     ]
    }
   ],
   "source": [
    "#wap to take 2 +ve int where a<b and return odd elements between them.\n",
    "def ggg(number1,number2):\n",
    "    if number1>number2:\n",
    "        print(\"first number should be greater than second number\")\n",
    "        return\n",
    "    newlist=[]\n",
    "    for i in range(number1,number2+1):\n",
    "        if i%2!=0:\n",
    "            newlist.append(i)\n",
    "    return newlist\n",
    "print(ggg(10,20))"
   ]
  },
  {
   "cell_type": "code",
   "execution_count": 10,
   "id": "fd4d175c",
   "metadata": {},
   "outputs": [
    {
     "name": "stdout",
     "output_type": "stream",
     "text": [
      "tau\n"
     ]
    }
   ],
   "source": [
    "#wap to remove a spacific latter from a string.\n",
    "def ggg(word,letter):\n",
    "    word=word.replace(letter,'')\n",
    "    return word\n",
    "print(ggg('tannu','n'))"
   ]
  },
  {
   "cell_type": "code",
   "execution_count": 4,
   "id": "badcf53b",
   "metadata": {},
   "outputs": [
    {
     "name": "stdout",
     "output_type": "stream",
     "text": [
      "[1, 2]\n"
     ]
    }
   ],
   "source": [
    "list1=['tannu', 1, 2,'yash varma',6.8]\n",
    "def pickinteger():\n",
    "    newlist=[]\n",
    "    for i in list1:\n",
    "        if type(i)==int:\n",
    "            newlist.append(i)\n",
    "    print(newlist)\n",
    "pickinteger()\n",
    "    "
   ]
  },
  {
   "cell_type": "code",
   "execution_count": 1,
   "id": "7045a4c2",
   "metadata": {},
   "outputs": [
    {
     "name": "stdout",
     "output_type": "stream",
     "text": [
      "(1, 3, 5)\n"
     ]
    }
   ],
   "source": [
    "#first\n",
    "T=(1,2,3,4,5)\n",
    "def ttt(tup):\n",
    "    newlist=[]\n",
    "    for i in range(0,len(tup),2):\n",
    "        newlist.append(tup[i])\n",
    "    return tuple(newlist)\n",
    "print(ttt(T))"
   ]
  },
  {
   "cell_type": "code",
   "execution_count": 4,
   "id": "68a556b1",
   "metadata": {},
   "outputs": [
    {
     "name": "stdout",
     "output_type": "stream",
     "text": [
      "(1, 3, 5, 7)\n"
     ]
    }
   ],
   "source": [
    "#second\n",
    "def ttt(*args):\n",
    "    newlist=[]\n",
    "    for i in range(0,len(args),2):\n",
    "        newlist.append(args[i])\n",
    "    return tuple(newlist)\n",
    "print(ttt(1,2,3,4,5,6,7))"
   ]
  },
  {
   "cell_type": "code",
   "execution_count": 5,
   "id": "85baf42e",
   "metadata": {},
   "outputs": [
    {
     "name": "stdout",
     "output_type": "stream",
     "text": [
      "[7, 6, 5, 4, 3, 2, 1]\n"
     ]
    }
   ],
   "source": [
    "#third\n",
    "list1=[1,2,3,4,5,6,7]\n",
    "length=len(list1)\n",
    "def reverse(list):\n",
    "    newlist=[]\n",
    "    global length\n",
    "    for i in range(0,length):\n",
    "        newlist.append(list[-1])\n",
    "        list.pop(-1)\n",
    "        length=length-1\n",
    "    return newlist\n",
    "print(reverse(list1))"
   ]
  },
  {
   "cell_type": "code",
   "execution_count": 8,
   "id": "a43678d7",
   "metadata": {},
   "outputs": [
    {
     "name": "stdout",
     "output_type": "stream",
     "text": [
      "[11, 13, 15, 17, 19]\n"
     ]
    }
   ],
   "source": [
    "def ttt(num1,num2):\n",
    "    if num1>num2:\n",
    "        print(\"first numberis greater than second number\")\n",
    "        return\n",
    "    newlist=[]\n",
    "    for i in range(num1,num2+1):\n",
    "        if i%2!=0:\n",
    "            newlist.append(i)\n",
    "    return newlist\n",
    "print(ttt(10,20))"
   ]
  },
  {
   "cell_type": "code",
   "execution_count": null,
   "id": "3abd1d3b",
   "metadata": {},
   "outputs": [],
   "source": []
  }
 ],
 "metadata": {
  "kernelspec": {
   "display_name": "Python 3 (ipykernel)",
   "language": "python",
   "name": "python3"
  },
  "language_info": {
   "codemirror_mode": {
    "name": "ipython",
    "version": 3
   },
   "file_extension": ".py",
   "mimetype": "text/x-python",
   "name": "python",
   "nbconvert_exporter": "python",
   "pygments_lexer": "ipython3",
   "version": "3.9.7"
  }
 },
 "nbformat": 4,
 "nbformat_minor": 5
}
