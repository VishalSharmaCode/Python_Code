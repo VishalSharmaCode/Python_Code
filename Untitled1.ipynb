{
 "cells": [
  {
   "cell_type": "code",
   "execution_count": null,
   "id": "0f2abbc5",
   "metadata": {},
   "outputs": [],
   "source": [
    "'''write a while loop to copy the string 'orange' \n",
    "of the list square to the list new under score squr stop and exit the loop if the value on the list is not orange'''\n",
    "str1=('apple','banana','orange','papaya','orange')\n",
    "str2=\"orange\"\n",
    "count=0\n",
    "l1=[]\n",
    "for ch in str1:\n",
    "    if ch in str2:\n",
    "        count+=1\n",
    "while(count!=0):\n",
    "    l1.append(str2)\n",
    "print(l1)\n",
    "\n",
    "    \n",
    "    \n"
   ]
  },
  {
   "cell_type": "code",
   "execution_count": 7,
   "id": "d7b47f19",
   "metadata": {},
   "outputs": [],
   "source": [
    "with open(\"D:\\ppt.txt\",'r') as firstfile, open(\"D:\\ppt2.txt\",'a') as secondfile:\n",
    "    for line in firstfile:\n",
    "        secondfile.write(line)"
   ]
  },
  {
   "cell_type": "code",
   "execution_count": 5,
   "id": "bc8ade24",
   "metadata": {},
   "outputs": [
    {
     "name": "stdout",
     "output_type": "stream",
     "text": [
      "Give a number0\n",
      "Not Weird\n"
     ]
    }
   ],
   "source": [
    "n=eval(input(\"Give a number=\"))\n",
    "if n>=2 and n<=5:\n",
    "    if n%2==0:\n",
    "        print(\"Not Weird\")\n",
    "    else:\n",
    "        print(\"Weird\")\n",
    "elif n>=6 and n<=20:\n",
    "    if n%2==0:\n",
    "        print(\"Weird\")\n",
    "    else:\n",
    "        print(\"Not Weird\")\n",
    "else:\n",
    "    if n%2==0:\n",
    "        print(\"Not Weird\")\n",
    "    else:\n",
    "        print(\"Weird\")\n"
   ]
  },
  {
   "cell_type": "code",
   "execution_count": null,
   "id": "9d74ce14",
   "metadata": {},
   "outputs": [],
   "source": []
  }
 ],
 "metadata": {
  "kernelspec": {
   "display_name": "Python 3 (ipykernel)",
   "language": "python",
   "name": "python3"
  },
  "language_info": {
   "codemirror_mode": {
    "name": "ipython",
    "version": 3
   },
   "file_extension": ".py",
   "mimetype": "text/x-python",
   "name": "python",
   "nbconvert_exporter": "python",
   "pygments_lexer": "ipython3",
   "version": "3.9.7"
  }
 },
 "nbformat": 4,
 "nbformat_minor": 5
}
