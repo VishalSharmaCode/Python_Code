{
 "cells": [
  {
   "cell_type": "code",
   "execution_count": 1,
   "id": "45007866",
   "metadata": {},
   "outputs": [
    {
     "name": "stdout",
     "output_type": "stream",
     "text": [
      "Give any string::vishal\n",
      "i a None\n"
     ]
    }
   ],
   "source": [
    "def vowel():\n",
    "    string=input(\"Give any string::\")\n",
    "    string2=\"aeiou\"\n",
    "    for ch in string:\n",
    "        if ch in string2:\n",
    "            print(ch,end=\" \")\n",
    "print(vowel()) "
   ]
  },
  {
   "cell_type": "code",
   "execution_count": 1,
   "id": "0ea37679",
   "metadata": {
    "scrolled": true
   },
   "outputs": [
    {
     "name": "stdout",
     "output_type": "stream",
     "text": [
      "0\n",
      "None\n"
     ]
    }
   ],
   "source": [
    "#find the number of vowel\n",
    "def vowel():\n",
    "    sum=0\n",
    "    string=input(\"Give any string::\")\n",
    "    string2=\"aeiou\"\n",
    "    for ch in string:\n",
    "        if ch in string2:\n",
    "            sum+=1\n",
    "           \n",
    "    print(sum)            \n",
    "print(vowel()) "
   ]
  },
  {
   "cell_type": "code",
   "execution_count": 3,
   "id": "1942634f",
   "metadata": {},
   "outputs": [
    {
     "name": "stdout",
     "output_type": "stream",
     "text": [
      "give a string:: khubbhyyou\n",
      "khUbbhyyOU\n"
     ]
    }
   ],
   "source": [
    "#captilation of vowel\n",
    "def function():\n",
    "    str1=input(\"give a string:: \")\n",
    "    str2=str1.replace('a','A').replace('e','E').replace('i','I').replace('o','O').replace('u','U')\n",
    "    print(str2)\n",
    "function()    \n",
    "     \n",
    "    "
   ]
  },
  {
   "cell_type": "code",
   "execution_count": 4,
   "id": "5b007a85",
   "metadata": {},
   "outputs": [
    {
     "name": "stdout",
     "output_type": "stream",
     "text": [
      "give a string:: kjijhnnou\n",
      "kjjhnn\n"
     ]
    }
   ],
   "source": [
    "#remove the vowel\n",
    "def function():\n",
    "    str1=input(\"give a string:: \")\n",
    "    str2=str1.replace('a','').replace('e','').replace('i','').replace('o','').replace('u','')\n",
    "    print(str2)\n",
    "function()    \n",
    "     "
   ]
  },
  {
   "cell_type": "code",
   "execution_count": 10,
   "id": "6bb6a048",
   "metadata": {},
   "outputs": [
    {
     "name": "stdout",
     "output_type": "stream",
     "text": [
      "[644, 3323]\n"
     ]
    }
   ],
   "source": [
    "list1=[\"rinki\",\"jhgghg\",644,3323]\n",
    "def integ():\n",
    "    newlist=[]\n",
    "    for i in range(len(list1)):\n",
    "        if type(list1[i])==int:\n",
    "            newlist.append(list1[i])\n",
    "    print (newlist)\n",
    "integ()"
   ]
  },
  {
   "cell_type": "code",
   "execution_count": 1,
   "id": "a65fbd54",
   "metadata": {},
   "outputs": [
    {
     "name": "stdout",
     "output_type": "stream",
     "text": [
      "Give any string::pandit\n",
      "2\n"
     ]
    }
   ],
   "source": [
    "sum=0\n",
    "string=input(\"Give any string::\")\n",
    "string2=\"aeiou\"\n",
    "for ch in string:\n",
    "    if ch in string2:\n",
    "        sum+=1\n",
    "           \n",
    "print(sum)"
   ]
  },
  {
   "cell_type": "code",
   "execution_count": 3,
   "id": "53eb7288",
   "metadata": {},
   "outputs": [
    {
     "name": "stdout",
     "output_type": "stream",
     "text": [
      "give a string:: pqndit\n",
      "pqndt\n"
     ]
    }
   ],
   "source": [
    "str1=input(\"give a string:: \")\n",
    "str2=str1.replace('a','').replace('e','').replace('i','').replace('o','').replace('u','')\n",
    "print(str2)"
   ]
  },
  {
   "cell_type": "code",
   "execution_count": 2,
   "id": "ac18f198",
   "metadata": {},
   "outputs": [
    {
     "name": "stdout",
     "output_type": "stream",
     "text": [
      "hhhhhAAhAh\n"
     ]
    }
   ],
   "source": [
    "str1=input(\"give a string:: \")\n",
    "str2=str1.replace('a','A').replace('e','E').replace('i','I').replace('o','O').replace('u','U')\n",
    "print(str2) "
   ]
  },
  {
   "cell_type": "code",
   "execution_count": 8,
   "id": "53e3b888",
   "metadata": {},
   "outputs": [
    {
     "name": "stdout",
     "output_type": "stream",
     "text": [
      "52/51\n"
     ]
    }
   ],
   "source": [
    "def gcd(a, b):\n",
    "    while b:\n",
    "        a, b = b, a % b\n",
    "    return abs(a)\n",
    "\n",
    "def lcm(a, b):\n",
    "    return abs(a * b) // gcd(a, b)\n",
    "\n",
    "def add_fractions(num1, den1, num2, den2):\n",
    "    common_den = lcm(den1, den2)\n",
    "    num1 = num1 * (common_den // den1)\n",
    "    num2 = num2 * (common_den // den2)\n",
    "    numerator = num1 + num2\n",
    "    denominator = common_den\n",
    "    return numerator, denominator\n",
    "\n",
    "def simplify_fraction(num, den):\n",
    "    common_divisor = gcd(num, den)\n",
    "    return num // common_divisor, den // common_divisor\n",
    "\n",
    "def parse_expression(expression):\n",
    "    fractions = []\n",
    "    i = 0\n",
    "    n = len(expression)\n",
    "    \n",
    "    while i < n:\n",
    "        # Determine the sign\n",
    "        if expression[i] in '+-':\n",
    "            sign = expression[i]\n",
    "            i += 1\n",
    "        else:\n",
    "            sign = '+'\n",
    "        \n",
    "        # Extract numerator\n",
    "        numerator = 0\n",
    "        negative = False\n",
    "        if expression[i] == '-':\n",
    "            negative = True\n",
    "            i += 1\n",
    "        while i < n and expression[i].isdigit():\n",
    "            numerator = numerator * 10 + int(expression[i])\n",
    "            i += 1\n",
    "        if negative:\n",
    "            numerator = -numerator\n",
    "        \n",
    "        # Skip the '/' character\n",
    "        i += 1\n",
    "        \n",
    "        # Extract denominator\n",
    "        denominator = 0\n",
    "        while i < n and expression[i].isdigit():\n",
    "            denominator = denominator * 10 + int(expression[i])\n",
    "            i += 1\n",
    "        \n",
    "        if sign == '-':\n",
    "            numerator = -numerator\n",
    "        \n",
    "        fractions.append((numerator, denominator))\n",
    "    \n",
    "    return fractions\n",
    "\n",
    "def fraction_addition(expression):\n",
    "    # Parse the input expression to extract all fractions\n",
    "    fractions = parse_expression(expression)\n",
    "    \n",
    "    # Initialize the result numerator and denominator\n",
    "    result_num, result_den = 0, 1\n",
    "    \n",
    "    for num, den in fractions:\n",
    "        result_num, result_den = add_fractions(result_num, result_den, num, den)\n",
    "    \n",
    "    result_num, result_den = simplify_fraction(result_num, result_den)\n",
    "    \n",
    "    if result_num == 0:\n",
    "        return \"0/1\"\n",
    "    \n",
    "    return f\"{result_num}/{result_den}\"\n",
    "\n",
    "# Example test case\n",
    "expression = \"6/17+2/3\"\n",
    "print(fraction_addition(expression))  # Output: \"0/1\"\n"
   ]
  },
  {
   "cell_type": "code",
   "execution_count": 1,
   "id": "629edb63",
   "metadata": {},
   "outputs": [],
   "source": [
    "# Consicutive Vowels"
   ]
  },
  {
   "cell_type": "code",
   "execution_count": 4,
   "id": "76b723b0",
   "metadata": {},
   "outputs": [
    {
     "data": {
      "text/plain": [
       "7"
      ]
     },
     "execution_count": 4,
     "metadata": {},
     "output_type": "execute_result"
    }
   ],
   "source": [
    "def isvowel(c):\n",
    "    return (c =='A' or c =='E' or c =='I' or c =='O' or c =='U')\n",
    "St = 'RRKYUINNTREEAEIOU'\n",
    "count = 0\n",
    "for i in range(len(St)-1):\n",
    "    j=i+1\n",
    "    if isvowel(St[i])==True and isvowel(St[j])==True:\n",
    "        count =count+1\n",
    "count"
   ]
  },
  {
   "cell_type": "code",
   "execution_count": null,
   "id": "82bb50f0",
   "metadata": {},
   "outputs": [],
   "source": []
  },
  {
   "cell_type": "code",
   "execution_count": null,
   "id": "61d0ca16",
   "metadata": {},
   "outputs": [],
   "source": []
  },
  {
   "cell_type": "code",
   "execution_count": null,
   "id": "93f47068",
   "metadata": {},
   "outputs": [],
   "source": []
  }
 ],
 "metadata": {
  "kernelspec": {
   "display_name": "Python 3 (ipykernel)",
   "language": "python",
   "name": "python3"
  },
  "language_info": {
   "codemirror_mode": {
    "name": "ipython",
    "version": 3
   },
   "file_extension": ".py",
   "mimetype": "text/x-python",
   "name": "python",
   "nbconvert_exporter": "python",
   "pygments_lexer": "ipython3",
   "version": "3.9.7"
  }
 },
 "nbformat": 4,
 "nbformat_minor": 5
}
