{
 "cells": [
  {
   "cell_type": "code",
   "execution_count": 1,
   "id": "45007866",
   "metadata": {},
   "outputs": [
    {
     "name": "stdout",
     "output_type": "stream",
     "text": [
      "Give any string::vishal\n",
      "i a None\n"
     ]
    }
   ],
   "source": [
    "def vowel():\n",
    "    string=input(\"Give any string::\")\n",
    "    string2=\"aeiou\"\n",
    "    for ch in string:\n",
    "        if ch in string2:\n",
    "            print(ch,end=\" \")\n",
    "print(vowel()) "
   ]
  },
  {
   "cell_type": "code",
   "execution_count": 2,
   "id": "0ea37679",
   "metadata": {
    "scrolled": true
   },
   "outputs": [
    {
     "name": "stdout",
     "output_type": "stream",
     "text": [
      "Give any string::jkhjhuhiu\n",
      "3\n",
      "None\n"
     ]
    }
   ],
   "source": [
    "#find the number of vowel\n",
    "def vowel():\n",
    "    sum=0\n",
    "    string=input(\"Give any string::\")\n",
    "    string2=\"aeiou\"\n",
    "    for ch in string:\n",
    "        if ch in string2:\n",
    "            sum+=1\n",
    "           \n",
    "    print(sum)            \n",
    "print(vowel()) "
   ]
  },
  {
   "cell_type": "code",
   "execution_count": 3,
   "id": "1942634f",
   "metadata": {},
   "outputs": [
    {
     "name": "stdout",
     "output_type": "stream",
     "text": [
      "give a string:: khubbhyyou\n",
      "khUbbhyyOU\n"
     ]
    }
   ],
   "source": [
    "#captilation of vowel\n",
    "def function():\n",
    "    str1=input(\"give a string:: \")\n",
    "    str2=str1.replace('a','A').replace('e','E').replace('i','I').replace('o','O').replace('u','U')\n",
    "    print(str2)\n",
    "function()    \n",
    "     \n",
    "    "
   ]
  },
  {
   "cell_type": "code",
   "execution_count": 4,
   "id": "5b007a85",
   "metadata": {},
   "outputs": [
    {
     "name": "stdout",
     "output_type": "stream",
     "text": [
      "give a string:: kjijhnnou\n",
      "kjjhnn\n"
     ]
    }
   ],
   "source": [
    "#remove the vowel\n",
    "def function():\n",
    "    str1=input(\"give a string:: \")\n",
    "    str2=str1.replace('a','').replace('e','').replace('i','').replace('o','').replace('u','')\n",
    "    print(str2)\n",
    "function()    \n",
    "     "
   ]
  },
  {
   "cell_type": "code",
   "execution_count": 10,
   "id": "6bb6a048",
   "metadata": {},
   "outputs": [
    {
     "name": "stdout",
     "output_type": "stream",
     "text": [
      "[644, 3323]\n"
     ]
    }
   ],
   "source": [
    "list1=[\"rinki\",\"jhgghg\",644,3323]\n",
    "def integ():\n",
    "    newlist=[]\n",
    "    for i in range(len(list1)):\n",
    "        if type(list1[i])==int:\n",
    "            newlist.append(list1[i])\n",
    "    print (newlist)\n",
    "integ()"
   ]
  },
  {
   "cell_type": "code",
   "execution_count": 1,
   "id": "a65fbd54",
   "metadata": {},
   "outputs": [
    {
     "name": "stdout",
     "output_type": "stream",
     "text": [
      "Give any string::pandit\n",
      "2\n"
     ]
    }
   ],
   "source": [
    "sum=0\n",
    "string=input(\"Give any string::\")\n",
    "string2=\"aeiou\"\n",
    "for ch in string:\n",
    "    if ch in string2:\n",
    "        sum+=1\n",
    "           \n",
    "print(sum)"
   ]
  },
  {
   "cell_type": "code",
   "execution_count": 3,
   "id": "53eb7288",
   "metadata": {},
   "outputs": [
    {
     "name": "stdout",
     "output_type": "stream",
     "text": [
      "give a string:: pqndit\n",
      "pqndt\n"
     ]
    }
   ],
   "source": [
    "str1=input(\"give a string:: \")\n",
    "str2=str1.replace('a','').replace('e','').replace('i','').replace('o','').replace('u','')\n",
    "print(str2)"
   ]
  },
  {
   "cell_type": "code",
   "execution_count": 5,
   "id": "ac18f198",
   "metadata": {},
   "outputs": [
    {
     "name": "stdout",
     "output_type": "stream",
     "text": [
      "give a string:: pandit\n",
      "pAndIt\n"
     ]
    }
   ],
   "source": [
    "str1=input(\"give a string:: \")\n",
    "str2=str1.replace('a','A').replace('e','E').replace('i','I').replace('o','O').replace('u','U')\n",
    "print(str2)"
   ]
  },
  {
   "cell_type": "code",
   "execution_count": null,
   "id": "53e3b888",
   "metadata": {},
   "outputs": [],
   "source": []
  }
 ],
 "metadata": {
  "kernelspec": {
   "display_name": "Python 3 (ipykernel)",
   "language": "python",
   "name": "python3"
  },
  "language_info": {
   "codemirror_mode": {
    "name": "ipython",
    "version": 3
   },
   "file_extension": ".py",
   "mimetype": "text/x-python",
   "name": "python",
   "nbconvert_exporter": "python",
   "pygments_lexer": "ipython3",
   "version": "3.9.7"
  }
 },
 "nbformat": 4,
 "nbformat_minor": 5
}
