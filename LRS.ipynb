{
 "cells": [
  {
   "cell_type": "code",
   "execution_count": 1,
   "id": "f8205f91",
   "metadata": {},
   "outputs": [
    {
     "name": "stdout",
     "output_type": "stream",
     "text": [
      "hello\n"
     ]
    }
   ],
   "source": [
    "print('hello')"
   ]
  },
  {
   "cell_type": "code",
   "execution_count": 1,
   "id": "04ccaba4",
   "metadata": {},
   "outputs": [
    {
     "ename": "NameError",
     "evalue": "name 'char' is not defined",
     "output_type": "error",
     "traceback": [
      "\u001b[1;31m---------------------------------------------------------------------------\u001b[0m",
      "\u001b[1;31mNameError\u001b[0m                                 Traceback (most recent call last)",
      "\u001b[1;32m~\\AppData\\Local\\Temp/ipykernel_13132/3618467045.py\u001b[0m in \u001b[0;36m<module>\u001b[1;34m\u001b[0m\n\u001b[1;32m----> 1\u001b[1;33m \u001b[0mA\u001b[0m\u001b[1;33m=\u001b[0m\u001b[0minput\u001b[0m\u001b[1;33m(\u001b[0m\u001b[0mchar\u001b[0m\u001b[1;33m(\u001b[0m\u001b[1;33m)\u001b[0m\u001b[1;33m)\u001b[0m\u001b[1;33m\u001b[0m\u001b[1;33m\u001b[0m\u001b[0m\n\u001b[0m",
      "\u001b[1;31mNameError\u001b[0m: name 'char' is not defined"
     ]
    }
   ],
   "source": [
    "A=input(char())"
   ]
  },
  {
   "cell_type": "code",
   "execution_count": 7,
   "id": "1533c3b3",
   "metadata": {},
   "outputs": [
    {
     "name": "stdout",
     "output_type": "stream",
     "text": [
      "\r\n",
      "[[1, 0, 0, 0, 0, 0, 0, 0], [0, 0, 0, 0, 0, 0, 1, 0], [0, 0, 0, 0, 1, 0, 0, 0], [0, 0, 0, 0, 0, 0, 0, 1], [0, 1, 0, 0, 0, 0, 0, 0], [0, 0, 0, 1, 0, 0, 0, 0], [0, 0, 0, 0, 0, 1, 0, 0], [0, 0, 1, 0, 0, 0, 0, 0]]\n"
     ]
    }
   ],
   "source": [
    "N = 8 # (size of the chessboard)\n",
    " \n",
    "def solveNQueens(board, col):\n",
    "    if col == N:\n",
    "        print(\"\\r\")\n",
    "        print(board)\n",
    "    \n",
    "        return True\n",
    "   \n",
    "    for i in range(N):\n",
    "        if isSafe(board, i, col):\n",
    "            board[i][col] = 1\n",
    "            if solveNQueens(board, col + 1):\n",
    "                return True\n",
    "            board[i][col] = 0\n",
    "    return False\n",
    " \n",
    "def isSafe(board, row, col):\n",
    "    for x in range(col):\n",
    "        if board[row][x] == 1:\n",
    "            return False\n",
    "    for x, y in zip(range(row, -1, -1), range(col, -1, -1)):\n",
    "        if board[x][y] == 1:\n",
    "            return False\n",
    "    for x, y in zip(range(row, N, 1), range(col, -1, -1)):\n",
    "        if board[x][y] == 1:\n",
    "            return False\n",
    "    return True\n",
    " \n",
    "board = [[0 for x in range(N)] for y in range(N)]\n",
    "if not solveNQueens(board, 0):\n",
    "    print(\"No solution found\")"
   ]
  },
  {
   "cell_type": "code",
   "execution_count": null,
   "id": "1196f4a0",
   "metadata": {},
   "outputs": [
    {
     "name": "stderr",
     "output_type": "stream",
     "text": [
      "Exception in Tkinter callback\n",
      "Traceback (most recent call last):\n",
      "  File \"C:\\Users\\HP\\anaconda3\\lib\\tkinter\\__init__.py\", line 1892, in __call__\n",
      "    return self.func(*args)\n",
      "  File \"C:\\Users\\HP\\AppData\\Local\\Temp/ipykernel_12108/1653947800.py\", line 18, in calculate_correlation\n",
      "    corr_coef, p_value = pearsonr(x_values, y_values)\n",
      "NameError: name 'pearsonr' is not defined\n",
      "Exception in Tkinter callback\n",
      "Traceback (most recent call last):\n",
      "  File \"C:\\Users\\HP\\anaconda3\\lib\\tkinter\\__init__.py\", line 1892, in __call__\n",
      "    return self.func(*args)\n",
      "  File \"C:\\Users\\HP\\AppData\\Local\\Temp/ipykernel_12108/1653947800.py\", line 18, in calculate_correlation\n",
      "    corr_coef, p_value = pearsonr(x_values, y_values)\n",
      "NameError: name 'pearsonr' is not defined\n"
     ]
    }
   ],
   "source": [
    "import tkinter as tk\n",
    "import numpy as np\n",
    "import scipy\n",
    "import scipy.stats\n",
    "#now you can use\n",
    "scipy.stats.poisson\n",
    "#if you want it more accessible you could do what you did above\n",
    "from scipy.stats import poisson\n",
    "#then call poisson directly\n",
    "poisson\n",
    "# from scipy.stats import pearsonr\n",
    "\n",
    "def calculate_correlation():\n",
    "    try:\n",
    "        x_values = [float(x) for x in x_entry.get().split()]\n",
    "        y_values = [float(y) for y in y_entry.get().split()]\n",
    "\n",
    "        corr_coef, p_value = pearsonr(x_values, y_values)\n",
    "\n",
    "        if abs(corr_coef) >= 0.7:\n",
    "            correlation_type = \"strong\"\n",
    "        elif abs(corr_coef) >= 0.3:\n",
    "            correlation_type = \"moderate\"\n",
    "        else:\n",
    "            correlation_type = \"weak\"\n",
    "\n",
    "        if p_value < 0.05:\n",
    "            p_value_significance = \"statistically significant\"\n",
    "        else:\n",
    "            p_value_significance = \"not statistically significant\"\n",
    "\n",
    "        result_label.config(text=f\"Pearson correlation coefficient (r): {corr_coef:.2f} (indicating a {correlation_type} correlation).\")\n",
    "        p_value_label.config(text=f\"P-Value: {p_value:.4f} ({p_value_significance}).\")\n",
    "    except ValueError:\n",
    "        result_label.config(text=\"Invalid input. Please enter numeric values separated by spaces.\")\n",
    "\n",
    "# Create the main window\n",
    "root = tk.Tk()\n",
    "root.title(\"Correlation Analysis Calculator\")\n",
    "\n",
    "# Input values\n",
    "x_label = tk.Label(root, text=\"Enter X values (space-separated):\")\n",
    "x_label.pack()\n",
    "\n",
    "x_entry = tk.Entry(root)\n",
    "x_entry.pack()\n",
    "\n",
    "y_label = tk.Label(root, text=\"Enter Y values (space-separated):\")\n",
    "y_label.pack()\n",
    "\n",
    "y_entry = tk.Entry(root)\n",
    "y_entry.pack()\n",
    "\n",
    "# Calculate button\n",
    "calculate_button = tk.Button(root, text=\"Calculate\", command=calculate_correlation)\n",
    "calculate_button.pack()\n",
    "\n",
    "# Result\n",
    "result_label = tk.Label(root, text='')\n",
    "result_label.pack()\n",
    "\n",
    "p_value_label = tk.Label(root, text='')\n",
    "p_value_label.pack()\n",
    "\n",
    "root.mainloop()"
   ]
  },
  {
   "cell_type": "code",
   "execution_count": null,
   "id": "c4cf912e",
   "metadata": {},
   "outputs": [],
   "source": []
  }
 ],
 "metadata": {
  "kernelspec": {
   "display_name": "Python 3 (ipykernel)",
   "language": "python",
   "name": "python3"
  },
  "language_info": {
   "codemirror_mode": {
    "name": "ipython",
    "version": 3
   },
   "file_extension": ".py",
   "mimetype": "text/x-python",
   "name": "python",
   "nbconvert_exporter": "python",
   "pygments_lexer": "ipython3",
   "version": "3.9.7"
  }
 },
 "nbformat": 4,
 "nbformat_minor": 5
}
