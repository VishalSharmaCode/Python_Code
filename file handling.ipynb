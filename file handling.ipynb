{
 "cells": [
  {
   "cell_type": "code",
   "execution_count": 6,
   "id": "a8dd6b99",
   "metadata": {},
   "outputs": [
    {
     "name": "stdout",
     "output_type": "stream",
     "text": [
      "i am vishal sharma\n",
      "\n"
     ]
    }
   ],
   "source": [
    "f = open(\"D:\\ppt.txt\")\n",
    "print(f.read())"
   ]
  },
  {
   "cell_type": "code",
   "execution_count": 7,
   "id": "77726cc7",
   "metadata": {},
   "outputs": [
    {
     "name": "stdout",
     "output_type": "stream",
     "text": [
      "i am vishal sharma, Now the file has more content!\n"
     ]
    }
   ],
   "source": [
    "f = open(\"D:\\ppt2.txt\", \"a\")\n",
    "f.write(\", Now the file has more content!\")\n",
    "f.close()\n",
    "f = open(\"D:\\ppt2.txt\", \"r\")\n",
    "print(f.read())"
   ]
  },
  {
   "cell_type": "code",
   "execution_count": 8,
   "id": "421fb9cd",
   "metadata": {},
   "outputs": [
    {
     "name": "stdout",
     "output_type": "stream",
     "text": [
      "i am vishal sharma, Now the file has more content!, Now the file has more content!\n"
     ]
    }
   ],
   "source": [
    "f = open(\"D:\\ppt2.txt\", \"a\")\n",
    "f.write(\", Now the file has more content!\")\n",
    "f.close()\n",
    "f = open(\"D:\\ppt2.txt\", \"r\")\n",
    "print(f.read())"
   ]
  },
  {
   "cell_type": "code",
   "execution_count": 9,
   "id": "3f1d2d8a",
   "metadata": {},
   "outputs": [
    {
     "name": "stdout",
     "output_type": "stream",
     "text": [
      "i am vishal sharma, Now the file has more content!, Now the file has more content!, Now the file has more content!, Now the file has more content!\n"
     ]
    }
   ],
   "source": [
    "f = open(\"D:\\ppt2.txt\", \"a\") \n",
    "f.write(\", Now the file has more content!\")\n",
    "f.close()\n",
    "f = open(\"D:\\ppt2.txt\", \"r\")\n",
    "print(f.read())"
   ]
  },
  {
   "cell_type": "code",
   "execution_count": 11,
   "id": "64d13850",
   "metadata": {},
   "outputs": [],
   "source": [
    "with open(\"D:\\ppt2.txt\",'r') as firstfile, open (\"D:\\ppt.txt\",'a') as secondfile:\n",
    "    for line in firstfile:\n",
    "        secondfile.write(line)"
   ]
  },
  {
   "cell_type": "code",
   "execution_count": 13,
   "id": "4c891e23",
   "metadata": {},
   "outputs": [],
   "source": [
    "\n",
    "#open a file in write mode\n",
    "file_object = open(\"D:\\sample.txt\", \"w\") \n",
    "\n",
    "#write data to the file\n",
    "file_object.write(\"This is a sample file created using Python.\") \n",
    "\n",
    "#close the file\n",
    "file_object.close()"
   ]
  },
  {
   "cell_type": "code",
   "execution_count": 2,
   "id": "e13a0ec6",
   "metadata": {},
   "outputs": [
    {
     "ename": "FileNotFoundError",
     "evalue": "[Errno 2] No such file or directory: 'D:\\\\samplee.txt'",
     "output_type": "error",
     "traceback": [
      "\u001b[1;31m---------------------------------------------------------------------------\u001b[0m",
      "\u001b[1;31mFileNotFoundError\u001b[0m                         Traceback (most recent call last)",
      "\u001b[1;32m~\\AppData\\Local\\Temp/ipykernel_9504/4220842858.py\u001b[0m in \u001b[0;36m<module>\u001b[1;34m\u001b[0m\n\u001b[1;32m----> 1\u001b[1;33m \u001b[0mfile\u001b[0m \u001b[1;33m=\u001b[0m \u001b[0mopen\u001b[0m\u001b[1;33m(\u001b[0m\u001b[1;34m\"D:\\samplee.txt\"\u001b[0m\u001b[1;33m)\u001b[0m\u001b[1;33m\u001b[0m\u001b[1;33m\u001b[0m\u001b[0m\n\u001b[0m\u001b[0;32m      2\u001b[0m \u001b[0mx\u001b[0m\u001b[1;33m=\u001b[0m\u001b[1;33m(\u001b[0m\u001b[0mfile\u001b[0m\u001b[1;33m.\u001b[0m\u001b[0mread\u001b[0m\u001b[1;33m(\u001b[0m\u001b[1;33m)\u001b[0m\u001b[1;33m)\u001b[0m\u001b[1;33m\u001b[0m\u001b[1;33m\u001b[0m\u001b[0m\n\u001b[0;32m      3\u001b[0m \u001b[1;32mif\u001b[0m \u001b[0mfile\u001b[0m\u001b[1;33m==\u001b[0m\u001b[1;34m\"No such file or directory: 'D:\\\\samplee.txt'\"\u001b[0m\u001b[1;33m:\u001b[0m\u001b[1;33m\u001b[0m\u001b[1;33m\u001b[0m\u001b[0m\n\u001b[0;32m      4\u001b[0m     \u001b[0mprint\u001b[0m\u001b[1;33m(\u001b[0m\u001b[1;34m\"hello\"\u001b[0m\u001b[1;33m)\u001b[0m\u001b[1;33m\u001b[0m\u001b[1;33m\u001b[0m\u001b[0m\n",
      "\u001b[1;31mFileNotFoundError\u001b[0m: [Errno 2] No such file or directory: 'D:\\\\samplee.txt'"
     ]
    }
   ],
   "source": [
    "file = open(\"D:\\samplee.txt\")\n",
    "x=(file.read())\n",
    "if file==\"No such file or directory: 'D:\\\\samplee.txt'\":\n",
    "    print(\"hello\")\n"
   ]
  },
  {
   "cell_type": "code",
   "execution_count": 15,
   "id": "cd66ca0a",
   "metadata": {},
   "outputs": [
    {
     "name": "stdout",
     "output_type": "stream",
     "text": [
      "hello vishal sharma ji\n",
      "i think that i can do everything.\n",
      "So i come to meet you\n",
      "so plse say me yes or no\n"
     ]
    }
   ],
   "source": [
    "file =open(\"D:\\sample.txt\")\n",
    "print(file.read())"
   ]
  },
  {
   "cell_type": "code",
   "execution_count": 17,
   "id": "a313ffa9",
   "metadata": {},
   "outputs": [
    {
     "name": "stdout",
     "output_type": "stream",
     "text": [
      "hello vishal sharma ji\n",
      "\n",
      "i think that i can do everything.\n",
      "\n",
      "So i come to meet you\n",
      "\n",
      "so plse say me yes or no\n"
     ]
    }
   ],
   "source": [
    "file= open(\"D:\\sample.txt\", \"r\")\n",
    "for each in file:\n",
    "    print(each)"
   ]
  },
  {
   "cell_type": "code",
   "execution_count": 18,
   "id": "b59aa0cd",
   "metadata": {},
   "outputs": [
    {
     "name": "stdout",
     "output_type": "stream",
     "text": [
      "hello vishal sharma ji\n",
      "i think that i can do everything.\n",
      "So i come to meet you\n",
      "so plse say me yes or no\n"
     ]
    }
   ],
   "source": [
    "with open(\"D:\\sample.txt\") as file:\n",
    "    data=file.read()\n",
    "    print(data)"
   ]
  },
  {
   "cell_type": "code",
   "execution_count": 25,
   "id": "f8458014",
   "metadata": {},
   "outputs": [
    {
     "name": "stdout",
     "output_type": "stream",
     "text": [
      "hello vishal sh\n"
     ]
    }
   ],
   "source": [
    "file=open(\"D:\\sample.txt\")\n",
    "print(file.read(15))"
   ]
  },
  {
   "cell_type": "code",
   "execution_count": 2,
   "id": "ecaaa01d",
   "metadata": {},
   "outputs": [
    {
     "name": "stdout",
     "output_type": "stream",
     "text": [
      "name,rol\n"
     ]
    }
   ],
   "source": [
    "file =open(\"D:\\write.csv\")\n",
    "print(file.read(8))"
   ]
  },
  {
   "cell_type": "code",
   "execution_count": 31,
   "id": "831c4c35",
   "metadata": {},
   "outputs": [
    {
     "data": {
      "text/plain": [
       "<_io.TextIOWrapper name='D:\\\\write.csv' mode='r' encoding='cp1252'>"
      ]
     },
     "execution_count": 31,
     "metadata": {},
     "output_type": "execute_result"
    }
   ],
   "source": [
    "file=open()"
   ]
  },
  {
   "cell_type": "code",
   "execution_count": 3,
   "id": "94fe3b2b",
   "metadata": {},
   "outputs": [],
   "source": [
    "file = open(\"D:\\sample.txt\",\"a\")\n",
    "file.write(\" My name is pandit vishal sharma and i can do every thing \")\n",
    "file.close()"
   ]
  },
  {
   "cell_type": "code",
   "execution_count": 4,
   "id": "e844cff2",
   "metadata": {},
   "outputs": [
    {
     "name": "stdout",
     "output_type": "stream",
     "text": [
      "hello vishal sharma ji\n",
      "i think that i can do everything.\n",
      "So i come to meet you\n",
      "so plse say me yes or noMy name is pandit vishal sharma and i can do every thingMy name is pandit vishal sharma and i can do every thingMy name is pandit vishal sharma and i can do every thingMy name is pandit vishal sharma and i can do every thingMy name is pandit vishal sharma and i can do every thingMy name is pandit vishal sharma and i can do every thing  My name is pandit vishal sharma and i can do every thing  My name is pandit vishal sharma and i can do every thing  My name is pandit vishal sharma and i can do every thing \n"
     ]
    }
   ],
   "source": [
    "file=open(\"D:\\sample.txt\")\n",
    "print(file.read())"
   ]
  },
  {
   "cell_type": "code",
   "execution_count": 24,
   "id": "b22486e1",
   "metadata": {},
   "outputs": [],
   "source": [
    "file = open('myfile.txt', 'w')\n",
    "file.close()"
   ]
  },
  {
   "cell_type": "code",
   "execution_count": 32,
   "id": "f0f69292",
   "metadata": {},
   "outputs": [],
   "source": [
    "file = open('myfile.txt','a')\n",
    "file.write(\" i am vishal\")\n",
    "file.close()"
   ]
  },
  {
   "cell_type": "code",
   "execution_count": 34,
   "id": "dc2ce72a",
   "metadata": {},
   "outputs": [
    {
     "name": "stdout",
     "output_type": "stream",
     "text": [
      "i am vishali am vishal i am vishal i am vishal\n"
     ]
    }
   ],
   "source": [
    "file = open('myfile.txt')\n",
    "print(file.read())"
   ]
  },
  {
   "cell_type": "code",
   "execution_count": null,
   "id": "e911f90a",
   "metadata": {},
   "outputs": [],
   "source": []
  }
 ],
 "metadata": {
  "kernelspec": {
   "display_name": "Python 3 (ipykernel)",
   "language": "python",
   "name": "python3"
  },
  "language_info": {
   "codemirror_mode": {
    "name": "ipython",
    "version": 3
   },
   "file_extension": ".py",
   "mimetype": "text/x-python",
   "name": "python",
   "nbconvert_exporter": "python",
   "pygments_lexer": "ipython3",
   "version": "3.9.7"
  }
 },
 "nbformat": 4,
 "nbformat_minor": 5
}
