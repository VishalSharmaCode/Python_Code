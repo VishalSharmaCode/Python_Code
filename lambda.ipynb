{
 "cells": [
  {
   "cell_type": "code",
   "execution_count": 2,
   "id": "c9fcd7a2",
   "metadata": {},
   "outputs": [
    {
     "data": {
      "text/plain": [
       "210"
      ]
     },
     "execution_count": 2,
     "metadata": {},
     "output_type": "execute_result"
    }
   ],
   "source": [
    "from functools import*\n",
    "l1=[10,20,30,40,50,60]\n",
    "ps=reduce(lambda x,y:x+y, l1)\n",
    "ps"
   ]
  },
  {
   "cell_type": "code",
   "execution_count": 3,
   "id": "0de6922f",
   "metadata": {},
   "outputs": [
    {
     "data": {
      "text/plain": [
       "210"
      ]
     },
     "execution_count": 3,
     "metadata": {},
     "output_type": "execute_result"
    }
   ],
   "source": [
    "ps"
   ]
  },
  {
   "cell_type": "code",
   "execution_count": 5,
   "id": "672cf9ef",
   "metadata": {},
   "outputs": [
    {
     "data": {
      "text/plain": [
       "[10, 20, 30, 40, 50, 60]"
      ]
     },
     "execution_count": 5,
     "metadata": {},
     "output_type": "execute_result"
    }
   ],
   "source": [
    "l1"
   ]
  },
  {
   "cell_type": "code",
   "execution_count": 8,
   "id": "6a0bbdb4",
   "metadata": {},
   "outputs": [
    {
     "name": "stdout",
     "output_type": "stream",
     "text": [
      "2274666821232\n",
      "2274666821232\n",
      "ram ram : khanna Sir\n",
      "ram ram : Ishant Sir\n"
     ]
    }
   ],
   "source": [
    "\n",
    "def wish(name):\n",
    "    print(\"ram ram :\",name)\n",
    "ram=wish\n",
    "print(id(wish))\n",
    "print(id(ram))\n",
    "wish(\"khanna Sir\")\n",
    "ram('Ishant Sir')\n",
    "    "
   ]
  },
  {
   "cell_type": "code",
   "execution_count": null,
   "id": "fc30c7e2",
   "metadata": {},
   "outputs": [],
   "source": []
  }
 ],
 "metadata": {
  "kernelspec": {
   "display_name": "Python 3 (ipykernel)",
   "language": "python",
   "name": "python3"
  },
  "language_info": {
   "codemirror_mode": {
    "name": "ipython",
    "version": 3
   },
   "file_extension": ".py",
   "mimetype": "text/x-python",
   "name": "python",
   "nbconvert_exporter": "python",
   "pygments_lexer": "ipython3",
   "version": "3.9.7"
  }
 },
 "nbformat": 4,
 "nbformat_minor": 5
}
