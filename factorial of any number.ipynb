{
 "cells": [
  {
   "cell_type": "code",
   "execution_count": 1,
   "id": "800add85",
   "metadata": {},
   "outputs": [
    {
     "name": "stdout",
     "output_type": "stream",
     "text": [
      "Factorial of :4\n",
      "4\n",
      "12\n",
      "24\n"
     ]
    }
   ],
   "source": [
    "num=int(input(\"Factorial of :\"))\n",
    "fact=1\n",
    "while num>1:\n",
    "    fact=fact*num\n",
    "    num-=1\n",
    "    print(fact)\n",
    "    "
   ]
  }
 ],
 "metadata": {
  "kernelspec": {
   "display_name": "Python 3 (ipykernel)",
   "language": "python",
   "name": "python3"
  },
  "language_info": {
   "codemirror_mode": {
    "name": "ipython",
    "version": 3
   },
   "file_extension": ".py",
   "mimetype": "text/x-python",
   "name": "python",
   "nbconvert_exporter": "python",
   "pygments_lexer": "ipython3",
   "version": "3.9.7"
  }
 },
 "nbformat": 4,
 "nbformat_minor": 5
}
