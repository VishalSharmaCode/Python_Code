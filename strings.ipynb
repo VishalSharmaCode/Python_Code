{
 "cells": [
  {
   "cell_type": "code",
   "execution_count": 5,
   "id": "d098c515",
   "metadata": {},
   "outputs": [
    {
     "data": {
      "text/plain": [
       "6"
      ]
     },
     "execution_count": 5,
     "metadata": {},
     "output_type": "execute_result"
    }
   ],
   "source": [
    "p=\"vishal\"\n",
    "len(p)"
   ]
  },
  {
   "cell_type": "code",
   "execution_count": 7,
   "id": "cf7cf83f",
   "metadata": {},
   "outputs": [
    {
     "data": {
      "text/plain": [
       "'a'"
      ]
     },
     "execution_count": 7,
     "metadata": {},
     "output_type": "execute_result"
    }
   ],
   "source": [
    "min(p)"
   ]
  },
  {
   "cell_type": "code",
   "execution_count": 9,
   "id": "f0647c8a",
   "metadata": {},
   "outputs": [
    {
     "data": {
      "text/plain": [
       "'h'"
      ]
     },
     "execution_count": 9,
     "metadata": {},
     "output_type": "execute_result"
    }
   ],
   "source": [
    "p[3]"
   ]
  },
  {
   "cell_type": "code",
   "execution_count": 11,
   "id": "185a9db9",
   "metadata": {},
   "outputs": [
    {
     "data": {
      "text/plain": [
       "'v'"
      ]
     },
     "execution_count": 11,
     "metadata": {},
     "output_type": "execute_result"
    }
   ],
   "source": [
    "p[0]"
   ]
  },
  {
   "cell_type": "code",
   "execution_count": 13,
   "id": "669f0109",
   "metadata": {},
   "outputs": [
    {
     "data": {
      "text/plain": [
       "'l'"
      ]
     },
     "execution_count": 13,
     "metadata": {},
     "output_type": "execute_result"
    }
   ],
   "source": [
    "p[-1]"
   ]
  },
  {
   "cell_type": "code",
   "execution_count": 15,
   "id": "42a62adb",
   "metadata": {},
   "outputs": [
    {
     "data": {
      "text/plain": [
       "'h'"
      ]
     },
     "execution_count": 15,
     "metadata": {},
     "output_type": "execute_result"
    }
   ],
   "source": [
    "p[-3]"
   ]
  },
  {
   "cell_type": "code",
   "execution_count": 34,
   "id": "1d657594",
   "metadata": {},
   "outputs": [
    {
     "name": "stdout",
     "output_type": "stream",
     "text": [
      "India"
     ]
    }
   ],
   "source": [
    "S=\"India\"\n",
    "for ch in S:\n",
    "    print(ch,end=\"\")"
   ]
  },
  {
   "cell_type": "code",
   "execution_count": 37,
   "id": "4b4238c1",
   "metadata": {},
   "outputs": [
    {
     "name": "stdout",
     "output_type": "stream",
     "text": [
      "I O E Y H N R G R M "
     ]
    }
   ],
   "source": [
    "s=\"ILOVEPYTHONPROGRRAM\"\n",
    "for ch in range(0, len(s), 2):\n",
    "    print(s[ch], end=\" \")"
   ]
  },
  {
   "cell_type": "code",
   "execution_count": 38,
   "id": "a6710e53",
   "metadata": {},
   "outputs": [
    {
     "name": "stdout",
     "output_type": "stream",
     "text": [
      "India"
     ]
    }
   ],
   "source": [
    "s=\"India\"\n",
    "count=0\n",
    "while count<len(s):\n",
    "    print(s[count], end=\"\")\n",
    "    count+=1"
   ]
  },
  {
   "cell_type": "code",
   "execution_count": 1,
   "id": "39829ee1",
   "metadata": {},
   "outputs": [
    {
     "ename": "TypeError",
     "evalue": "'str' object does not support item assignment",
     "output_type": "error",
     "traceback": [
      "\u001b[1;31m---------------------------------------------------------------------------\u001b[0m",
      "\u001b[1;31mTypeError\u001b[0m                                 Traceback (most recent call last)",
      "\u001b[1;32m~\\AppData\\Local\\Temp/ipykernel_22312/3843196072.py\u001b[0m in \u001b[0;36m<module>\u001b[1;34m\u001b[0m\n\u001b[0;32m      1\u001b[0m \u001b[1;31m#mutable and immutable(IMPORTANT),STRINGS ARE IMMUTABLE\u001b[0m\u001b[1;33m\u001b[0m\u001b[1;33m\u001b[0m\u001b[0m\n\u001b[0;32m      2\u001b[0m \u001b[0mstr\u001b[0m\u001b[1;33m=\u001b[0m\u001b[1;34m\"I love python\"\u001b[0m\u001b[1;33m\u001b[0m\u001b[1;33m\u001b[0m\u001b[0m\n\u001b[1;32m----> 3\u001b[1;33m \u001b[0mstr\u001b[0m\u001b[1;33m[\u001b[0m\u001b[1;36m1\u001b[0m\u001b[1;33m]\u001b[0m\u001b[1;33m=\u001b[0m\u001b[1;34m\"U\"\u001b[0m\u001b[1;33m\u001b[0m\u001b[1;33m\u001b[0m\u001b[0m\n\u001b[0m\u001b[0;32m      4\u001b[0m \u001b[0mprint\u001b[0m\u001b[1;33m(\u001b[0m\u001b[0mstr\u001b[0m\u001b[1;33m)\u001b[0m\u001b[1;33m\u001b[0m\u001b[1;33m\u001b[0m\u001b[0m\n",
      "\u001b[1;31mTypeError\u001b[0m: 'str' object does not support item assignment"
     ]
    }
   ],
   "source": [
    "#mutable and immutable(IMPORTANT),STRINGS ARE IMMUTABLE\n",
    "str=\"I love python\"\n",
    "str[1]=\"U\"\n",
    "print(str)"
   ]
  },
  {
   "cell_type": "code",
   "execution_count": 46,
   "id": "f309fb2c",
   "metadata": {},
   "outputs": [
    {
     "name": "stdout",
     "output_type": "stream",
     "text": [
      "U love python\n"
     ]
    }
   ],
   "source": [
    "str=\"I love python\"\n",
    "str1=\"U\"+str[1:]\n",
    "print(str1)"
   ]
  },
  {
   "cell_type": "code",
   "execution_count": 48,
   "id": "6c1c3d3b",
   "metadata": {},
   "outputs": [
    {
     "data": {
      "text/plain": [
       "'it-vis'"
      ]
     },
     "execution_count": 48,
     "metadata": {},
     "output_type": "execute_result"
    }
   ],
   "source": [
    "S=\"pandit-vishal\"\n",
    "S[4:10]\n"
   ]
  },
  {
   "cell_type": "code",
   "execution_count": 50,
   "id": "a4f3c40d",
   "metadata": {},
   "outputs": [
    {
     "data": {
      "text/plain": [
       "'pni-ihl'"
      ]
     },
     "execution_count": 50,
     "metadata": {},
     "output_type": "execute_result"
    }
   ],
   "source": [
    "S=\"pandit-vishal\"\n",
    "S[0:len(S):2]"
   ]
  },
  {
   "cell_type": "code",
   "execution_count": 52,
   "id": "09e38969",
   "metadata": {},
   "outputs": [
    {
     "data": {
      "text/plain": [
       "'pandit-vishal'"
      ]
     },
     "execution_count": 52,
     "metadata": {},
     "output_type": "execute_result"
    }
   ],
   "source": [
    "S=\"pandit-vishal\"\n",
    "S[::]"
   ]
  },
  {
   "cell_type": "code",
   "execution_count": 54,
   "id": "4eb94e09",
   "metadata": {},
   "outputs": [
    {
     "data": {
      "text/plain": [
       "'lahsiv-tidnap'"
      ]
     },
     "execution_count": 54,
     "metadata": {},
     "output_type": "execute_result"
    }
   ],
   "source": [
    "S[::-1]"
   ]
  },
  {
   "cell_type": "code",
   "execution_count": 25,
   "id": "832b458d",
   "metadata": {},
   "outputs": [
    {
     "data": {
      "text/plain": [
       "'pandit-visha'"
      ]
     },
     "execution_count": 25,
     "metadata": {},
     "output_type": "execute_result"
    }
   ],
   "source": [
    "S=\"pandit-vishal\"\n",
    "S[0:-1]"
   ]
  },
  {
   "cell_type": "code",
   "execution_count": 66,
   "id": "f3012b30",
   "metadata": {},
   "outputs": [
    {
     "data": {
      "text/plain": [
       "'pandit-visha'"
      ]
     },
     "execution_count": 66,
     "metadata": {},
     "output_type": "execute_result"
    }
   ],
   "source": [
    "S[:-1]"
   ]
  },
  {
   "cell_type": "code",
   "execution_count": 71,
   "id": "1a7dfcdc",
   "metadata": {},
   "outputs": [
    {
     "data": {
      "text/plain": [
       "' Pandit, Pandit, Pandit, Pandit, Pandit, Pandit,'"
      ]
     },
     "execution_count": 71,
     "metadata": {},
     "output_type": "execute_result"
    }
   ],
   "source": [
    "S1=\" Pandit,\"\n",
    "S2=6*S1\n",
    "S2"
   ]
  },
  {
   "cell_type": "code",
   "execution_count": 72,
   "id": "86586989",
   "metadata": {},
   "outputs": [
    {
     "data": {
      "text/plain": [
       "False"
      ]
     },
     "execution_count": 72,
     "metadata": {},
     "output_type": "execute_result"
    }
   ],
   "source": [
    "S1=\"Information Technology\"\n",
    "\"pandit\" in S1\n"
   ]
  },
  {
   "cell_type": "code",
   "execution_count": 74,
   "id": "e548ebf6",
   "metadata": {},
   "outputs": [
    {
     "data": {
      "text/plain": [
       "True"
      ]
     },
     "execution_count": 74,
     "metadata": {},
     "output_type": "execute_result"
    }
   ],
   "source": [
    "\"hallo\" not in S1"
   ]
  },
  {
   "cell_type": "code",
   "execution_count": 83,
   "id": "826486fc",
   "metadata": {},
   "outputs": [
    {
     "name": "stdout",
     "output_type": "stream",
     "text": [
      "ar"
     ]
    }
   ],
   "source": [
    "S1=\"Sharma\"\n",
    "S2=\"ar\"\n",
    "for ch in S2:\n",
    "    if ch in S1:\n",
    "        print(ch,end=\"\")\n",
    "    \n",
    "    \n",
    "        "
   ]
  },
  {
   "cell_type": "code",
   "execution_count": 85,
   "id": "65732c39",
   "metadata": {},
   "outputs": [
    {
     "data": {
      "text/plain": [
       "True"
      ]
     },
     "execution_count": 85,
     "metadata": {},
     "output_type": "execute_result"
    }
   ],
   "source": [
    "S=\"hallo\"\n",
    "S.islower()"
   ]
  },
  {
   "cell_type": "code",
   "execution_count": 87,
   "id": "a742d727",
   "metadata": {},
   "outputs": [
    {
     "data": {
      "text/plain": [
       "True"
      ]
     },
     "execution_count": 87,
     "metadata": {},
     "output_type": "execute_result"
    }
   ],
   "source": [
    "s1=\"AAb\"\n",
    "s2=\"AAA\"\n",
    "s1>s2"
   ]
  },
  {
   "cell_type": "code",
   "execution_count": 89,
   "id": "31b4d661",
   "metadata": {},
   "outputs": [
    {
     "data": {
      "text/plain": [
       "True"
      ]
     },
     "execution_count": 89,
     "metadata": {},
     "output_type": "execute_result"
    }
   ],
   "source": [
    "s=\"sjsjsu\"\n",
    "s.isalpha()"
   ]
  },
  {
   "cell_type": "code",
   "execution_count": 91,
   "id": "bcc4e74d",
   "metadata": {},
   "outputs": [
    {
     "data": {
      "text/plain": [
       "True"
      ]
     },
     "execution_count": 91,
     "metadata": {},
     "output_type": "execute_result"
    }
   ],
   "source": [
    "s=\"123\"\n",
    "s.isdigit()"
   ]
  },
  {
   "cell_type": "code",
   "execution_count": 94,
   "id": "41fdffbd",
   "metadata": {},
   "outputs": [
    {
     "data": {
      "text/plain": [
       "True"
      ]
     },
     "execution_count": 94,
     "metadata": {},
     "output_type": "execute_result"
    }
   ],
   "source": [
    "s=\"python programming\"\n",
    "s.startswith(\"python\")"
   ]
  },
  {
   "cell_type": "code",
   "execution_count": 95,
   "id": "4225e25d",
   "metadata": {},
   "outputs": [
    {
     "data": {
      "text/plain": [
       "3"
      ]
     },
     "execution_count": 95,
     "metadata": {},
     "output_type": "execute_result"
    }
   ],
   "source": [
    "s=\"kdiejdjfu\"\n",
    "s.find(\"e\")"
   ]
  },
  {
   "cell_type": "code",
   "execution_count": 98,
   "id": "a4c778a5",
   "metadata": {},
   "outputs": [
    {
     "data": {
      "text/plain": [
       "-1"
      ]
     },
     "execution_count": 98,
     "metadata": {},
     "output_type": "execute_result"
    }
   ],
   "source": [
    "s=\"kdiejdjfu\"\n",
    "s.find(\"z\")"
   ]
  },
  {
   "cell_type": "code",
   "execution_count": 99,
   "id": "6b697e65",
   "metadata": {},
   "outputs": [
    {
     "data": {
      "text/plain": [
       "6"
      ]
     },
     "execution_count": 99,
     "metadata": {},
     "output_type": "execute_result"
    }
   ],
   "source": [
    "s=\"kdiejdjfu\"\n",
    "s.rfind(\"j\")"
   ]
  },
  {
   "cell_type": "code",
   "execution_count": 101,
   "id": "8c0fb080",
   "metadata": {},
   "outputs": [
    {
     "data": {
      "text/plain": [
       "2"
      ]
     },
     "execution_count": 101,
     "metadata": {},
     "output_type": "execute_result"
    }
   ],
   "source": [
    "s=\"kdiejdjfu\"\n",
    "s.count(\"j\")"
   ]
  },
  {
   "cell_type": "code",
   "execution_count": 103,
   "id": "8b6a1c81",
   "metadata": {},
   "outputs": [
    {
     "data": {
      "text/plain": [
       "'Pandit Vishal Sharma'"
      ]
     },
     "execution_count": 103,
     "metadata": {},
     "output_type": "execute_result"
    }
   ],
   "source": [
    "s=\"pandit vishal sharma\"\n",
    "s.title()"
   ]
  },
  {
   "cell_type": "code",
   "execution_count": 6,
   "id": "a3fa0738",
   "metadata": {},
   "outputs": [
    {
     "data": {
      "text/plain": [
       "'PANDIT VISHAL SHARMA'"
      ]
     },
     "execution_count": 6,
     "metadata": {},
     "output_type": "execute_result"
    }
   ],
   "source": [
    "s=\"pandit vishal sharma\"\n",
    "\n",
    "s.upper()"
   ]
  },
  {
   "cell_type": "code",
   "execution_count": 107,
   "id": "9e07362e",
   "metadata": {},
   "outputs": [
    {
     "data": {
      "text/plain": [
       "'Pandit vishal sharma'"
      ]
     },
     "execution_count": 107,
     "metadata": {},
     "output_type": "execute_result"
    }
   ],
   "source": [
    "s=\"pandit vishal sharma\"\n",
    "s.capitalize()"
   ]
  },
  {
   "cell_type": "code",
   "execution_count": 110,
   "id": "ca9c7d3e",
   "metadata": {},
   "outputs": [
    {
     "data": {
      "text/plain": [
       "'pANDIT VISHAL SHARMA'"
      ]
     },
     "execution_count": 110,
     "metadata": {},
     "output_type": "execute_result"
    }
   ],
   "source": [
    "s=\"Pandit vishal sharma\"\n",
    "s.swapcase()"
   ]
  },
  {
   "cell_type": "code",
   "execution_count": 2,
   "id": "989ef7e6",
   "metadata": {},
   "outputs": [
    {
     "data": {
      "text/plain": [
       "'I have brought three choclate, three cookeis and three cakes'"
      ]
     },
     "execution_count": 2,
     "metadata": {},
     "output_type": "execute_result"
    }
   ],
   "source": [
    "s=\"I have brought two choclate, two cookeis and two cakes\"\n",
    "s1=s.replace('two',\"three\")\n",
    "s1\n"
   ]
  },
  {
   "cell_type": "code",
   "execution_count": 114,
   "id": "1129d325",
   "metadata": {},
   "outputs": [
    {
     "data": {
      "text/plain": [
       "'I have brought three choclate, three cookeis and two cakes'"
      ]
     },
     "execution_count": 114,
     "metadata": {},
     "output_type": "execute_result"
    }
   ],
   "source": [
    "s=\"I have brought two choclate, two cookeis and two cakes\"\n",
    "s1=s.replace('two',\"three\",2)\n",
    "s1"
   ]
  },
  {
   "cell_type": "code",
   "execution_count": 2,
   "id": "f4e61dfc",
   "metadata": {},
   "outputs": [
    {
     "name": "stdout",
     "output_type": "stream",
     "text": [
      "<function function at 0x00000220E47C33A0>\n"
     ]
    }
   ],
   "source": [
    "def function():\n",
    "    string=input(\"give a string\")\n",
    "    string[::-1]\n",
    "print(function)    "
   ]
  },
  {
   "cell_type": "code",
   "execution_count": 4,
   "id": "60766c7a",
   "metadata": {},
   "outputs": [
    {
     "name": "stdout",
     "output_type": "stream",
     "text": [
      "False\n"
     ]
    }
   ],
   "source": [
    "def fff(word1,word2):\n",
    "    temp=word2[::-1]\n",
    "    if word1==temp:\n",
    "        return True\n",
    "    else:\n",
    "        return False\n",
    "print(fff(\"sharma\",\"sharma\"))"
   ]
  },
  {
   "cell_type": "code",
   "execution_count": 1,
   "id": "baa4735c",
   "metadata": {},
   "outputs": [
    {
     "name": "stdout",
     "output_type": "stream",
     "text": [
      "Give a Word::  pandit\n",
      "Give second Word::  tidnap\n",
      "true\n",
      "None\n"
     ]
    }
   ],
   "source": [
    "#revrse\n",
    "def reverse():\n",
    "    str1= input(\"Give a Word::  \")\n",
    "    str2= input(\"Give second Word::  \")\n",
    "    if str1[::-1]==str2:\n",
    "        print(\"true\")\n",
    "    else:\n",
    "            print(\"False\")\n",
    "    \n",
    "print (reverse())"
   ]
  },
  {
   "cell_type": "code",
   "execution_count": 1,
   "id": "813d0628",
   "metadata": {},
   "outputs": [
    {
     "name": "stdout",
     "output_type": "stream",
     "text": [
      "pandit vishal sharma\n"
     ]
    }
   ],
   "source": [
    "string=\"pandit vishal sharma\"\n",
    "print(string)"
   ]
  },
  {
   "cell_type": "code",
   "execution_count": 3,
   "id": "84c1bd42",
   "metadata": {},
   "outputs": [
    {
     "data": {
      "text/plain": [
       "' Pandit, Pandit, Pandit, Pandit, Pandit, Pandit, Pandit,'"
      ]
     },
     "execution_count": 3,
     "metadata": {},
     "output_type": "execute_result"
    }
   ],
   "source": [
    "S1=\" Pandit,\"\n",
    "S2=6*S1\n",
    "S3=S2+S1\n",
    "S3"
   ]
  },
  {
   "cell_type": "code",
   "execution_count": 4,
   "id": "c4b84ea4",
   "metadata": {},
   "outputs": [
    {
     "data": {
      "text/plain": [
       "'pandit vishal sharma'"
      ]
     },
     "execution_count": 4,
     "metadata": {},
     "output_type": "execute_result"
    }
   ],
   "source": [
    "s1=\"pandit \"\n",
    "s2=\"vishal \"\n",
    "s3=\"sharma\"\n",
    "s4=s1+s2+s3\n",
    "s4"
   ]
  },
  {
   "cell_type": "code",
   "execution_count": null,
   "id": "13882bbc",
   "metadata": {},
   "outputs": [],
   "source": [
    "str1= input(\"Give a Word::  \")\n",
    "str2= input(\"Give second Word::  \")\n",
    "if str1[::-1]==str2:\n",
    "    print(\"true\")\n",
    "else:\n",
    "    print(\"False\")"
   ]
  }
 ],
 "metadata": {
  "kernelspec": {
   "display_name": "Python 3 (ipykernel)",
   "language": "python",
   "name": "python3"
  },
  "language_info": {
   "codemirror_mode": {
    "name": "ipython",
    "version": 3
   },
   "file_extension": ".py",
   "mimetype": "text/x-python",
   "name": "python",
   "nbconvert_exporter": "python",
   "pygments_lexer": "ipython3",
   "version": "3.9.7"
  }
 },
 "nbformat": 4,
 "nbformat_minor": 5
}
