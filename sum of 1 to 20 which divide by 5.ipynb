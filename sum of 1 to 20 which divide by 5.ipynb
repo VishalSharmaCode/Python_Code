{
 "cells": [
  {
   "cell_type": "code",
   "execution_count": 1,
   "id": "9a5d326a",
   "metadata": {},
   "outputs": [
    {
     "name": "stdout",
     "output_type": "stream",
     "text": [
      "enter any number3\n"
     ]
    }
   ],
   "source": [
    "num=int(input(\"enter any number\"))\n",
    "sum=0\n",
    "for i in range(1,num+1):\n",
    "    c=i%5\n",
    "    if c==0:\n",
    "        sum=sum+i\n",
    "        print(sum)   \n",
    "\n",
    "    "
   ]
  },
  {
   "cell_type": "code",
   "execution_count": 2,
   "id": "6a1f1f39",
   "metadata": {},
   "outputs": [
    {
     "name": "stdout",
     "output_type": "stream",
     "text": [
      "50\n"
     ]
    }
   ],
   "source": [
    "sum1=0\n",
    "for i in range(1,21):\n",
    "    if(i%5==0):\n",
    "        sum1=sum1+i\n",
    "print(sum1)\n",
    "        "
   ]
  },
  {
   "cell_type": "code",
   "execution_count": null,
   "id": "11cb2914",
   "metadata": {},
   "outputs": [],
   "source": []
  }
 ],
 "metadata": {
  "kernelspec": {
   "display_name": "Python 3 (ipykernel)",
   "language": "python",
   "name": "python3"
  },
  "language_info": {
   "codemirror_mode": {
    "name": "ipython",
    "version": 3
   },
   "file_extension": ".py",
   "mimetype": "text/x-python",
   "name": "python",
   "nbconvert_exporter": "python",
   "pygments_lexer": "ipython3",
   "version": "3.9.7"
  }
 },
 "nbformat": 4,
 "nbformat_minor": 5
}
