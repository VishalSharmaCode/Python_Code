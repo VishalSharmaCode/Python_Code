{
 "cells": [
  {
   "cell_type": "code",
   "execution_count": 13,
   "id": "59b2782b",
   "metadata": {},
   "outputs": [
    {
     "name": "stdout",
     "output_type": "stream",
     "text": [
      "give a stringbbbb\n",
      "4\n"
     ]
    }
   ],
   "source": [
    "def function():\n",
    "    string=input(\"give a string\")\n",
    "    function1=0\n",
    "    for ch in string:\n",
    "        if \"b\" in ch :\n",
    "            function1+=1\n",
    "    print(function1)\n",
    "function()"
   ]
  },
  {
   "cell_type": "code",
   "execution_count": 2,
   "id": "b888d2ae",
   "metadata": {},
   "outputs": [
    {
     "name": "stdout",
     "output_type": "stream",
     "text": [
      "28.259999999999998\n"
     ]
    }
   ],
   "source": [
    "\n",
    "def circle(radius):\n",
    "    area=3.14*radius*radius\n",
    "    return area\n",
    "\n",
    "print(circle(3))"
   ]
  },
  {
   "cell_type": "code",
   "execution_count": 9,
   "id": "2b4fc9cb",
   "metadata": {},
   "outputs": [
    {
     "ename": "IndentationError",
     "evalue": "unexpected indent (Temp/ipykernel_13828/2948192587.py, line 2)",
     "output_type": "error",
     "traceback": [
      "\u001b[1;36m  File \u001b[1;32m\"C:\\Users\\HP\\AppData\\Local\\Temp/ipykernel_13828/2948192587.py\"\u001b[1;36m, line \u001b[1;32m2\u001b[0m\n\u001b[1;33m    string1.find('a')\u001b[0m\n\u001b[1;37m    ^\u001b[0m\n\u001b[1;31mIndentationError\u001b[0m\u001b[1;31m:\u001b[0m unexpected indent\n"
     ]
    }
   ],
   "source": [
    "string1=\"I am pandit Vishal sharma\"\n",
    "    string1.find('a')"
   ]
  },
  {
   "cell_type": "code",
   "execution_count": null,
   "id": "d52c8b44",
   "metadata": {},
   "outputs": [],
   "source": []
  },
  {
   "cell_type": "code",
   "execution_count": null,
   "id": "95c94b7f",
   "metadata": {},
   "outputs": [],
   "source": []
  }
 ],
 "metadata": {
  "kernelspec": {
   "display_name": "Python 3 (ipykernel)",
   "language": "python",
   "name": "python3"
  },
  "language_info": {
   "codemirror_mode": {
    "name": "ipython",
    "version": 3
   },
   "file_extension": ".py",
   "mimetype": "text/x-python",
   "name": "python",
   "nbconvert_exporter": "python",
   "pygments_lexer": "ipython3",
   "version": "3.9.7"
  }
 },
 "nbformat": 4,
 "nbformat_minor": 5
}
